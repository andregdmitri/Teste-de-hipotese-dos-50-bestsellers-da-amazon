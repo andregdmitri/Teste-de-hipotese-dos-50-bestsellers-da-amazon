{
  "nbformat": 4,
  "nbformat_minor": 0,
  "metadata": {
    "colab": {
      "name": "Medias_livros_amazon.ipynb",
      "provenance": [],
      "collapsed_sections": [],
      "toc_visible": true
    },
    "kernelspec": {
      "name": "python3",
      "display_name": "Python 3"
    },
    "language_info": {
      "name": "python"
    }
  },
  "cells": [
    {
      "cell_type": "code",
      "execution_count": null,
      "metadata": {
        "id": "aqbSeTgfuX5l",
        "colab": {
          "base_uri": "https://localhost:8080/"
        },
        "outputId": "4e454a86-ab16-4052-e5c6-6672e47064a0"
      },
      "outputs": [
        {
          "output_type": "stream",
          "name": "stdout",
          "text": [
            "Looking in indexes: https://pypi.org/simple, https://us-python.pkg.dev/colab-wheels/public/simple/\n",
            "Requirement already satisfied: fuzzywuzzy in /usr/local/lib/python3.7/dist-packages (0.18.0)\n"
          ]
        }
      ],
      "source": [
        "import pandas as pd\n",
        "import numpy as np\n",
        "import plotly.express as px\n",
        "import plotly.graph_objs as go\n",
        "import plotly.offline as pyo\n",
        "from google.colab import files\n",
        "from scipy import stats\n",
        "from scipy.stats import shapiro\n",
        "from scipy.stats import mannwhitneyu\n",
        "import plotly.figure_factory as ff\n",
        "import matplotlib.pyplot as plt\n",
        "url = 'https://drive.google.com/file/d/1kELozbBlpVFRq0chK1G6ALB6y8OMpgYS/view?usp=sharing'\n",
        "url= 'https://drive.google.com/uc?id=' + url.split('/')[-2]\n",
        "df = pd.read_csv(url)\n",
        "!pip install fuzzywuzzy"
      ]
    },
    {
      "cell_type": "markdown",
      "source": [
        "# Grupo\n",
        "**André Guarnier De Mitri - 11395579** \\\\\n",
        "**Rui Emanuel Lima Vieira - 11810182** \\\\\n",
        "**Luís Antonio Arruda Soares - 12559486**  \\\\\n",
        "**Maria Victória Brandão Barros - 12608692** \\\\\n"
      ],
      "metadata": {
        "id": "X_R69YQacllO"
      }
    },
    {
      "cell_type": "markdown",
      "source": [
        "# Informações básicas sobre os dados"
      ],
      "metadata": {
        "id": "gahHF6_8xjuI"
      }
    },
    {
      "cell_type": "code",
      "source": [
        "df.head()"
      ],
      "metadata": {
        "id": "Nji0qeIwvNdu",
        "colab": {
          "base_uri": "https://localhost:8080/",
          "height": 206
        },
        "outputId": "940cbf1a-1b99-494e-bbd9-20526660de44"
      },
      "execution_count": null,
      "outputs": [
        {
          "output_type": "execute_result",
          "data": {
            "text/plain": [
              "                                                Name  \\\n",
              "0                      10-Day Green Smoothie Cleanse   \n",
              "1                                  11/22/63: A Novel   \n",
              "2            12 Rules for Life: An Antidote to Chaos   \n",
              "3                             1984 (Signet Classics)   \n",
              "4  5,000 Awesome Facts (About Everything!) (Natio...   \n",
              "\n",
              "                     Author  User Rating  Reviews  Price  Year        Genre  \n",
              "0                  JJ Smith          4.7    17350      8  2016  Non Fiction  \n",
              "1              Stephen King          4.6     2052     22  2011      Fiction  \n",
              "2        Jordan B. Peterson          4.7    18979     15  2018  Non Fiction  \n",
              "3             George Orwell          4.7    21424      6  2017      Fiction  \n",
              "4  National Geographic Kids          4.8     7665     12  2019  Non Fiction  "
            ],
            "text/html": [
              "\n",
              "  <div id=\"df-f37431be-3110-49b8-9175-853681f9cf4a\">\n",
              "    <div class=\"colab-df-container\">\n",
              "      <div>\n",
              "<style scoped>\n",
              "    .dataframe tbody tr th:only-of-type {\n",
              "        vertical-align: middle;\n",
              "    }\n",
              "\n",
              "    .dataframe tbody tr th {\n",
              "        vertical-align: top;\n",
              "    }\n",
              "\n",
              "    .dataframe thead th {\n",
              "        text-align: right;\n",
              "    }\n",
              "</style>\n",
              "<table border=\"1\" class=\"dataframe\">\n",
              "  <thead>\n",
              "    <tr style=\"text-align: right;\">\n",
              "      <th></th>\n",
              "      <th>Name</th>\n",
              "      <th>Author</th>\n",
              "      <th>User Rating</th>\n",
              "      <th>Reviews</th>\n",
              "      <th>Price</th>\n",
              "      <th>Year</th>\n",
              "      <th>Genre</th>\n",
              "    </tr>\n",
              "  </thead>\n",
              "  <tbody>\n",
              "    <tr>\n",
              "      <th>0</th>\n",
              "      <td>10-Day Green Smoothie Cleanse</td>\n",
              "      <td>JJ Smith</td>\n",
              "      <td>4.7</td>\n",
              "      <td>17350</td>\n",
              "      <td>8</td>\n",
              "      <td>2016</td>\n",
              "      <td>Non Fiction</td>\n",
              "    </tr>\n",
              "    <tr>\n",
              "      <th>1</th>\n",
              "      <td>11/22/63: A Novel</td>\n",
              "      <td>Stephen King</td>\n",
              "      <td>4.6</td>\n",
              "      <td>2052</td>\n",
              "      <td>22</td>\n",
              "      <td>2011</td>\n",
              "      <td>Fiction</td>\n",
              "    </tr>\n",
              "    <tr>\n",
              "      <th>2</th>\n",
              "      <td>12 Rules for Life: An Antidote to Chaos</td>\n",
              "      <td>Jordan B. Peterson</td>\n",
              "      <td>4.7</td>\n",
              "      <td>18979</td>\n",
              "      <td>15</td>\n",
              "      <td>2018</td>\n",
              "      <td>Non Fiction</td>\n",
              "    </tr>\n",
              "    <tr>\n",
              "      <th>3</th>\n",
              "      <td>1984 (Signet Classics)</td>\n",
              "      <td>George Orwell</td>\n",
              "      <td>4.7</td>\n",
              "      <td>21424</td>\n",
              "      <td>6</td>\n",
              "      <td>2017</td>\n",
              "      <td>Fiction</td>\n",
              "    </tr>\n",
              "    <tr>\n",
              "      <th>4</th>\n",
              "      <td>5,000 Awesome Facts (About Everything!) (Natio...</td>\n",
              "      <td>National Geographic Kids</td>\n",
              "      <td>4.8</td>\n",
              "      <td>7665</td>\n",
              "      <td>12</td>\n",
              "      <td>2019</td>\n",
              "      <td>Non Fiction</td>\n",
              "    </tr>\n",
              "  </tbody>\n",
              "</table>\n",
              "</div>\n",
              "      <button class=\"colab-df-convert\" onclick=\"convertToInteractive('df-f37431be-3110-49b8-9175-853681f9cf4a')\"\n",
              "              title=\"Convert this dataframe to an interactive table.\"\n",
              "              style=\"display:none;\">\n",
              "        \n",
              "  <svg xmlns=\"http://www.w3.org/2000/svg\" height=\"24px\"viewBox=\"0 0 24 24\"\n",
              "       width=\"24px\">\n",
              "    <path d=\"M0 0h24v24H0V0z\" fill=\"none\"/>\n",
              "    <path d=\"M18.56 5.44l.94 2.06.94-2.06 2.06-.94-2.06-.94-.94-2.06-.94 2.06-2.06.94zm-11 1L8.5 8.5l.94-2.06 2.06-.94-2.06-.94L8.5 2.5l-.94 2.06-2.06.94zm10 10l.94 2.06.94-2.06 2.06-.94-2.06-.94-.94-2.06-.94 2.06-2.06.94z\"/><path d=\"M17.41 7.96l-1.37-1.37c-.4-.4-.92-.59-1.43-.59-.52 0-1.04.2-1.43.59L10.3 9.45l-7.72 7.72c-.78.78-.78 2.05 0 2.83L4 21.41c.39.39.9.59 1.41.59.51 0 1.02-.2 1.41-.59l7.78-7.78 2.81-2.81c.8-.78.8-2.07 0-2.86zM5.41 20L4 18.59l7.72-7.72 1.47 1.35L5.41 20z\"/>\n",
              "  </svg>\n",
              "      </button>\n",
              "      \n",
              "  <style>\n",
              "    .colab-df-container {\n",
              "      display:flex;\n",
              "      flex-wrap:wrap;\n",
              "      gap: 12px;\n",
              "    }\n",
              "\n",
              "    .colab-df-convert {\n",
              "      background-color: #E8F0FE;\n",
              "      border: none;\n",
              "      border-radius: 50%;\n",
              "      cursor: pointer;\n",
              "      display: none;\n",
              "      fill: #1967D2;\n",
              "      height: 32px;\n",
              "      padding: 0 0 0 0;\n",
              "      width: 32px;\n",
              "    }\n",
              "\n",
              "    .colab-df-convert:hover {\n",
              "      background-color: #E2EBFA;\n",
              "      box-shadow: 0px 1px 2px rgba(60, 64, 67, 0.3), 0px 1px 3px 1px rgba(60, 64, 67, 0.15);\n",
              "      fill: #174EA6;\n",
              "    }\n",
              "\n",
              "    [theme=dark] .colab-df-convert {\n",
              "      background-color: #3B4455;\n",
              "      fill: #D2E3FC;\n",
              "    }\n",
              "\n",
              "    [theme=dark] .colab-df-convert:hover {\n",
              "      background-color: #434B5C;\n",
              "      box-shadow: 0px 1px 3px 1px rgba(0, 0, 0, 0.15);\n",
              "      filter: drop-shadow(0px 1px 2px rgba(0, 0, 0, 0.3));\n",
              "      fill: #FFFFFF;\n",
              "    }\n",
              "  </style>\n",
              "\n",
              "      <script>\n",
              "        const buttonEl =\n",
              "          document.querySelector('#df-f37431be-3110-49b8-9175-853681f9cf4a button.colab-df-convert');\n",
              "        buttonEl.style.display =\n",
              "          google.colab.kernel.accessAllowed ? 'block' : 'none';\n",
              "\n",
              "        async function convertToInteractive(key) {\n",
              "          const element = document.querySelector('#df-f37431be-3110-49b8-9175-853681f9cf4a');\n",
              "          const dataTable =\n",
              "            await google.colab.kernel.invokeFunction('convertToInteractive',\n",
              "                                                     [key], {});\n",
              "          if (!dataTable) return;\n",
              "\n",
              "          const docLinkHtml = 'Like what you see? Visit the ' +\n",
              "            '<a target=\"_blank\" href=https://colab.research.google.com/notebooks/data_table.ipynb>data table notebook</a>'\n",
              "            + ' to learn more about interactive tables.';\n",
              "          element.innerHTML = '';\n",
              "          dataTable['output_type'] = 'display_data';\n",
              "          await google.colab.output.renderOutput(dataTable, element);\n",
              "          const docLink = document.createElement('div');\n",
              "          docLink.innerHTML = docLinkHtml;\n",
              "          element.appendChild(docLink);\n",
              "        }\n",
              "      </script>\n",
              "    </div>\n",
              "  </div>\n",
              "  "
            ]
          },
          "metadata": {},
          "execution_count": 89
        }
      ]
    },
    {
      "cell_type": "markdown",
      "source": [
        "## Tipos de dados"
      ],
      "metadata": {
        "id": "J1SujxUsOluO"
      }
    },
    {
      "cell_type": "code",
      "source": [
        "df.info()"
      ],
      "metadata": {
        "id": "0nHeF4vAw-66",
        "colab": {
          "base_uri": "https://localhost:8080/"
        },
        "outputId": "eee74cf4-8930-4a57-84c9-ef3d5cf0163c"
      },
      "execution_count": null,
      "outputs": [
        {
          "output_type": "stream",
          "name": "stdout",
          "text": [
            "<class 'pandas.core.frame.DataFrame'>\n",
            "RangeIndex: 550 entries, 0 to 549\n",
            "Data columns (total 7 columns):\n",
            " #   Column       Non-Null Count  Dtype  \n",
            "---  ------       --------------  -----  \n",
            " 0   Name         550 non-null    object \n",
            " 1   Author       550 non-null    object \n",
            " 2   User Rating  550 non-null    float64\n",
            " 3   Reviews      550 non-null    int64  \n",
            " 4   Price        550 non-null    int64  \n",
            " 5   Year         550 non-null    int64  \n",
            " 6   Genre        550 non-null    object \n",
            "dtypes: float64(1), int64(3), object(3)\n",
            "memory usage: 30.2+ KB\n"
          ]
        }
      ]
    },
    {
      "cell_type": "markdown",
      "source": [
        "- Podemos observar 3 colunas categóricas e 4 colunas quantitativas."
      ],
      "metadata": {
        "id": "trb1tdrKTY2y"
      }
    },
    {
      "cell_type": "markdown",
      "source": [
        "## Procurando valores nulos na amostra"
      ],
      "metadata": {
        "id": "e-8oEMJhOgJO"
      }
    },
    {
      "cell_type": "code",
      "source": [
        "df.isnull().sum()"
      ],
      "metadata": {
        "colab": {
          "base_uri": "https://localhost:8080/"
        },
        "id": "Nj1ThGpneZ91",
        "outputId": "b055cb36-d295-47d1-8fd0-6da1668950ac"
      },
      "execution_count": null,
      "outputs": [
        {
          "output_type": "execute_result",
          "data": {
            "text/plain": [
              "Name           0\n",
              "Author         0\n",
              "User Rating    0\n",
              "Reviews        0\n",
              "Price          0\n",
              "Year           0\n",
              "Genre          0\n",
              "dtype: int64"
            ]
          },
          "metadata": {},
          "execution_count": 91
        }
      ]
    },
    {
      "cell_type": "markdown",
      "source": [
        "- Não há valores nulos na amostra"
      ],
      "metadata": {
        "id": "8aDE2ySpfRsC"
      }
    },
    {
      "cell_type": "markdown",
      "source": [
        "# Tratando valores duplicados"
      ],
      "metadata": {
        "id": "jmNdVDU6PNMl"
      }
    },
    {
      "cell_type": "code",
      "source": [
        "coluna_categorica = list(df.select_dtypes(exclude=('int', 'float')).columns)\n",
        "print(f'Dados categoricos: {\", \".join(coluna_categorica)}.')\n",
        "for col in coluna_categorica:\n",
        "    if df[col].duplicated().any() == True:\n",
        "        print (f'Coluna {col} contem dados duplicados.')\n",
        "    else:\n",
        "        print (f'Coluna {col} não contem dados duplicados.')"
      ],
      "metadata": {
        "colab": {
          "base_uri": "https://localhost:8080/"
        },
        "id": "9DaZaeQKVK3U",
        "outputId": "8336cbd0-4484-437d-ddc3-2d62a3af6243"
      },
      "execution_count": null,
      "outputs": [
        {
          "output_type": "stream",
          "name": "stdout",
          "text": [
            "Dados categoricos: Name, Author, Genre.\n",
            "Coluna Name contem dados duplicados.\n",
            "Coluna Author contem dados duplicados.\n",
            "Coluna Genre contem dados duplicados.\n"
          ]
        }
      ]
    },
    {
      "cell_type": "code",
      "source": [
        "df.Genre.unique()"
      ],
      "metadata": {
        "colab": {
          "base_uri": "https://localhost:8080/"
        },
        "id": "RffR9EVHSoG3",
        "outputId": "c77a6e3e-534b-44a4-c8a2-915e4c4d092e"
      },
      "execution_count": null,
      "outputs": [
        {
          "output_type": "execute_result",
          "data": {
            "text/plain": [
              "array(['Non Fiction', 'Fiction'], dtype=object)"
            ]
          },
          "metadata": {},
          "execution_count": 93
        }
      ]
    },
    {
      "cell_type": "markdown",
      "source": [
        "- Genero não precisa ser atualizado"
      ],
      "metadata": {
        "id": "UO8N5R3OSrMv"
      }
    },
    {
      "cell_type": "markdown",
      "source": [
        "Atualizando os nomes para que, por exemplo, \"  J. K  \" seja igual a \"J. K.\""
      ],
      "metadata": {
        "id": "5CCwzpETMYEM"
      }
    },
    {
      "cell_type": "code",
      "source": [
        "df.Author = df.Author.str.title().str.strip()\n",
        "df.Name = df.Name.str.title().str.strip()"
      ],
      "metadata": {
        "id": "s_FS2zbDZEXm"
      },
      "execution_count": null,
      "outputs": []
    },
    {
      "cell_type": "markdown",
      "source": [
        "### Importando uma biblioteca para arrumar nomes incoerentes"
      ],
      "metadata": {
        "id": "ad8utLa4Z9XG"
      }
    },
    {
      "cell_type": "code",
      "source": [
        "import fuzzywuzzy\n",
        "from fuzzywuzzy import process"
      ],
      "metadata": {
        "id": "bNmuEM1pZ-At"
      },
      "execution_count": null,
      "outputs": []
    },
    {
      "cell_type": "markdown",
      "source": [
        "\"George R.R. Martin\" precisa ser igual a \"George R.R. Martin\" \\\\\n",
        "\"J.K. Rowling\" precisa ser igual a \"J. K. Rowling\""
      ],
      "metadata": {
        "id": "dSTkRI2n8TK8"
      }
    },
    {
      "cell_type": "code",
      "source": [
        "authors = df.Author.sort_values().unique()\n",
        "matches_author_name = fuzzywuzzy.process.extract('George R.R. Martin', authors, limit=5, scorer=fuzzywuzzy.fuzz.token_sort_ratio)\n",
        "matches_author_name"
      ],
      "metadata": {
        "colab": {
          "base_uri": "https://localhost:8080/"
        },
        "id": "pX4Q3xC3dMAU",
        "outputId": "f8c75fb5-26f8-49c6-920d-f8523ddaf710"
      },
      "execution_count": null,
      "outputs": [
        {
          "output_type": "execute_result",
          "data": {
            "text/plain": [
              "[('George R. R. Martin', 100),\n",
              " ('George R.R. Martin', 100),\n",
              " ('George Orwell', 53),\n",
              " ('Bill Martin Jr.', 52),\n",
              " ('Mark R. Levin', 48)]"
            ]
          },
          "metadata": {},
          "execution_count": 96
        }
      ]
    },
    {
      "cell_type": "code",
      "source": [
        "df = df.replace('George R. R. Martin', 'George R.R. Martin')\n",
        "df = df.replace('J. K. Rowling', 'J.K. Rowling')"
      ],
      "metadata": {
        "id": "pMc23dHWPq0c"
      },
      "execution_count": null,
      "outputs": []
    },
    {
      "cell_type": "markdown",
      "source": [
        "## Removendo livros repetidos"
      ],
      "metadata": {
        "id": "-drOCz5s8s_4"
      }
    },
    {
      "cell_type": "markdown",
      "source": [
        "Há livros repetidos em que a única mudança é o ano que ele participou dos 50 best sellers."
      ],
      "metadata": {
        "id": "BFtQp5NZOGPP"
      }
    },
    {
      "cell_type": "code",
      "source": [
        "df.tail()"
      ],
      "metadata": {
        "colab": {
          "base_uri": "https://localhost:8080/",
          "height": 206
        },
        "id": "IXlfO7X2ZeHq",
        "outputId": "d1779f93-b2bf-48a4-824b-1b9f324875d4"
      },
      "execution_count": null,
      "outputs": [
        {
          "output_type": "execute_result",
          "data": {
            "text/plain": [
              "                                                  Name       Author  \\\n",
              "545       Wrecking Ball (Diary Of A Wimpy Kid Book 14)  Jeff Kinney   \n",
              "546  You Are A Badass: How To Stop Doubting Your Gr...  Jen Sincero   \n",
              "547  You Are A Badass: How To Stop Doubting Your Gr...  Jen Sincero   \n",
              "548  You Are A Badass: How To Stop Doubting Your Gr...  Jen Sincero   \n",
              "549  You Are A Badass: How To Stop Doubting Your Gr...  Jen Sincero   \n",
              "\n",
              "     User Rating  Reviews  Price  Year        Genre  \n",
              "545          4.9     9413      8  2019      Fiction  \n",
              "546          4.7    14331      8  2016  Non Fiction  \n",
              "547          4.7    14331      8  2017  Non Fiction  \n",
              "548          4.7    14331      8  2018  Non Fiction  \n",
              "549          4.7    14331      8  2019  Non Fiction  "
            ],
            "text/html": [
              "\n",
              "  <div id=\"df-0d6c369f-2062-4500-9b9c-33fc01153ef8\">\n",
              "    <div class=\"colab-df-container\">\n",
              "      <div>\n",
              "<style scoped>\n",
              "    .dataframe tbody tr th:only-of-type {\n",
              "        vertical-align: middle;\n",
              "    }\n",
              "\n",
              "    .dataframe tbody tr th {\n",
              "        vertical-align: top;\n",
              "    }\n",
              "\n",
              "    .dataframe thead th {\n",
              "        text-align: right;\n",
              "    }\n",
              "</style>\n",
              "<table border=\"1\" class=\"dataframe\">\n",
              "  <thead>\n",
              "    <tr style=\"text-align: right;\">\n",
              "      <th></th>\n",
              "      <th>Name</th>\n",
              "      <th>Author</th>\n",
              "      <th>User Rating</th>\n",
              "      <th>Reviews</th>\n",
              "      <th>Price</th>\n",
              "      <th>Year</th>\n",
              "      <th>Genre</th>\n",
              "    </tr>\n",
              "  </thead>\n",
              "  <tbody>\n",
              "    <tr>\n",
              "      <th>545</th>\n",
              "      <td>Wrecking Ball (Diary Of A Wimpy Kid Book 14)</td>\n",
              "      <td>Jeff Kinney</td>\n",
              "      <td>4.9</td>\n",
              "      <td>9413</td>\n",
              "      <td>8</td>\n",
              "      <td>2019</td>\n",
              "      <td>Fiction</td>\n",
              "    </tr>\n",
              "    <tr>\n",
              "      <th>546</th>\n",
              "      <td>You Are A Badass: How To Stop Doubting Your Gr...</td>\n",
              "      <td>Jen Sincero</td>\n",
              "      <td>4.7</td>\n",
              "      <td>14331</td>\n",
              "      <td>8</td>\n",
              "      <td>2016</td>\n",
              "      <td>Non Fiction</td>\n",
              "    </tr>\n",
              "    <tr>\n",
              "      <th>547</th>\n",
              "      <td>You Are A Badass: How To Stop Doubting Your Gr...</td>\n",
              "      <td>Jen Sincero</td>\n",
              "      <td>4.7</td>\n",
              "      <td>14331</td>\n",
              "      <td>8</td>\n",
              "      <td>2017</td>\n",
              "      <td>Non Fiction</td>\n",
              "    </tr>\n",
              "    <tr>\n",
              "      <th>548</th>\n",
              "      <td>You Are A Badass: How To Stop Doubting Your Gr...</td>\n",
              "      <td>Jen Sincero</td>\n",
              "      <td>4.7</td>\n",
              "      <td>14331</td>\n",
              "      <td>8</td>\n",
              "      <td>2018</td>\n",
              "      <td>Non Fiction</td>\n",
              "    </tr>\n",
              "    <tr>\n",
              "      <th>549</th>\n",
              "      <td>You Are A Badass: How To Stop Doubting Your Gr...</td>\n",
              "      <td>Jen Sincero</td>\n",
              "      <td>4.7</td>\n",
              "      <td>14331</td>\n",
              "      <td>8</td>\n",
              "      <td>2019</td>\n",
              "      <td>Non Fiction</td>\n",
              "    </tr>\n",
              "  </tbody>\n",
              "</table>\n",
              "</div>\n",
              "      <button class=\"colab-df-convert\" onclick=\"convertToInteractive('df-0d6c369f-2062-4500-9b9c-33fc01153ef8')\"\n",
              "              title=\"Convert this dataframe to an interactive table.\"\n",
              "              style=\"display:none;\">\n",
              "        \n",
              "  <svg xmlns=\"http://www.w3.org/2000/svg\" height=\"24px\"viewBox=\"0 0 24 24\"\n",
              "       width=\"24px\">\n",
              "    <path d=\"M0 0h24v24H0V0z\" fill=\"none\"/>\n",
              "    <path d=\"M18.56 5.44l.94 2.06.94-2.06 2.06-.94-2.06-.94-.94-2.06-.94 2.06-2.06.94zm-11 1L8.5 8.5l.94-2.06 2.06-.94-2.06-.94L8.5 2.5l-.94 2.06-2.06.94zm10 10l.94 2.06.94-2.06 2.06-.94-2.06-.94-.94-2.06-.94 2.06-2.06.94z\"/><path d=\"M17.41 7.96l-1.37-1.37c-.4-.4-.92-.59-1.43-.59-.52 0-1.04.2-1.43.59L10.3 9.45l-7.72 7.72c-.78.78-.78 2.05 0 2.83L4 21.41c.39.39.9.59 1.41.59.51 0 1.02-.2 1.41-.59l7.78-7.78 2.81-2.81c.8-.78.8-2.07 0-2.86zM5.41 20L4 18.59l7.72-7.72 1.47 1.35L5.41 20z\"/>\n",
              "  </svg>\n",
              "      </button>\n",
              "      \n",
              "  <style>\n",
              "    .colab-df-container {\n",
              "      display:flex;\n",
              "      flex-wrap:wrap;\n",
              "      gap: 12px;\n",
              "    }\n",
              "\n",
              "    .colab-df-convert {\n",
              "      background-color: #E8F0FE;\n",
              "      border: none;\n",
              "      border-radius: 50%;\n",
              "      cursor: pointer;\n",
              "      display: none;\n",
              "      fill: #1967D2;\n",
              "      height: 32px;\n",
              "      padding: 0 0 0 0;\n",
              "      width: 32px;\n",
              "    }\n",
              "\n",
              "    .colab-df-convert:hover {\n",
              "      background-color: #E2EBFA;\n",
              "      box-shadow: 0px 1px 2px rgba(60, 64, 67, 0.3), 0px 1px 3px 1px rgba(60, 64, 67, 0.15);\n",
              "      fill: #174EA6;\n",
              "    }\n",
              "\n",
              "    [theme=dark] .colab-df-convert {\n",
              "      background-color: #3B4455;\n",
              "      fill: #D2E3FC;\n",
              "    }\n",
              "\n",
              "    [theme=dark] .colab-df-convert:hover {\n",
              "      background-color: #434B5C;\n",
              "      box-shadow: 0px 1px 3px 1px rgba(0, 0, 0, 0.15);\n",
              "      filter: drop-shadow(0px 1px 2px rgba(0, 0, 0, 0.3));\n",
              "      fill: #FFFFFF;\n",
              "    }\n",
              "  </style>\n",
              "\n",
              "      <script>\n",
              "        const buttonEl =\n",
              "          document.querySelector('#df-0d6c369f-2062-4500-9b9c-33fc01153ef8 button.colab-df-convert');\n",
              "        buttonEl.style.display =\n",
              "          google.colab.kernel.accessAllowed ? 'block' : 'none';\n",
              "\n",
              "        async function convertToInteractive(key) {\n",
              "          const element = document.querySelector('#df-0d6c369f-2062-4500-9b9c-33fc01153ef8');\n",
              "          const dataTable =\n",
              "            await google.colab.kernel.invokeFunction('convertToInteractive',\n",
              "                                                     [key], {});\n",
              "          if (!dataTable) return;\n",
              "\n",
              "          const docLinkHtml = 'Like what you see? Visit the ' +\n",
              "            '<a target=\"_blank\" href=https://colab.research.google.com/notebooks/data_table.ipynb>data table notebook</a>'\n",
              "            + ' to learn more about interactive tables.';\n",
              "          element.innerHTML = '';\n",
              "          dataTable['output_type'] = 'display_data';\n",
              "          await google.colab.output.renderOutput(dataTable, element);\n",
              "          const docLink = document.createElement('div');\n",
              "          docLink.innerHTML = docLinkHtml;\n",
              "          element.appendChild(docLink);\n",
              "        }\n",
              "      </script>\n",
              "    </div>\n",
              "  </div>\n",
              "  "
            ]
          },
          "metadata": {},
          "execution_count": 98
        }
      ]
    },
    {
      "cell_type": "markdown",
      "source": [
        "Vamos remover essas repetições, deixando apenas o último ano. Isso impedirá que esses dados duplicados atrapalhem nossa análise."
      ],
      "metadata": {
        "id": "ffLg39XQ9w1Z"
      }
    },
    {
      "cell_type": "code",
      "source": [
        "df_com_repeticoes = df\n",
        "df = df.drop_duplicates(subset='Name', keep='last')\n",
        "df.tail()"
      ],
      "metadata": {
        "colab": {
          "base_uri": "https://localhost:8080/",
          "height": 206
        },
        "id": "i0UrpBsG5oA4",
        "outputId": "4406ca8b-1254-485c-cb4c-48004f26ef47"
      },
      "execution_count": null,
      "outputs": [
        {
          "output_type": "execute_result",
          "data": {
            "text/plain": [
              "                                                  Name         Author  \\\n",
              "538  Winter Of The World: Book Two Of The Century T...    Ken Follett   \n",
              "539  Women Food And God: An Unexpected Path To Almo...    Geneen Roth   \n",
              "544                                             Wonder  R. J. Palacio   \n",
              "545       Wrecking Ball (Diary Of A Wimpy Kid Book 14)    Jeff Kinney   \n",
              "549  You Are A Badass: How To Stop Doubting Your Gr...    Jen Sincero   \n",
              "\n",
              "     User Rating  Reviews  Price  Year        Genre  \n",
              "538          4.5    10760     15  2012      Fiction  \n",
              "539          4.2     1302     11  2010  Non Fiction  \n",
              "544          4.8    21625      9  2017      Fiction  \n",
              "545          4.9     9413      8  2019      Fiction  \n",
              "549          4.7    14331      8  2019  Non Fiction  "
            ],
            "text/html": [
              "\n",
              "  <div id=\"df-c50cd9f9-0f98-4d48-a654-8206c7f4c1a3\">\n",
              "    <div class=\"colab-df-container\">\n",
              "      <div>\n",
              "<style scoped>\n",
              "    .dataframe tbody tr th:only-of-type {\n",
              "        vertical-align: middle;\n",
              "    }\n",
              "\n",
              "    .dataframe tbody tr th {\n",
              "        vertical-align: top;\n",
              "    }\n",
              "\n",
              "    .dataframe thead th {\n",
              "        text-align: right;\n",
              "    }\n",
              "</style>\n",
              "<table border=\"1\" class=\"dataframe\">\n",
              "  <thead>\n",
              "    <tr style=\"text-align: right;\">\n",
              "      <th></th>\n",
              "      <th>Name</th>\n",
              "      <th>Author</th>\n",
              "      <th>User Rating</th>\n",
              "      <th>Reviews</th>\n",
              "      <th>Price</th>\n",
              "      <th>Year</th>\n",
              "      <th>Genre</th>\n",
              "    </tr>\n",
              "  </thead>\n",
              "  <tbody>\n",
              "    <tr>\n",
              "      <th>538</th>\n",
              "      <td>Winter Of The World: Book Two Of The Century T...</td>\n",
              "      <td>Ken Follett</td>\n",
              "      <td>4.5</td>\n",
              "      <td>10760</td>\n",
              "      <td>15</td>\n",
              "      <td>2012</td>\n",
              "      <td>Fiction</td>\n",
              "    </tr>\n",
              "    <tr>\n",
              "      <th>539</th>\n",
              "      <td>Women Food And God: An Unexpected Path To Almo...</td>\n",
              "      <td>Geneen Roth</td>\n",
              "      <td>4.2</td>\n",
              "      <td>1302</td>\n",
              "      <td>11</td>\n",
              "      <td>2010</td>\n",
              "      <td>Non Fiction</td>\n",
              "    </tr>\n",
              "    <tr>\n",
              "      <th>544</th>\n",
              "      <td>Wonder</td>\n",
              "      <td>R. J. Palacio</td>\n",
              "      <td>4.8</td>\n",
              "      <td>21625</td>\n",
              "      <td>9</td>\n",
              "      <td>2017</td>\n",
              "      <td>Fiction</td>\n",
              "    </tr>\n",
              "    <tr>\n",
              "      <th>545</th>\n",
              "      <td>Wrecking Ball (Diary Of A Wimpy Kid Book 14)</td>\n",
              "      <td>Jeff Kinney</td>\n",
              "      <td>4.9</td>\n",
              "      <td>9413</td>\n",
              "      <td>8</td>\n",
              "      <td>2019</td>\n",
              "      <td>Fiction</td>\n",
              "    </tr>\n",
              "    <tr>\n",
              "      <th>549</th>\n",
              "      <td>You Are A Badass: How To Stop Doubting Your Gr...</td>\n",
              "      <td>Jen Sincero</td>\n",
              "      <td>4.7</td>\n",
              "      <td>14331</td>\n",
              "      <td>8</td>\n",
              "      <td>2019</td>\n",
              "      <td>Non Fiction</td>\n",
              "    </tr>\n",
              "  </tbody>\n",
              "</table>\n",
              "</div>\n",
              "      <button class=\"colab-df-convert\" onclick=\"convertToInteractive('df-c50cd9f9-0f98-4d48-a654-8206c7f4c1a3')\"\n",
              "              title=\"Convert this dataframe to an interactive table.\"\n",
              "              style=\"display:none;\">\n",
              "        \n",
              "  <svg xmlns=\"http://www.w3.org/2000/svg\" height=\"24px\"viewBox=\"0 0 24 24\"\n",
              "       width=\"24px\">\n",
              "    <path d=\"M0 0h24v24H0V0z\" fill=\"none\"/>\n",
              "    <path d=\"M18.56 5.44l.94 2.06.94-2.06 2.06-.94-2.06-.94-.94-2.06-.94 2.06-2.06.94zm-11 1L8.5 8.5l.94-2.06 2.06-.94-2.06-.94L8.5 2.5l-.94 2.06-2.06.94zm10 10l.94 2.06.94-2.06 2.06-.94-2.06-.94-.94-2.06-.94 2.06-2.06.94z\"/><path d=\"M17.41 7.96l-1.37-1.37c-.4-.4-.92-.59-1.43-.59-.52 0-1.04.2-1.43.59L10.3 9.45l-7.72 7.72c-.78.78-.78 2.05 0 2.83L4 21.41c.39.39.9.59 1.41.59.51 0 1.02-.2 1.41-.59l7.78-7.78 2.81-2.81c.8-.78.8-2.07 0-2.86zM5.41 20L4 18.59l7.72-7.72 1.47 1.35L5.41 20z\"/>\n",
              "  </svg>\n",
              "      </button>\n",
              "      \n",
              "  <style>\n",
              "    .colab-df-container {\n",
              "      display:flex;\n",
              "      flex-wrap:wrap;\n",
              "      gap: 12px;\n",
              "    }\n",
              "\n",
              "    .colab-df-convert {\n",
              "      background-color: #E8F0FE;\n",
              "      border: none;\n",
              "      border-radius: 50%;\n",
              "      cursor: pointer;\n",
              "      display: none;\n",
              "      fill: #1967D2;\n",
              "      height: 32px;\n",
              "      padding: 0 0 0 0;\n",
              "      width: 32px;\n",
              "    }\n",
              "\n",
              "    .colab-df-convert:hover {\n",
              "      background-color: #E2EBFA;\n",
              "      box-shadow: 0px 1px 2px rgba(60, 64, 67, 0.3), 0px 1px 3px 1px rgba(60, 64, 67, 0.15);\n",
              "      fill: #174EA6;\n",
              "    }\n",
              "\n",
              "    [theme=dark] .colab-df-convert {\n",
              "      background-color: #3B4455;\n",
              "      fill: #D2E3FC;\n",
              "    }\n",
              "\n",
              "    [theme=dark] .colab-df-convert:hover {\n",
              "      background-color: #434B5C;\n",
              "      box-shadow: 0px 1px 3px 1px rgba(0, 0, 0, 0.15);\n",
              "      filter: drop-shadow(0px 1px 2px rgba(0, 0, 0, 0.3));\n",
              "      fill: #FFFFFF;\n",
              "    }\n",
              "  </style>\n",
              "\n",
              "      <script>\n",
              "        const buttonEl =\n",
              "          document.querySelector('#df-c50cd9f9-0f98-4d48-a654-8206c7f4c1a3 button.colab-df-convert');\n",
              "        buttonEl.style.display =\n",
              "          google.colab.kernel.accessAllowed ? 'block' : 'none';\n",
              "\n",
              "        async function convertToInteractive(key) {\n",
              "          const element = document.querySelector('#df-c50cd9f9-0f98-4d48-a654-8206c7f4c1a3');\n",
              "          const dataTable =\n",
              "            await google.colab.kernel.invokeFunction('convertToInteractive',\n",
              "                                                     [key], {});\n",
              "          if (!dataTable) return;\n",
              "\n",
              "          const docLinkHtml = 'Like what you see? Visit the ' +\n",
              "            '<a target=\"_blank\" href=https://colab.research.google.com/notebooks/data_table.ipynb>data table notebook</a>'\n",
              "            + ' to learn more about interactive tables.';\n",
              "          element.innerHTML = '';\n",
              "          dataTable['output_type'] = 'display_data';\n",
              "          await google.colab.output.renderOutput(dataTable, element);\n",
              "          const docLink = document.createElement('div');\n",
              "          docLink.innerHTML = docLinkHtml;\n",
              "          element.appendChild(docLink);\n",
              "        }\n",
              "      </script>\n",
              "    </div>\n",
              "  </div>\n",
              "  "
            ]
          },
          "metadata": {},
          "execution_count": 99
        }
      ]
    },
    {
      "cell_type": "markdown",
      "source": [
        "# Visualização dos dados"
      ],
      "metadata": {
        "id": "GXEgs4tq9Xdk"
      }
    },
    {
      "cell_type": "markdown",
      "source": [
        "Contagem de livros de cada gênero"
      ],
      "metadata": {
        "id": "PtoF0j208FpC"
      }
    },
    {
      "cell_type": "code",
      "source": [
        "df['Genre'].value_counts()"
      ],
      "metadata": {
        "colab": {
          "base_uri": "https://localhost:8080/"
        },
        "outputId": "a897ee82-16ec-4ad3-e245-dc72d613c67f",
        "id": "4hOtIpiP8FpH"
      },
      "execution_count": null,
      "outputs": [
        {
          "output_type": "execute_result",
          "data": {
            "text/plain": [
              "Non Fiction    190\n",
              "Fiction        160\n",
              "Name: Genre, dtype: int64"
            ]
          },
          "metadata": {},
          "execution_count": 100
        }
      ]
    },
    {
      "cell_type": "markdown",
      "source": [
        "## Visualizando a contagem de livros por gênero\n"
      ],
      "metadata": {
        "id": "kGjanv_HRh5e"
      }
    },
    {
      "cell_type": "code",
      "source": [
        "temp_df = df_com_repeticoes['Genre'].value_counts().reset_index()\n",
        "fig = px.pie(temp_df, values='Genre', \n",
        "             hover_data=['Genre'], labels={'Genre':'Numero de livros', 'index':'Genero'},\n",
        "             names='index',\n",
        "             title=\"Há mais livros de Não Ficção do que de Ficção\", \n",
        "             template=\"plotly_dark\")\n",
        "fig.show()"
      ],
      "metadata": {
        "colab": {
          "base_uri": "https://localhost:8080/",
          "height": 542
        },
        "outputId": "3fbab22f-5db3-48ec-fa73-0e13c4ed12d8",
        "id": "81b2nyxDRh5j"
      },
      "execution_count": null,
      "outputs": [
        {
          "output_type": "display_data",
          "data": {
            "text/html": [
              "<html>\n",
              "<head><meta charset=\"utf-8\" /></head>\n",
              "<body>\n",
              "    <div>            <script src=\"https://cdnjs.cloudflare.com/ajax/libs/mathjax/2.7.5/MathJax.js?config=TeX-AMS-MML_SVG\"></script><script type=\"text/javascript\">if (window.MathJax) {MathJax.Hub.Config({SVG: {font: \"STIX-Web\"}});}</script>                <script type=\"text/javascript\">window.PlotlyConfig = {MathJaxConfig: 'local'};</script>\n",
              "        <script src=\"https://cdn.plot.ly/plotly-2.8.3.min.js\"></script>                <div id=\"3ea367aa-b26d-48ab-860e-32c09a9bc07b\" class=\"plotly-graph-div\" style=\"height:525px; width:100%;\"></div>            <script type=\"text/javascript\">                                    window.PLOTLYENV=window.PLOTLYENV || {};                                    if (document.getElementById(\"3ea367aa-b26d-48ab-860e-32c09a9bc07b\")) {                    Plotly.newPlot(                        \"3ea367aa-b26d-48ab-860e-32c09a9bc07b\",                        [{\"customdata\":[[310],[240]],\"domain\":{\"x\":[0.0,1.0],\"y\":[0.0,1.0]},\"hovertemplate\":\"Genero=%{label}<br>Numero de livros=%{customdata[0]}<extra></extra>\",\"labels\":[\"Non Fiction\",\"Fiction\"],\"legendgroup\":\"\",\"name\":\"\",\"showlegend\":true,\"values\":[310,240],\"type\":\"pie\"}],                        {\"template\":{\"data\":{\"barpolar\":[{\"marker\":{\"line\":{\"color\":\"rgb(17,17,17)\",\"width\":0.5},\"pattern\":{\"fillmode\":\"overlay\",\"size\":10,\"solidity\":0.2}},\"type\":\"barpolar\"}],\"bar\":[{\"error_x\":{\"color\":\"#f2f5fa\"},\"error_y\":{\"color\":\"#f2f5fa\"},\"marker\":{\"line\":{\"color\":\"rgb(17,17,17)\",\"width\":0.5},\"pattern\":{\"fillmode\":\"overlay\",\"size\":10,\"solidity\":0.2}},\"type\":\"bar\"}],\"carpet\":[{\"aaxis\":{\"endlinecolor\":\"#A2B1C6\",\"gridcolor\":\"#506784\",\"linecolor\":\"#506784\",\"minorgridcolor\":\"#506784\",\"startlinecolor\":\"#A2B1C6\"},\"baxis\":{\"endlinecolor\":\"#A2B1C6\",\"gridcolor\":\"#506784\",\"linecolor\":\"#506784\",\"minorgridcolor\":\"#506784\",\"startlinecolor\":\"#A2B1C6\"},\"type\":\"carpet\"}],\"choropleth\":[{\"colorbar\":{\"outlinewidth\":0,\"ticks\":\"\"},\"type\":\"choropleth\"}],\"contourcarpet\":[{\"colorbar\":{\"outlinewidth\":0,\"ticks\":\"\"},\"type\":\"contourcarpet\"}],\"contour\":[{\"colorbar\":{\"outlinewidth\":0,\"ticks\":\"\"},\"colorscale\":[[0.0,\"#0d0887\"],[0.1111111111111111,\"#46039f\"],[0.2222222222222222,\"#7201a8\"],[0.3333333333333333,\"#9c179e\"],[0.4444444444444444,\"#bd3786\"],[0.5555555555555556,\"#d8576b\"],[0.6666666666666666,\"#ed7953\"],[0.7777777777777778,\"#fb9f3a\"],[0.8888888888888888,\"#fdca26\"],[1.0,\"#f0f921\"]],\"type\":\"contour\"}],\"heatmapgl\":[{\"colorbar\":{\"outlinewidth\":0,\"ticks\":\"\"},\"colorscale\":[[0.0,\"#0d0887\"],[0.1111111111111111,\"#46039f\"],[0.2222222222222222,\"#7201a8\"],[0.3333333333333333,\"#9c179e\"],[0.4444444444444444,\"#bd3786\"],[0.5555555555555556,\"#d8576b\"],[0.6666666666666666,\"#ed7953\"],[0.7777777777777778,\"#fb9f3a\"],[0.8888888888888888,\"#fdca26\"],[1.0,\"#f0f921\"]],\"type\":\"heatmapgl\"}],\"heatmap\":[{\"colorbar\":{\"outlinewidth\":0,\"ticks\":\"\"},\"colorscale\":[[0.0,\"#0d0887\"],[0.1111111111111111,\"#46039f\"],[0.2222222222222222,\"#7201a8\"],[0.3333333333333333,\"#9c179e\"],[0.4444444444444444,\"#bd3786\"],[0.5555555555555556,\"#d8576b\"],[0.6666666666666666,\"#ed7953\"],[0.7777777777777778,\"#fb9f3a\"],[0.8888888888888888,\"#fdca26\"],[1.0,\"#f0f921\"]],\"type\":\"heatmap\"}],\"histogram2dcontour\":[{\"colorbar\":{\"outlinewidth\":0,\"ticks\":\"\"},\"colorscale\":[[0.0,\"#0d0887\"],[0.1111111111111111,\"#46039f\"],[0.2222222222222222,\"#7201a8\"],[0.3333333333333333,\"#9c179e\"],[0.4444444444444444,\"#bd3786\"],[0.5555555555555556,\"#d8576b\"],[0.6666666666666666,\"#ed7953\"],[0.7777777777777778,\"#fb9f3a\"],[0.8888888888888888,\"#fdca26\"],[1.0,\"#f0f921\"]],\"type\":\"histogram2dcontour\"}],\"histogram2d\":[{\"colorbar\":{\"outlinewidth\":0,\"ticks\":\"\"},\"colorscale\":[[0.0,\"#0d0887\"],[0.1111111111111111,\"#46039f\"],[0.2222222222222222,\"#7201a8\"],[0.3333333333333333,\"#9c179e\"],[0.4444444444444444,\"#bd3786\"],[0.5555555555555556,\"#d8576b\"],[0.6666666666666666,\"#ed7953\"],[0.7777777777777778,\"#fb9f3a\"],[0.8888888888888888,\"#fdca26\"],[1.0,\"#f0f921\"]],\"type\":\"histogram2d\"}],\"histogram\":[{\"marker\":{\"pattern\":{\"fillmode\":\"overlay\",\"size\":10,\"solidity\":0.2}},\"type\":\"histogram\"}],\"mesh3d\":[{\"colorbar\":{\"outlinewidth\":0,\"ticks\":\"\"},\"type\":\"mesh3d\"}],\"parcoords\":[{\"line\":{\"colorbar\":{\"outlinewidth\":0,\"ticks\":\"\"}},\"type\":\"parcoords\"}],\"pie\":[{\"automargin\":true,\"type\":\"pie\"}],\"scatter3d\":[{\"line\":{\"colorbar\":{\"outlinewidth\":0,\"ticks\":\"\"}},\"marker\":{\"colorbar\":{\"outlinewidth\":0,\"ticks\":\"\"}},\"type\":\"scatter3d\"}],\"scattercarpet\":[{\"marker\":{\"colorbar\":{\"outlinewidth\":0,\"ticks\":\"\"}},\"type\":\"scattercarpet\"}],\"scattergeo\":[{\"marker\":{\"colorbar\":{\"outlinewidth\":0,\"ticks\":\"\"}},\"type\":\"scattergeo\"}],\"scattergl\":[{\"marker\":{\"line\":{\"color\":\"#283442\"}},\"type\":\"scattergl\"}],\"scattermapbox\":[{\"marker\":{\"colorbar\":{\"outlinewidth\":0,\"ticks\":\"\"}},\"type\":\"scattermapbox\"}],\"scatterpolargl\":[{\"marker\":{\"colorbar\":{\"outlinewidth\":0,\"ticks\":\"\"}},\"type\":\"scatterpolargl\"}],\"scatterpolar\":[{\"marker\":{\"colorbar\":{\"outlinewidth\":0,\"ticks\":\"\"}},\"type\":\"scatterpolar\"}],\"scatter\":[{\"marker\":{\"line\":{\"color\":\"#283442\"}},\"type\":\"scatter\"}],\"scatterternary\":[{\"marker\":{\"colorbar\":{\"outlinewidth\":0,\"ticks\":\"\"}},\"type\":\"scatterternary\"}],\"surface\":[{\"colorbar\":{\"outlinewidth\":0,\"ticks\":\"\"},\"colorscale\":[[0.0,\"#0d0887\"],[0.1111111111111111,\"#46039f\"],[0.2222222222222222,\"#7201a8\"],[0.3333333333333333,\"#9c179e\"],[0.4444444444444444,\"#bd3786\"],[0.5555555555555556,\"#d8576b\"],[0.6666666666666666,\"#ed7953\"],[0.7777777777777778,\"#fb9f3a\"],[0.8888888888888888,\"#fdca26\"],[1.0,\"#f0f921\"]],\"type\":\"surface\"}],\"table\":[{\"cells\":{\"fill\":{\"color\":\"#506784\"},\"line\":{\"color\":\"rgb(17,17,17)\"}},\"header\":{\"fill\":{\"color\":\"#2a3f5f\"},\"line\":{\"color\":\"rgb(17,17,17)\"}},\"type\":\"table\"}]},\"layout\":{\"annotationdefaults\":{\"arrowcolor\":\"#f2f5fa\",\"arrowhead\":0,\"arrowwidth\":1},\"autotypenumbers\":\"strict\",\"coloraxis\":{\"colorbar\":{\"outlinewidth\":0,\"ticks\":\"\"}},\"colorscale\":{\"diverging\":[[0,\"#8e0152\"],[0.1,\"#c51b7d\"],[0.2,\"#de77ae\"],[0.3,\"#f1b6da\"],[0.4,\"#fde0ef\"],[0.5,\"#f7f7f7\"],[0.6,\"#e6f5d0\"],[0.7,\"#b8e186\"],[0.8,\"#7fbc41\"],[0.9,\"#4d9221\"],[1,\"#276419\"]],\"sequential\":[[0.0,\"#0d0887\"],[0.1111111111111111,\"#46039f\"],[0.2222222222222222,\"#7201a8\"],[0.3333333333333333,\"#9c179e\"],[0.4444444444444444,\"#bd3786\"],[0.5555555555555556,\"#d8576b\"],[0.6666666666666666,\"#ed7953\"],[0.7777777777777778,\"#fb9f3a\"],[0.8888888888888888,\"#fdca26\"],[1.0,\"#f0f921\"]],\"sequentialminus\":[[0.0,\"#0d0887\"],[0.1111111111111111,\"#46039f\"],[0.2222222222222222,\"#7201a8\"],[0.3333333333333333,\"#9c179e\"],[0.4444444444444444,\"#bd3786\"],[0.5555555555555556,\"#d8576b\"],[0.6666666666666666,\"#ed7953\"],[0.7777777777777778,\"#fb9f3a\"],[0.8888888888888888,\"#fdca26\"],[1.0,\"#f0f921\"]]},\"colorway\":[\"#636efa\",\"#EF553B\",\"#00cc96\",\"#ab63fa\",\"#FFA15A\",\"#19d3f3\",\"#FF6692\",\"#B6E880\",\"#FF97FF\",\"#FECB52\"],\"font\":{\"color\":\"#f2f5fa\"},\"geo\":{\"bgcolor\":\"rgb(17,17,17)\",\"lakecolor\":\"rgb(17,17,17)\",\"landcolor\":\"rgb(17,17,17)\",\"showlakes\":true,\"showland\":true,\"subunitcolor\":\"#506784\"},\"hoverlabel\":{\"align\":\"left\"},\"hovermode\":\"closest\",\"mapbox\":{\"style\":\"dark\"},\"paper_bgcolor\":\"rgb(17,17,17)\",\"plot_bgcolor\":\"rgb(17,17,17)\",\"polar\":{\"angularaxis\":{\"gridcolor\":\"#506784\",\"linecolor\":\"#506784\",\"ticks\":\"\"},\"bgcolor\":\"rgb(17,17,17)\",\"radialaxis\":{\"gridcolor\":\"#506784\",\"linecolor\":\"#506784\",\"ticks\":\"\"}},\"scene\":{\"xaxis\":{\"backgroundcolor\":\"rgb(17,17,17)\",\"gridcolor\":\"#506784\",\"gridwidth\":2,\"linecolor\":\"#506784\",\"showbackground\":true,\"ticks\":\"\",\"zerolinecolor\":\"#C8D4E3\"},\"yaxis\":{\"backgroundcolor\":\"rgb(17,17,17)\",\"gridcolor\":\"#506784\",\"gridwidth\":2,\"linecolor\":\"#506784\",\"showbackground\":true,\"ticks\":\"\",\"zerolinecolor\":\"#C8D4E3\"},\"zaxis\":{\"backgroundcolor\":\"rgb(17,17,17)\",\"gridcolor\":\"#506784\",\"gridwidth\":2,\"linecolor\":\"#506784\",\"showbackground\":true,\"ticks\":\"\",\"zerolinecolor\":\"#C8D4E3\"}},\"shapedefaults\":{\"line\":{\"color\":\"#f2f5fa\"}},\"sliderdefaults\":{\"bgcolor\":\"#C8D4E3\",\"bordercolor\":\"rgb(17,17,17)\",\"borderwidth\":1,\"tickwidth\":0},\"ternary\":{\"aaxis\":{\"gridcolor\":\"#506784\",\"linecolor\":\"#506784\",\"ticks\":\"\"},\"baxis\":{\"gridcolor\":\"#506784\",\"linecolor\":\"#506784\",\"ticks\":\"\"},\"bgcolor\":\"rgb(17,17,17)\",\"caxis\":{\"gridcolor\":\"#506784\",\"linecolor\":\"#506784\",\"ticks\":\"\"}},\"title\":{\"x\":0.05},\"updatemenudefaults\":{\"bgcolor\":\"#506784\",\"borderwidth\":0},\"xaxis\":{\"automargin\":true,\"gridcolor\":\"#283442\",\"linecolor\":\"#506784\",\"ticks\":\"\",\"title\":{\"standoff\":15},\"zerolinecolor\":\"#283442\",\"zerolinewidth\":2},\"yaxis\":{\"automargin\":true,\"gridcolor\":\"#283442\",\"linecolor\":\"#506784\",\"ticks\":\"\",\"title\":{\"standoff\":15},\"zerolinecolor\":\"#283442\",\"zerolinewidth\":2}}},\"legend\":{\"tracegroupgap\":0},\"title\":{\"text\":\"H\\u00e1 mais livros de N\\u00e3o Fic\\u00e7\\u00e3o do que de Fic\\u00e7\\u00e3o\"}},                        {\"responsive\": true}                    ).then(function(){\n",
              "                            \n",
              "var gd = document.getElementById('3ea367aa-b26d-48ab-860e-32c09a9bc07b');\n",
              "var x = new MutationObserver(function (mutations, observer) {{\n",
              "        var display = window.getComputedStyle(gd).display;\n",
              "        if (!display || display === 'none') {{\n",
              "            console.log([gd, 'removed!']);\n",
              "            Plotly.purge(gd);\n",
              "            observer.disconnect();\n",
              "        }}\n",
              "}});\n",
              "\n",
              "// Listen for the removal of the full notebook cells\n",
              "var notebookContainer = gd.closest('#notebook-container');\n",
              "if (notebookContainer) {{\n",
              "    x.observe(notebookContainer, {childList: true});\n",
              "}}\n",
              "\n",
              "// Listen for the clearing of the current output cell\n",
              "var outputEl = gd.closest('.output');\n",
              "if (outputEl) {{\n",
              "    x.observe(outputEl, {childList: true});\n",
              "}}\n",
              "\n",
              "                        })                };                            </script>        </div>\n",
              "</body>\n",
              "</html>"
            ]
          },
          "metadata": {}
        }
      ]
    },
    {
      "cell_type": "markdown",
      "source": [
        "Há mais livros de Não Ficção do que de Ficção"
      ],
      "metadata": {
        "id": "ldyr_xchWbzj"
      }
    },
    {
      "cell_type": "markdown",
      "source": [
        "## Quantidade por gênero ao longo dos anos"
      ],
      "metadata": {
        "id": "UlAYBw-cRy_P"
      }
    },
    {
      "cell_type": "code",
      "source": [
        "d1 = df_com_repeticoes[df_com_repeticoes[\"Genre\"] == \"Fiction\"]\n",
        "d2 = df_com_repeticoes[df_com_repeticoes[\"Genre\"] == \"Non Fiction\"]\n",
        "\n",
        "col =\"Year\"\n",
        "\n",
        "vc1 = d1[col].value_counts().reset_index()\n",
        "vc1 = vc1.rename(columns = {col : \"count\", \"index\" : col})\n",
        "vc1['percent'] = vc1['count'].apply(lambda x : 100*x/sum(vc1['count']))\n",
        "vc1 = vc1.sort_values(col)\n",
        "\n",
        "vc2 = d2[col].value_counts().reset_index()\n",
        "vc2 = vc2.rename(columns = {col : \"count\", \"index\" : col})\n",
        "vc2['percent'] = vc2['count'].apply(lambda x : 100*x/sum(vc2['count']))\n",
        "vc2 = vc2.sort_values(col)\n",
        "\n",
        "trace1 = go.Scatter(\n",
        "                    x=vc1[col], \n",
        "                    y=vc1[\"count\"], \n",
        "                    name=\"Fiction\", \n",
        "                    marker=dict(color = 'red',\n",
        "                             line=dict(color='white',width=1.5)))\n",
        "\n",
        "trace2 = go.Scatter(\n",
        "                    x=vc2[col], \n",
        "                    y=vc2[\"count\"], \n",
        "                    name=\"Non Fiction\", \n",
        "                    marker= dict(color = 'blue',\n",
        "                              line=dict(color='white',width=1.5)))\n",
        "layout = go.Layout(hovermode= 'closest', title = 'Número de Bestsellers por Gênero ao longo dos anos' , xaxis = dict(title = 'Ano'), yaxis = dict(title = 'Número de livros'), template= \"plotly_dark\")\n",
        "fig = go.Figure(data = [trace1, trace2], layout=layout)\n",
        "fig.show()"
      ],
      "metadata": {
        "colab": {
          "base_uri": "https://localhost:8080/",
          "height": 542
        },
        "outputId": "44ae1562-eb50-43a0-82d1-67e1437fce80",
        "id": "B5qUxD1TRy_P"
      },
      "execution_count": null,
      "outputs": [
        {
          "output_type": "display_data",
          "data": {
            "text/html": [
              "<html>\n",
              "<head><meta charset=\"utf-8\" /></head>\n",
              "<body>\n",
              "    <div>            <script src=\"https://cdnjs.cloudflare.com/ajax/libs/mathjax/2.7.5/MathJax.js?config=TeX-AMS-MML_SVG\"></script><script type=\"text/javascript\">if (window.MathJax) {MathJax.Hub.Config({SVG: {font: \"STIX-Web\"}});}</script>                <script type=\"text/javascript\">window.PlotlyConfig = {MathJaxConfig: 'local'};</script>\n",
              "        <script src=\"https://cdn.plot.ly/plotly-2.8.3.min.js\"></script>                <div id=\"bf5b5f78-43ca-479a-b9bf-8de4bb64984d\" class=\"plotly-graph-div\" style=\"height:525px; width:100%;\"></div>            <script type=\"text/javascript\">                                    window.PLOTLYENV=window.PLOTLYENV || {};                                    if (document.getElementById(\"bf5b5f78-43ca-479a-b9bf-8de4bb64984d\")) {                    Plotly.newPlot(                        \"bf5b5f78-43ca-479a-b9bf-8de4bb64984d\",                        [{\"marker\":{\"color\":\"red\",\"line\":{\"color\":\"white\",\"width\":1.5}},\"name\":\"Fiction\",\"x\":[2009,2010,2011,2012,2013,2014,2015,2016,2017,2018,2019],\"y\":[24,20,21,21,24,29,17,19,24,21,20],\"type\":\"scatter\"},{\"marker\":{\"color\":\"blue\",\"line\":{\"color\":\"white\",\"width\":1.5}},\"name\":\"Non Fiction\",\"x\":[2009,2010,2011,2012,2013,2014,2015,2016,2017,2018,2019],\"y\":[26,30,29,29,26,21,33,31,26,29,30],\"type\":\"scatter\"}],                        {\"hovermode\":\"closest\",\"template\":{\"data\":{\"barpolar\":[{\"marker\":{\"line\":{\"color\":\"rgb(17,17,17)\",\"width\":0.5},\"pattern\":{\"fillmode\":\"overlay\",\"size\":10,\"solidity\":0.2}},\"type\":\"barpolar\"}],\"bar\":[{\"error_x\":{\"color\":\"#f2f5fa\"},\"error_y\":{\"color\":\"#f2f5fa\"},\"marker\":{\"line\":{\"color\":\"rgb(17,17,17)\",\"width\":0.5},\"pattern\":{\"fillmode\":\"overlay\",\"size\":10,\"solidity\":0.2}},\"type\":\"bar\"}],\"carpet\":[{\"aaxis\":{\"endlinecolor\":\"#A2B1C6\",\"gridcolor\":\"#506784\",\"linecolor\":\"#506784\",\"minorgridcolor\":\"#506784\",\"startlinecolor\":\"#A2B1C6\"},\"baxis\":{\"endlinecolor\":\"#A2B1C6\",\"gridcolor\":\"#506784\",\"linecolor\":\"#506784\",\"minorgridcolor\":\"#506784\",\"startlinecolor\":\"#A2B1C6\"},\"type\":\"carpet\"}],\"choropleth\":[{\"colorbar\":{\"outlinewidth\":0,\"ticks\":\"\"},\"type\":\"choropleth\"}],\"contourcarpet\":[{\"colorbar\":{\"outlinewidth\":0,\"ticks\":\"\"},\"type\":\"contourcarpet\"}],\"contour\":[{\"colorbar\":{\"outlinewidth\":0,\"ticks\":\"\"},\"colorscale\":[[0.0,\"#0d0887\"],[0.1111111111111111,\"#46039f\"],[0.2222222222222222,\"#7201a8\"],[0.3333333333333333,\"#9c179e\"],[0.4444444444444444,\"#bd3786\"],[0.5555555555555556,\"#d8576b\"],[0.6666666666666666,\"#ed7953\"],[0.7777777777777778,\"#fb9f3a\"],[0.8888888888888888,\"#fdca26\"],[1.0,\"#f0f921\"]],\"type\":\"contour\"}],\"heatmapgl\":[{\"colorbar\":{\"outlinewidth\":0,\"ticks\":\"\"},\"colorscale\":[[0.0,\"#0d0887\"],[0.1111111111111111,\"#46039f\"],[0.2222222222222222,\"#7201a8\"],[0.3333333333333333,\"#9c179e\"],[0.4444444444444444,\"#bd3786\"],[0.5555555555555556,\"#d8576b\"],[0.6666666666666666,\"#ed7953\"],[0.7777777777777778,\"#fb9f3a\"],[0.8888888888888888,\"#fdca26\"],[1.0,\"#f0f921\"]],\"type\":\"heatmapgl\"}],\"heatmap\":[{\"colorbar\":{\"outlinewidth\":0,\"ticks\":\"\"},\"colorscale\":[[0.0,\"#0d0887\"],[0.1111111111111111,\"#46039f\"],[0.2222222222222222,\"#7201a8\"],[0.3333333333333333,\"#9c179e\"],[0.4444444444444444,\"#bd3786\"],[0.5555555555555556,\"#d8576b\"],[0.6666666666666666,\"#ed7953\"],[0.7777777777777778,\"#fb9f3a\"],[0.8888888888888888,\"#fdca26\"],[1.0,\"#f0f921\"]],\"type\":\"heatmap\"}],\"histogram2dcontour\":[{\"colorbar\":{\"outlinewidth\":0,\"ticks\":\"\"},\"colorscale\":[[0.0,\"#0d0887\"],[0.1111111111111111,\"#46039f\"],[0.2222222222222222,\"#7201a8\"],[0.3333333333333333,\"#9c179e\"],[0.4444444444444444,\"#bd3786\"],[0.5555555555555556,\"#d8576b\"],[0.6666666666666666,\"#ed7953\"],[0.7777777777777778,\"#fb9f3a\"],[0.8888888888888888,\"#fdca26\"],[1.0,\"#f0f921\"]],\"type\":\"histogram2dcontour\"}],\"histogram2d\":[{\"colorbar\":{\"outlinewidth\":0,\"ticks\":\"\"},\"colorscale\":[[0.0,\"#0d0887\"],[0.1111111111111111,\"#46039f\"],[0.2222222222222222,\"#7201a8\"],[0.3333333333333333,\"#9c179e\"],[0.4444444444444444,\"#bd3786\"],[0.5555555555555556,\"#d8576b\"],[0.6666666666666666,\"#ed7953\"],[0.7777777777777778,\"#fb9f3a\"],[0.8888888888888888,\"#fdca26\"],[1.0,\"#f0f921\"]],\"type\":\"histogram2d\"}],\"histogram\":[{\"marker\":{\"pattern\":{\"fillmode\":\"overlay\",\"size\":10,\"solidity\":0.2}},\"type\":\"histogram\"}],\"mesh3d\":[{\"colorbar\":{\"outlinewidth\":0,\"ticks\":\"\"},\"type\":\"mesh3d\"}],\"parcoords\":[{\"line\":{\"colorbar\":{\"outlinewidth\":0,\"ticks\":\"\"}},\"type\":\"parcoords\"}],\"pie\":[{\"automargin\":true,\"type\":\"pie\"}],\"scatter3d\":[{\"line\":{\"colorbar\":{\"outlinewidth\":0,\"ticks\":\"\"}},\"marker\":{\"colorbar\":{\"outlinewidth\":0,\"ticks\":\"\"}},\"type\":\"scatter3d\"}],\"scattercarpet\":[{\"marker\":{\"colorbar\":{\"outlinewidth\":0,\"ticks\":\"\"}},\"type\":\"scattercarpet\"}],\"scattergeo\":[{\"marker\":{\"colorbar\":{\"outlinewidth\":0,\"ticks\":\"\"}},\"type\":\"scattergeo\"}],\"scattergl\":[{\"marker\":{\"line\":{\"color\":\"#283442\"}},\"type\":\"scattergl\"}],\"scattermapbox\":[{\"marker\":{\"colorbar\":{\"outlinewidth\":0,\"ticks\":\"\"}},\"type\":\"scattermapbox\"}],\"scatterpolargl\":[{\"marker\":{\"colorbar\":{\"outlinewidth\":0,\"ticks\":\"\"}},\"type\":\"scatterpolargl\"}],\"scatterpolar\":[{\"marker\":{\"colorbar\":{\"outlinewidth\":0,\"ticks\":\"\"}},\"type\":\"scatterpolar\"}],\"scatter\":[{\"marker\":{\"line\":{\"color\":\"#283442\"}},\"type\":\"scatter\"}],\"scatterternary\":[{\"marker\":{\"colorbar\":{\"outlinewidth\":0,\"ticks\":\"\"}},\"type\":\"scatterternary\"}],\"surface\":[{\"colorbar\":{\"outlinewidth\":0,\"ticks\":\"\"},\"colorscale\":[[0.0,\"#0d0887\"],[0.1111111111111111,\"#46039f\"],[0.2222222222222222,\"#7201a8\"],[0.3333333333333333,\"#9c179e\"],[0.4444444444444444,\"#bd3786\"],[0.5555555555555556,\"#d8576b\"],[0.6666666666666666,\"#ed7953\"],[0.7777777777777778,\"#fb9f3a\"],[0.8888888888888888,\"#fdca26\"],[1.0,\"#f0f921\"]],\"type\":\"surface\"}],\"table\":[{\"cells\":{\"fill\":{\"color\":\"#506784\"},\"line\":{\"color\":\"rgb(17,17,17)\"}},\"header\":{\"fill\":{\"color\":\"#2a3f5f\"},\"line\":{\"color\":\"rgb(17,17,17)\"}},\"type\":\"table\"}]},\"layout\":{\"annotationdefaults\":{\"arrowcolor\":\"#f2f5fa\",\"arrowhead\":0,\"arrowwidth\":1},\"autotypenumbers\":\"strict\",\"coloraxis\":{\"colorbar\":{\"outlinewidth\":0,\"ticks\":\"\"}},\"colorscale\":{\"diverging\":[[0,\"#8e0152\"],[0.1,\"#c51b7d\"],[0.2,\"#de77ae\"],[0.3,\"#f1b6da\"],[0.4,\"#fde0ef\"],[0.5,\"#f7f7f7\"],[0.6,\"#e6f5d0\"],[0.7,\"#b8e186\"],[0.8,\"#7fbc41\"],[0.9,\"#4d9221\"],[1,\"#276419\"]],\"sequential\":[[0.0,\"#0d0887\"],[0.1111111111111111,\"#46039f\"],[0.2222222222222222,\"#7201a8\"],[0.3333333333333333,\"#9c179e\"],[0.4444444444444444,\"#bd3786\"],[0.5555555555555556,\"#d8576b\"],[0.6666666666666666,\"#ed7953\"],[0.7777777777777778,\"#fb9f3a\"],[0.8888888888888888,\"#fdca26\"],[1.0,\"#f0f921\"]],\"sequentialminus\":[[0.0,\"#0d0887\"],[0.1111111111111111,\"#46039f\"],[0.2222222222222222,\"#7201a8\"],[0.3333333333333333,\"#9c179e\"],[0.4444444444444444,\"#bd3786\"],[0.5555555555555556,\"#d8576b\"],[0.6666666666666666,\"#ed7953\"],[0.7777777777777778,\"#fb9f3a\"],[0.8888888888888888,\"#fdca26\"],[1.0,\"#f0f921\"]]},\"colorway\":[\"#636efa\",\"#EF553B\",\"#00cc96\",\"#ab63fa\",\"#FFA15A\",\"#19d3f3\",\"#FF6692\",\"#B6E880\",\"#FF97FF\",\"#FECB52\"],\"font\":{\"color\":\"#f2f5fa\"},\"geo\":{\"bgcolor\":\"rgb(17,17,17)\",\"lakecolor\":\"rgb(17,17,17)\",\"landcolor\":\"rgb(17,17,17)\",\"showlakes\":true,\"showland\":true,\"subunitcolor\":\"#506784\"},\"hoverlabel\":{\"align\":\"left\"},\"hovermode\":\"closest\",\"mapbox\":{\"style\":\"dark\"},\"paper_bgcolor\":\"rgb(17,17,17)\",\"plot_bgcolor\":\"rgb(17,17,17)\",\"polar\":{\"angularaxis\":{\"gridcolor\":\"#506784\",\"linecolor\":\"#506784\",\"ticks\":\"\"},\"bgcolor\":\"rgb(17,17,17)\",\"radialaxis\":{\"gridcolor\":\"#506784\",\"linecolor\":\"#506784\",\"ticks\":\"\"}},\"scene\":{\"xaxis\":{\"backgroundcolor\":\"rgb(17,17,17)\",\"gridcolor\":\"#506784\",\"gridwidth\":2,\"linecolor\":\"#506784\",\"showbackground\":true,\"ticks\":\"\",\"zerolinecolor\":\"#C8D4E3\"},\"yaxis\":{\"backgroundcolor\":\"rgb(17,17,17)\",\"gridcolor\":\"#506784\",\"gridwidth\":2,\"linecolor\":\"#506784\",\"showbackground\":true,\"ticks\":\"\",\"zerolinecolor\":\"#C8D4E3\"},\"zaxis\":{\"backgroundcolor\":\"rgb(17,17,17)\",\"gridcolor\":\"#506784\",\"gridwidth\":2,\"linecolor\":\"#506784\",\"showbackground\":true,\"ticks\":\"\",\"zerolinecolor\":\"#C8D4E3\"}},\"shapedefaults\":{\"line\":{\"color\":\"#f2f5fa\"}},\"sliderdefaults\":{\"bgcolor\":\"#C8D4E3\",\"bordercolor\":\"rgb(17,17,17)\",\"borderwidth\":1,\"tickwidth\":0},\"ternary\":{\"aaxis\":{\"gridcolor\":\"#506784\",\"linecolor\":\"#506784\",\"ticks\":\"\"},\"baxis\":{\"gridcolor\":\"#506784\",\"linecolor\":\"#506784\",\"ticks\":\"\"},\"bgcolor\":\"rgb(17,17,17)\",\"caxis\":{\"gridcolor\":\"#506784\",\"linecolor\":\"#506784\",\"ticks\":\"\"}},\"title\":{\"x\":0.05},\"updatemenudefaults\":{\"bgcolor\":\"#506784\",\"borderwidth\":0},\"xaxis\":{\"automargin\":true,\"gridcolor\":\"#283442\",\"linecolor\":\"#506784\",\"ticks\":\"\",\"title\":{\"standoff\":15},\"zerolinecolor\":\"#283442\",\"zerolinewidth\":2},\"yaxis\":{\"automargin\":true,\"gridcolor\":\"#283442\",\"linecolor\":\"#506784\",\"ticks\":\"\",\"title\":{\"standoff\":15},\"zerolinecolor\":\"#283442\",\"zerolinewidth\":2}}},\"title\":{\"text\":\"N\\u00famero de Bestsellers por G\\u00eanero ao longo dos anos\"},\"xaxis\":{\"title\":{\"text\":\"Ano\"}},\"yaxis\":{\"title\":{\"text\":\"N\\u00famero de livros\"}}},                        {\"responsive\": true}                    ).then(function(){\n",
              "                            \n",
              "var gd = document.getElementById('bf5b5f78-43ca-479a-b9bf-8de4bb64984d');\n",
              "var x = new MutationObserver(function (mutations, observer) {{\n",
              "        var display = window.getComputedStyle(gd).display;\n",
              "        if (!display || display === 'none') {{\n",
              "            console.log([gd, 'removed!']);\n",
              "            Plotly.purge(gd);\n",
              "            observer.disconnect();\n",
              "        }}\n",
              "}});\n",
              "\n",
              "// Listen for the removal of the full notebook cells\n",
              "var notebookContainer = gd.closest('#notebook-container');\n",
              "if (notebookContainer) {{\n",
              "    x.observe(notebookContainer, {childList: true});\n",
              "}}\n",
              "\n",
              "// Listen for the clearing of the current output cell\n",
              "var outputEl = gd.closest('.output');\n",
              "if (outputEl) {{\n",
              "    x.observe(outputEl, {childList: true});\n",
              "}}\n",
              "\n",
              "                        })                };                            </script>        </div>\n",
              "</body>\n",
              "</html>"
            ]
          },
          "metadata": {}
        }
      ]
    },
    {
      "cell_type": "markdown",
      "source": [
        "Os livros de não ficção sempre predominaram, exceto no ano de 2014"
      ],
      "metadata": {
        "id": "sZcM7MiJWgdh"
      }
    },
    {
      "cell_type": "markdown",
      "source": [
        "## Valor da nota por número de reviews e preço ao longo dos anos"
      ],
      "metadata": {
        "id": "IUPa9Gvt9K3i"
      }
    },
    {
      "cell_type": "markdown",
      "source": [
        "Criando um data frame para valores medios"
      ],
      "metadata": {
        "id": "jIa-zzGmgzwe"
      }
    },
    {
      "cell_type": "code",
      "source": [
        "df_medias = df.groupby(['Year', 'Genre']).agg(media_review=('Reviews', 'mean'), media_user_rating = ('User Rating', 'mean'), media_preco = ('Price', 'mean')).reset_index()\n",
        "df_medias.head()"
      ],
      "metadata": {
        "colab": {
          "base_uri": "https://localhost:8080/",
          "height": 206
        },
        "id": "N-zXwRmbgxCa",
        "outputId": "cc1a5e7f-eb28-46dc-e8d0-7655bdc8eae5"
      },
      "execution_count": null,
      "outputs": [
        {
          "output_type": "execute_result",
          "data": {
            "text/plain": [
              "   Year        Genre  media_review  media_user_rating  media_preco\n",
              "0  2009      Fiction   5402.300000           4.580000    17.550000\n",
              "1  2009  Non Fiction   1875.388889           4.622222    13.555556\n",
              "2  2010      Fiction   5752.357143           4.592857     9.571429\n",
              "3  2010  Non Fiction   1983.105263           4.505263    13.526316\n",
              "4  2011      Fiction   6610.000000           4.593333    11.600000"
            ],
            "text/html": [
              "\n",
              "  <div id=\"df-fa33419c-e94f-464f-8b93-7384b674e5e0\">\n",
              "    <div class=\"colab-df-container\">\n",
              "      <div>\n",
              "<style scoped>\n",
              "    .dataframe tbody tr th:only-of-type {\n",
              "        vertical-align: middle;\n",
              "    }\n",
              "\n",
              "    .dataframe tbody tr th {\n",
              "        vertical-align: top;\n",
              "    }\n",
              "\n",
              "    .dataframe thead th {\n",
              "        text-align: right;\n",
              "    }\n",
              "</style>\n",
              "<table border=\"1\" class=\"dataframe\">\n",
              "  <thead>\n",
              "    <tr style=\"text-align: right;\">\n",
              "      <th></th>\n",
              "      <th>Year</th>\n",
              "      <th>Genre</th>\n",
              "      <th>media_review</th>\n",
              "      <th>media_user_rating</th>\n",
              "      <th>media_preco</th>\n",
              "    </tr>\n",
              "  </thead>\n",
              "  <tbody>\n",
              "    <tr>\n",
              "      <th>0</th>\n",
              "      <td>2009</td>\n",
              "      <td>Fiction</td>\n",
              "      <td>5402.300000</td>\n",
              "      <td>4.580000</td>\n",
              "      <td>17.550000</td>\n",
              "    </tr>\n",
              "    <tr>\n",
              "      <th>1</th>\n",
              "      <td>2009</td>\n",
              "      <td>Non Fiction</td>\n",
              "      <td>1875.388889</td>\n",
              "      <td>4.622222</td>\n",
              "      <td>13.555556</td>\n",
              "    </tr>\n",
              "    <tr>\n",
              "      <th>2</th>\n",
              "      <td>2010</td>\n",
              "      <td>Fiction</td>\n",
              "      <td>5752.357143</td>\n",
              "      <td>4.592857</td>\n",
              "      <td>9.571429</td>\n",
              "    </tr>\n",
              "    <tr>\n",
              "      <th>3</th>\n",
              "      <td>2010</td>\n",
              "      <td>Non Fiction</td>\n",
              "      <td>1983.105263</td>\n",
              "      <td>4.505263</td>\n",
              "      <td>13.526316</td>\n",
              "    </tr>\n",
              "    <tr>\n",
              "      <th>4</th>\n",
              "      <td>2011</td>\n",
              "      <td>Fiction</td>\n",
              "      <td>6610.000000</td>\n",
              "      <td>4.593333</td>\n",
              "      <td>11.600000</td>\n",
              "    </tr>\n",
              "  </tbody>\n",
              "</table>\n",
              "</div>\n",
              "      <button class=\"colab-df-convert\" onclick=\"convertToInteractive('df-fa33419c-e94f-464f-8b93-7384b674e5e0')\"\n",
              "              title=\"Convert this dataframe to an interactive table.\"\n",
              "              style=\"display:none;\">\n",
              "        \n",
              "  <svg xmlns=\"http://www.w3.org/2000/svg\" height=\"24px\"viewBox=\"0 0 24 24\"\n",
              "       width=\"24px\">\n",
              "    <path d=\"M0 0h24v24H0V0z\" fill=\"none\"/>\n",
              "    <path d=\"M18.56 5.44l.94 2.06.94-2.06 2.06-.94-2.06-.94-.94-2.06-.94 2.06-2.06.94zm-11 1L8.5 8.5l.94-2.06 2.06-.94-2.06-.94L8.5 2.5l-.94 2.06-2.06.94zm10 10l.94 2.06.94-2.06 2.06-.94-2.06-.94-.94-2.06-.94 2.06-2.06.94z\"/><path d=\"M17.41 7.96l-1.37-1.37c-.4-.4-.92-.59-1.43-.59-.52 0-1.04.2-1.43.59L10.3 9.45l-7.72 7.72c-.78.78-.78 2.05 0 2.83L4 21.41c.39.39.9.59 1.41.59.51 0 1.02-.2 1.41-.59l7.78-7.78 2.81-2.81c.8-.78.8-2.07 0-2.86zM5.41 20L4 18.59l7.72-7.72 1.47 1.35L5.41 20z\"/>\n",
              "  </svg>\n",
              "      </button>\n",
              "      \n",
              "  <style>\n",
              "    .colab-df-container {\n",
              "      display:flex;\n",
              "      flex-wrap:wrap;\n",
              "      gap: 12px;\n",
              "    }\n",
              "\n",
              "    .colab-df-convert {\n",
              "      background-color: #E8F0FE;\n",
              "      border: none;\n",
              "      border-radius: 50%;\n",
              "      cursor: pointer;\n",
              "      display: none;\n",
              "      fill: #1967D2;\n",
              "      height: 32px;\n",
              "      padding: 0 0 0 0;\n",
              "      width: 32px;\n",
              "    }\n",
              "\n",
              "    .colab-df-convert:hover {\n",
              "      background-color: #E2EBFA;\n",
              "      box-shadow: 0px 1px 2px rgba(60, 64, 67, 0.3), 0px 1px 3px 1px rgba(60, 64, 67, 0.15);\n",
              "      fill: #174EA6;\n",
              "    }\n",
              "\n",
              "    [theme=dark] .colab-df-convert {\n",
              "      background-color: #3B4455;\n",
              "      fill: #D2E3FC;\n",
              "    }\n",
              "\n",
              "    [theme=dark] .colab-df-convert:hover {\n",
              "      background-color: #434B5C;\n",
              "      box-shadow: 0px 1px 3px 1px rgba(0, 0, 0, 0.15);\n",
              "      filter: drop-shadow(0px 1px 2px rgba(0, 0, 0, 0.3));\n",
              "      fill: #FFFFFF;\n",
              "    }\n",
              "  </style>\n",
              "\n",
              "      <script>\n",
              "        const buttonEl =\n",
              "          document.querySelector('#df-fa33419c-e94f-464f-8b93-7384b674e5e0 button.colab-df-convert');\n",
              "        buttonEl.style.display =\n",
              "          google.colab.kernel.accessAllowed ? 'block' : 'none';\n",
              "\n",
              "        async function convertToInteractive(key) {\n",
              "          const element = document.querySelector('#df-fa33419c-e94f-464f-8b93-7384b674e5e0');\n",
              "          const dataTable =\n",
              "            await google.colab.kernel.invokeFunction('convertToInteractive',\n",
              "                                                     [key], {});\n",
              "          if (!dataTable) return;\n",
              "\n",
              "          const docLinkHtml = 'Like what you see? Visit the ' +\n",
              "            '<a target=\"_blank\" href=https://colab.research.google.com/notebooks/data_table.ipynb>data table notebook</a>'\n",
              "            + ' to learn more about interactive tables.';\n",
              "          element.innerHTML = '';\n",
              "          dataTable['output_type'] = 'display_data';\n",
              "          await google.colab.output.renderOutput(dataTable, element);\n",
              "          const docLink = document.createElement('div');\n",
              "          docLink.innerHTML = docLinkHtml;\n",
              "          element.appendChild(docLink);\n",
              "        }\n",
              "      </script>\n",
              "    </div>\n",
              "  </div>\n",
              "  "
            ]
          },
          "metadata": {},
          "execution_count": 103
        }
      ]
    },
    {
      "cell_type": "markdown",
      "source": [
        "Aqui podemos ver como a Média do número de Reviews variou de acordo com a Média da Nota dada ao decorrer dos anos. \\\\\n",
        "Quanto maior o tamanho do marcador, maior o Preço Médio."
      ],
      "metadata": {
        "id": "ni08X115i1JF"
      }
    },
    {
      "cell_type": "code",
      "source": [
        "px.scatter(df_medias, x=\"media_review\", y=\"media_user_rating\", animation_frame=\"Year\", animation_group=\"Genre\",\n",
        "           size=\"media_preco\", color=\"Genre\", hover_name=\"Genre\",\n",
        "           labels={\n",
        "                     \"Year\": \"Ano\",\n",
        "                     \"Genre\": \"Gênero\",\n",
        "                     \"media_review\": \"Média anual Reviews\",\n",
        "                     \"media_user_rating\": \"Média anual Notas\",\n",
        "                     \"media_preco\": \"Média anual Preço\"\n",
        "                 },\n",
        "           template= \"plotly_dark\", size_max=20, range_x= [1500, 25000], range_y= [4.2, 4.9])"
      ],
      "metadata": {
        "colab": {
          "base_uri": "https://localhost:8080/",
          "height": 542
        },
        "id": "JBCqkzdBYuN8",
        "outputId": "4bfef5a0-7bc5-4a8a-9bf3-6aeac46f2385"
      },
      "execution_count": null,
      "outputs": [
        {
          "output_type": "display_data",
          "data": {
            "text/html": [
              "<html>\n",
              "<head><meta charset=\"utf-8\" /></head>\n",
              "<body>\n",
              "    <div>            <script src=\"https://cdnjs.cloudflare.com/ajax/libs/mathjax/2.7.5/MathJax.js?config=TeX-AMS-MML_SVG\"></script><script type=\"text/javascript\">if (window.MathJax) {MathJax.Hub.Config({SVG: {font: \"STIX-Web\"}});}</script>                <script type=\"text/javascript\">window.PlotlyConfig = {MathJaxConfig: 'local'};</script>\n",
              "        <script src=\"https://cdn.plot.ly/plotly-2.8.3.min.js\"></script>                <div id=\"dbf2cf58-983d-4d1d-8fe3-b3855d3bb5ea\" class=\"plotly-graph-div\" style=\"height:525px; width:100%;\"></div>            <script type=\"text/javascript\">                                    window.PLOTLYENV=window.PLOTLYENV || {};                                    if (document.getElementById(\"dbf2cf58-983d-4d1d-8fe3-b3855d3bb5ea\")) {                    Plotly.newPlot(                        \"dbf2cf58-983d-4d1d-8fe3-b3855d3bb5ea\",                        [{\"hovertemplate\":\"<b>%{hovertext}</b><br><br>G\\u00eanero=Fiction<br>Ano=2009<br>M\\u00e9dia anual Reviews=%{x}<br>M\\u00e9dia anual Notas=%{y}<br>M\\u00e9dia anual Pre\\u00e7o=%{marker.size}<extra></extra>\",\"hovertext\":[\"Fiction\"],\"ids\":[\"Fiction\"],\"legendgroup\":\"Fiction\",\"marker\":{\"color\":\"#636efa\",\"size\":[17.55],\"sizemode\":\"area\",\"sizeref\":0.07138888888888889,\"symbol\":\"circle\"},\"mode\":\"markers\",\"name\":\"Fiction\",\"orientation\":\"v\",\"showlegend\":true,\"x\":[5402.3],\"xaxis\":\"x\",\"y\":[4.58],\"yaxis\":\"y\",\"type\":\"scatter\"},{\"hovertemplate\":\"<b>%{hovertext}</b><br><br>G\\u00eanero=Non Fiction<br>Ano=2009<br>M\\u00e9dia anual Reviews=%{x}<br>M\\u00e9dia anual Notas=%{y}<br>M\\u00e9dia anual Pre\\u00e7o=%{marker.size}<extra></extra>\",\"hovertext\":[\"Non Fiction\"],\"ids\":[\"Non Fiction\"],\"legendgroup\":\"Non Fiction\",\"marker\":{\"color\":\"#EF553B\",\"size\":[13.555555555555555],\"sizemode\":\"area\",\"sizeref\":0.07138888888888889,\"symbol\":\"circle\"},\"mode\":\"markers\",\"name\":\"Non Fiction\",\"orientation\":\"v\",\"showlegend\":true,\"x\":[1875.388888888889],\"xaxis\":\"x\",\"y\":[4.622222222222223],\"yaxis\":\"y\",\"type\":\"scatter\"}],                        {\"template\":{\"data\":{\"barpolar\":[{\"marker\":{\"line\":{\"color\":\"rgb(17,17,17)\",\"width\":0.5},\"pattern\":{\"fillmode\":\"overlay\",\"size\":10,\"solidity\":0.2}},\"type\":\"barpolar\"}],\"bar\":[{\"error_x\":{\"color\":\"#f2f5fa\"},\"error_y\":{\"color\":\"#f2f5fa\"},\"marker\":{\"line\":{\"color\":\"rgb(17,17,17)\",\"width\":0.5},\"pattern\":{\"fillmode\":\"overlay\",\"size\":10,\"solidity\":0.2}},\"type\":\"bar\"}],\"carpet\":[{\"aaxis\":{\"endlinecolor\":\"#A2B1C6\",\"gridcolor\":\"#506784\",\"linecolor\":\"#506784\",\"minorgridcolor\":\"#506784\",\"startlinecolor\":\"#A2B1C6\"},\"baxis\":{\"endlinecolor\":\"#A2B1C6\",\"gridcolor\":\"#506784\",\"linecolor\":\"#506784\",\"minorgridcolor\":\"#506784\",\"startlinecolor\":\"#A2B1C6\"},\"type\":\"carpet\"}],\"choropleth\":[{\"colorbar\":{\"outlinewidth\":0,\"ticks\":\"\"},\"type\":\"choropleth\"}],\"contourcarpet\":[{\"colorbar\":{\"outlinewidth\":0,\"ticks\":\"\"},\"type\":\"contourcarpet\"}],\"contour\":[{\"colorbar\":{\"outlinewidth\":0,\"ticks\":\"\"},\"colorscale\":[[0.0,\"#0d0887\"],[0.1111111111111111,\"#46039f\"],[0.2222222222222222,\"#7201a8\"],[0.3333333333333333,\"#9c179e\"],[0.4444444444444444,\"#bd3786\"],[0.5555555555555556,\"#d8576b\"],[0.6666666666666666,\"#ed7953\"],[0.7777777777777778,\"#fb9f3a\"],[0.8888888888888888,\"#fdca26\"],[1.0,\"#f0f921\"]],\"type\":\"contour\"}],\"heatmapgl\":[{\"colorbar\":{\"outlinewidth\":0,\"ticks\":\"\"},\"colorscale\":[[0.0,\"#0d0887\"],[0.1111111111111111,\"#46039f\"],[0.2222222222222222,\"#7201a8\"],[0.3333333333333333,\"#9c179e\"],[0.4444444444444444,\"#bd3786\"],[0.5555555555555556,\"#d8576b\"],[0.6666666666666666,\"#ed7953\"],[0.7777777777777778,\"#fb9f3a\"],[0.8888888888888888,\"#fdca26\"],[1.0,\"#f0f921\"]],\"type\":\"heatmapgl\"}],\"heatmap\":[{\"colorbar\":{\"outlinewidth\":0,\"ticks\":\"\"},\"colorscale\":[[0.0,\"#0d0887\"],[0.1111111111111111,\"#46039f\"],[0.2222222222222222,\"#7201a8\"],[0.3333333333333333,\"#9c179e\"],[0.4444444444444444,\"#bd3786\"],[0.5555555555555556,\"#d8576b\"],[0.6666666666666666,\"#ed7953\"],[0.7777777777777778,\"#fb9f3a\"],[0.8888888888888888,\"#fdca26\"],[1.0,\"#f0f921\"]],\"type\":\"heatmap\"}],\"histogram2dcontour\":[{\"colorbar\":{\"outlinewidth\":0,\"ticks\":\"\"},\"colorscale\":[[0.0,\"#0d0887\"],[0.1111111111111111,\"#46039f\"],[0.2222222222222222,\"#7201a8\"],[0.3333333333333333,\"#9c179e\"],[0.4444444444444444,\"#bd3786\"],[0.5555555555555556,\"#d8576b\"],[0.6666666666666666,\"#ed7953\"],[0.7777777777777778,\"#fb9f3a\"],[0.8888888888888888,\"#fdca26\"],[1.0,\"#f0f921\"]],\"type\":\"histogram2dcontour\"}],\"histogram2d\":[{\"colorbar\":{\"outlinewidth\":0,\"ticks\":\"\"},\"colorscale\":[[0.0,\"#0d0887\"],[0.1111111111111111,\"#46039f\"],[0.2222222222222222,\"#7201a8\"],[0.3333333333333333,\"#9c179e\"],[0.4444444444444444,\"#bd3786\"],[0.5555555555555556,\"#d8576b\"],[0.6666666666666666,\"#ed7953\"],[0.7777777777777778,\"#fb9f3a\"],[0.8888888888888888,\"#fdca26\"],[1.0,\"#f0f921\"]],\"type\":\"histogram2d\"}],\"histogram\":[{\"marker\":{\"pattern\":{\"fillmode\":\"overlay\",\"size\":10,\"solidity\":0.2}},\"type\":\"histogram\"}],\"mesh3d\":[{\"colorbar\":{\"outlinewidth\":0,\"ticks\":\"\"},\"type\":\"mesh3d\"}],\"parcoords\":[{\"line\":{\"colorbar\":{\"outlinewidth\":0,\"ticks\":\"\"}},\"type\":\"parcoords\"}],\"pie\":[{\"automargin\":true,\"type\":\"pie\"}],\"scatter3d\":[{\"line\":{\"colorbar\":{\"outlinewidth\":0,\"ticks\":\"\"}},\"marker\":{\"colorbar\":{\"outlinewidth\":0,\"ticks\":\"\"}},\"type\":\"scatter3d\"}],\"scattercarpet\":[{\"marker\":{\"colorbar\":{\"outlinewidth\":0,\"ticks\":\"\"}},\"type\":\"scattercarpet\"}],\"scattergeo\":[{\"marker\":{\"colorbar\":{\"outlinewidth\":0,\"ticks\":\"\"}},\"type\":\"scattergeo\"}],\"scattergl\":[{\"marker\":{\"line\":{\"color\":\"#283442\"}},\"type\":\"scattergl\"}],\"scattermapbox\":[{\"marker\":{\"colorbar\":{\"outlinewidth\":0,\"ticks\":\"\"}},\"type\":\"scattermapbox\"}],\"scatterpolargl\":[{\"marker\":{\"colorbar\":{\"outlinewidth\":0,\"ticks\":\"\"}},\"type\":\"scatterpolargl\"}],\"scatterpolar\":[{\"marker\":{\"colorbar\":{\"outlinewidth\":0,\"ticks\":\"\"}},\"type\":\"scatterpolar\"}],\"scatter\":[{\"marker\":{\"line\":{\"color\":\"#283442\"}},\"type\":\"scatter\"}],\"scatterternary\":[{\"marker\":{\"colorbar\":{\"outlinewidth\":0,\"ticks\":\"\"}},\"type\":\"scatterternary\"}],\"surface\":[{\"colorbar\":{\"outlinewidth\":0,\"ticks\":\"\"},\"colorscale\":[[0.0,\"#0d0887\"],[0.1111111111111111,\"#46039f\"],[0.2222222222222222,\"#7201a8\"],[0.3333333333333333,\"#9c179e\"],[0.4444444444444444,\"#bd3786\"],[0.5555555555555556,\"#d8576b\"],[0.6666666666666666,\"#ed7953\"],[0.7777777777777778,\"#fb9f3a\"],[0.8888888888888888,\"#fdca26\"],[1.0,\"#f0f921\"]],\"type\":\"surface\"}],\"table\":[{\"cells\":{\"fill\":{\"color\":\"#506784\"},\"line\":{\"color\":\"rgb(17,17,17)\"}},\"header\":{\"fill\":{\"color\":\"#2a3f5f\"},\"line\":{\"color\":\"rgb(17,17,17)\"}},\"type\":\"table\"}]},\"layout\":{\"annotationdefaults\":{\"arrowcolor\":\"#f2f5fa\",\"arrowhead\":0,\"arrowwidth\":1},\"autotypenumbers\":\"strict\",\"coloraxis\":{\"colorbar\":{\"outlinewidth\":0,\"ticks\":\"\"}},\"colorscale\":{\"diverging\":[[0,\"#8e0152\"],[0.1,\"#c51b7d\"],[0.2,\"#de77ae\"],[0.3,\"#f1b6da\"],[0.4,\"#fde0ef\"],[0.5,\"#f7f7f7\"],[0.6,\"#e6f5d0\"],[0.7,\"#b8e186\"],[0.8,\"#7fbc41\"],[0.9,\"#4d9221\"],[1,\"#276419\"]],\"sequential\":[[0.0,\"#0d0887\"],[0.1111111111111111,\"#46039f\"],[0.2222222222222222,\"#7201a8\"],[0.3333333333333333,\"#9c179e\"],[0.4444444444444444,\"#bd3786\"],[0.5555555555555556,\"#d8576b\"],[0.6666666666666666,\"#ed7953\"],[0.7777777777777778,\"#fb9f3a\"],[0.8888888888888888,\"#fdca26\"],[1.0,\"#f0f921\"]],\"sequentialminus\":[[0.0,\"#0d0887\"],[0.1111111111111111,\"#46039f\"],[0.2222222222222222,\"#7201a8\"],[0.3333333333333333,\"#9c179e\"],[0.4444444444444444,\"#bd3786\"],[0.5555555555555556,\"#d8576b\"],[0.6666666666666666,\"#ed7953\"],[0.7777777777777778,\"#fb9f3a\"],[0.8888888888888888,\"#fdca26\"],[1.0,\"#f0f921\"]]},\"colorway\":[\"#636efa\",\"#EF553B\",\"#00cc96\",\"#ab63fa\",\"#FFA15A\",\"#19d3f3\",\"#FF6692\",\"#B6E880\",\"#FF97FF\",\"#FECB52\"],\"font\":{\"color\":\"#f2f5fa\"},\"geo\":{\"bgcolor\":\"rgb(17,17,17)\",\"lakecolor\":\"rgb(17,17,17)\",\"landcolor\":\"rgb(17,17,17)\",\"showlakes\":true,\"showland\":true,\"subunitcolor\":\"#506784\"},\"hoverlabel\":{\"align\":\"left\"},\"hovermode\":\"closest\",\"mapbox\":{\"style\":\"dark\"},\"paper_bgcolor\":\"rgb(17,17,17)\",\"plot_bgcolor\":\"rgb(17,17,17)\",\"polar\":{\"angularaxis\":{\"gridcolor\":\"#506784\",\"linecolor\":\"#506784\",\"ticks\":\"\"},\"bgcolor\":\"rgb(17,17,17)\",\"radialaxis\":{\"gridcolor\":\"#506784\",\"linecolor\":\"#506784\",\"ticks\":\"\"}},\"scene\":{\"xaxis\":{\"backgroundcolor\":\"rgb(17,17,17)\",\"gridcolor\":\"#506784\",\"gridwidth\":2,\"linecolor\":\"#506784\",\"showbackground\":true,\"ticks\":\"\",\"zerolinecolor\":\"#C8D4E3\"},\"yaxis\":{\"backgroundcolor\":\"rgb(17,17,17)\",\"gridcolor\":\"#506784\",\"gridwidth\":2,\"linecolor\":\"#506784\",\"showbackground\":true,\"ticks\":\"\",\"zerolinecolor\":\"#C8D4E3\"},\"zaxis\":{\"backgroundcolor\":\"rgb(17,17,17)\",\"gridcolor\":\"#506784\",\"gridwidth\":2,\"linecolor\":\"#506784\",\"showbackground\":true,\"ticks\":\"\",\"zerolinecolor\":\"#C8D4E3\"}},\"shapedefaults\":{\"line\":{\"color\":\"#f2f5fa\"}},\"sliderdefaults\":{\"bgcolor\":\"#C8D4E3\",\"bordercolor\":\"rgb(17,17,17)\",\"borderwidth\":1,\"tickwidth\":0},\"ternary\":{\"aaxis\":{\"gridcolor\":\"#506784\",\"linecolor\":\"#506784\",\"ticks\":\"\"},\"baxis\":{\"gridcolor\":\"#506784\",\"linecolor\":\"#506784\",\"ticks\":\"\"},\"bgcolor\":\"rgb(17,17,17)\",\"caxis\":{\"gridcolor\":\"#506784\",\"linecolor\":\"#506784\",\"ticks\":\"\"}},\"title\":{\"x\":0.05},\"updatemenudefaults\":{\"bgcolor\":\"#506784\",\"borderwidth\":0},\"xaxis\":{\"automargin\":true,\"gridcolor\":\"#283442\",\"linecolor\":\"#506784\",\"ticks\":\"\",\"title\":{\"standoff\":15},\"zerolinecolor\":\"#283442\",\"zerolinewidth\":2},\"yaxis\":{\"automargin\":true,\"gridcolor\":\"#283442\",\"linecolor\":\"#506784\",\"ticks\":\"\",\"title\":{\"standoff\":15},\"zerolinecolor\":\"#283442\",\"zerolinewidth\":2}}},\"xaxis\":{\"anchor\":\"y\",\"domain\":[0.0,1.0],\"title\":{\"text\":\"M\\u00e9dia anual Reviews\"},\"range\":[1500,25000]},\"yaxis\":{\"anchor\":\"x\",\"domain\":[0.0,1.0],\"title\":{\"text\":\"M\\u00e9dia anual Notas\"},\"range\":[4.2,4.9]},\"legend\":{\"title\":{\"text\":\"G\\u00eanero\"},\"tracegroupgap\":0,\"itemsizing\":\"constant\"},\"margin\":{\"t\":60},\"updatemenus\":[{\"buttons\":[{\"args\":[null,{\"frame\":{\"duration\":500,\"redraw\":false},\"mode\":\"immediate\",\"fromcurrent\":true,\"transition\":{\"duration\":500,\"easing\":\"linear\"}}],\"label\":\"&#9654;\",\"method\":\"animate\"},{\"args\":[[null],{\"frame\":{\"duration\":0,\"redraw\":false},\"mode\":\"immediate\",\"fromcurrent\":true,\"transition\":{\"duration\":0,\"easing\":\"linear\"}}],\"label\":\"&#9724;\",\"method\":\"animate\"}],\"direction\":\"left\",\"pad\":{\"r\":10,\"t\":70},\"showactive\":false,\"type\":\"buttons\",\"x\":0.1,\"xanchor\":\"right\",\"y\":0,\"yanchor\":\"top\"}],\"sliders\":[{\"active\":0,\"currentvalue\":{\"prefix\":\"Ano=\"},\"len\":0.9,\"pad\":{\"b\":10,\"t\":60},\"steps\":[{\"args\":[[\"2009\"],{\"frame\":{\"duration\":0,\"redraw\":false},\"mode\":\"immediate\",\"fromcurrent\":true,\"transition\":{\"duration\":0,\"easing\":\"linear\"}}],\"label\":\"2009\",\"method\":\"animate\"},{\"args\":[[\"2010\"],{\"frame\":{\"duration\":0,\"redraw\":false},\"mode\":\"immediate\",\"fromcurrent\":true,\"transition\":{\"duration\":0,\"easing\":\"linear\"}}],\"label\":\"2010\",\"method\":\"animate\"},{\"args\":[[\"2011\"],{\"frame\":{\"duration\":0,\"redraw\":false},\"mode\":\"immediate\",\"fromcurrent\":true,\"transition\":{\"duration\":0,\"easing\":\"linear\"}}],\"label\":\"2011\",\"method\":\"animate\"},{\"args\":[[\"2012\"],{\"frame\":{\"duration\":0,\"redraw\":false},\"mode\":\"immediate\",\"fromcurrent\":true,\"transition\":{\"duration\":0,\"easing\":\"linear\"}}],\"label\":\"2012\",\"method\":\"animate\"},{\"args\":[[\"2013\"],{\"frame\":{\"duration\":0,\"redraw\":false},\"mode\":\"immediate\",\"fromcurrent\":true,\"transition\":{\"duration\":0,\"easing\":\"linear\"}}],\"label\":\"2013\",\"method\":\"animate\"},{\"args\":[[\"2014\"],{\"frame\":{\"duration\":0,\"redraw\":false},\"mode\":\"immediate\",\"fromcurrent\":true,\"transition\":{\"duration\":0,\"easing\":\"linear\"}}],\"label\":\"2014\",\"method\":\"animate\"},{\"args\":[[\"2015\"],{\"frame\":{\"duration\":0,\"redraw\":false},\"mode\":\"immediate\",\"fromcurrent\":true,\"transition\":{\"duration\":0,\"easing\":\"linear\"}}],\"label\":\"2015\",\"method\":\"animate\"},{\"args\":[[\"2016\"],{\"frame\":{\"duration\":0,\"redraw\":false},\"mode\":\"immediate\",\"fromcurrent\":true,\"transition\":{\"duration\":0,\"easing\":\"linear\"}}],\"label\":\"2016\",\"method\":\"animate\"},{\"args\":[[\"2017\"],{\"frame\":{\"duration\":0,\"redraw\":false},\"mode\":\"immediate\",\"fromcurrent\":true,\"transition\":{\"duration\":0,\"easing\":\"linear\"}}],\"label\":\"2017\",\"method\":\"animate\"},{\"args\":[[\"2018\"],{\"frame\":{\"duration\":0,\"redraw\":false},\"mode\":\"immediate\",\"fromcurrent\":true,\"transition\":{\"duration\":0,\"easing\":\"linear\"}}],\"label\":\"2018\",\"method\":\"animate\"},{\"args\":[[\"2019\"],{\"frame\":{\"duration\":0,\"redraw\":false},\"mode\":\"immediate\",\"fromcurrent\":true,\"transition\":{\"duration\":0,\"easing\":\"linear\"}}],\"label\":\"2019\",\"method\":\"animate\"}],\"x\":0.1,\"xanchor\":\"left\",\"y\":0,\"yanchor\":\"top\"}]},                        {\"responsive\": true}                    ).then(function(){\n",
              "                            Plotly.addFrames('dbf2cf58-983d-4d1d-8fe3-b3855d3bb5ea', [{\"data\":[{\"hovertemplate\":\"<b>%{hovertext}</b><br><br>G\\u00eanero=Fiction<br>Ano=2009<br>M\\u00e9dia anual Reviews=%{x}<br>M\\u00e9dia anual Notas=%{y}<br>M\\u00e9dia anual Pre\\u00e7o=%{marker.size}<extra></extra>\",\"hovertext\":[\"Fiction\"],\"ids\":[\"Fiction\"],\"legendgroup\":\"Fiction\",\"marker\":{\"color\":\"#636efa\",\"size\":[17.55],\"sizemode\":\"area\",\"sizeref\":0.07138888888888889,\"symbol\":\"circle\"},\"mode\":\"markers\",\"name\":\"Fiction\",\"orientation\":\"v\",\"showlegend\":true,\"x\":[5402.3],\"xaxis\":\"x\",\"y\":[4.58],\"yaxis\":\"y\",\"type\":\"scatter\"},{\"hovertemplate\":\"<b>%{hovertext}</b><br><br>G\\u00eanero=Non Fiction<br>Ano=2009<br>M\\u00e9dia anual Reviews=%{x}<br>M\\u00e9dia anual Notas=%{y}<br>M\\u00e9dia anual Pre\\u00e7o=%{marker.size}<extra></extra>\",\"hovertext\":[\"Non Fiction\"],\"ids\":[\"Non Fiction\"],\"legendgroup\":\"Non Fiction\",\"marker\":{\"color\":\"#EF553B\",\"size\":[13.555555555555555],\"sizemode\":\"area\",\"sizeref\":0.07138888888888889,\"symbol\":\"circle\"},\"mode\":\"markers\",\"name\":\"Non Fiction\",\"orientation\":\"v\",\"showlegend\":true,\"x\":[1875.388888888889],\"xaxis\":\"x\",\"y\":[4.622222222222223],\"yaxis\":\"y\",\"type\":\"scatter\"}],\"name\":\"2009\"},{\"data\":[{\"hovertemplate\":\"<b>%{hovertext}</b><br><br>G\\u00eanero=Fiction<br>Ano=2010<br>M\\u00e9dia anual Reviews=%{x}<br>M\\u00e9dia anual Notas=%{y}<br>M\\u00e9dia anual Pre\\u00e7o=%{marker.size}<extra></extra>\",\"hovertext\":[\"Fiction\"],\"ids\":[\"Fiction\"],\"legendgroup\":\"Fiction\",\"marker\":{\"color\":\"#636efa\",\"size\":[9.571428571428571],\"sizemode\":\"area\",\"sizeref\":0.07138888888888889,\"symbol\":\"circle\"},\"mode\":\"markers\",\"name\":\"Fiction\",\"orientation\":\"v\",\"showlegend\":true,\"x\":[5752.357142857143],\"xaxis\":\"x\",\"y\":[4.5928571428571425],\"yaxis\":\"y\",\"type\":\"scatter\"},{\"hovertemplate\":\"<b>%{hovertext}</b><br><br>G\\u00eanero=Non Fiction<br>Ano=2010<br>M\\u00e9dia anual Reviews=%{x}<br>M\\u00e9dia anual Notas=%{y}<br>M\\u00e9dia anual Pre\\u00e7o=%{marker.size}<extra></extra>\",\"hovertext\":[\"Non Fiction\"],\"ids\":[\"Non Fiction\"],\"legendgroup\":\"Non Fiction\",\"marker\":{\"color\":\"#EF553B\",\"size\":[13.526315789473685],\"sizemode\":\"area\",\"sizeref\":0.07138888888888889,\"symbol\":\"circle\"},\"mode\":\"markers\",\"name\":\"Non Fiction\",\"orientation\":\"v\",\"showlegend\":true,\"x\":[1983.1052631578948],\"xaxis\":\"x\",\"y\":[4.505263157894737],\"yaxis\":\"y\",\"type\":\"scatter\"}],\"name\":\"2010\"},{\"data\":[{\"hovertemplate\":\"<b>%{hovertext}</b><br><br>G\\u00eanero=Fiction<br>Ano=2011<br>M\\u00e9dia anual Reviews=%{x}<br>M\\u00e9dia anual Notas=%{y}<br>M\\u00e9dia anual Pre\\u00e7o=%{marker.size}<extra></extra>\",\"hovertext\":[\"Fiction\"],\"ids\":[\"Fiction\"],\"legendgroup\":\"Fiction\",\"marker\":{\"color\":\"#636efa\",\"size\":[11.6],\"sizemode\":\"area\",\"sizeref\":0.07138888888888889,\"symbol\":\"circle\"},\"mode\":\"markers\",\"name\":\"Fiction\",\"orientation\":\"v\",\"showlegend\":true,\"x\":[6610.0],\"xaxis\":\"x\",\"y\":[4.593333333333334],\"yaxis\":\"y\",\"type\":\"scatter\"},{\"hovertemplate\":\"<b>%{hovertext}</b><br><br>G\\u00eanero=Non Fiction<br>Ano=2011<br>M\\u00e9dia anual Reviews=%{x}<br>M\\u00e9dia anual Notas=%{y}<br>M\\u00e9dia anual Pre\\u00e7o=%{marker.size}<extra></extra>\",\"hovertext\":[\"Non Fiction\"],\"ids\":[\"Non Fiction\"],\"legendgroup\":\"Non Fiction\",\"marker\":{\"color\":\"#EF553B\",\"size\":[17.416666666666668],\"sizemode\":\"area\",\"sizeref\":0.07138888888888889,\"symbol\":\"circle\"},\"mode\":\"markers\",\"name\":\"Non Fiction\",\"orientation\":\"v\",\"showlegend\":true,\"x\":[3117.3333333333335],\"xaxis\":\"x\",\"y\":[4.425],\"yaxis\":\"y\",\"type\":\"scatter\"}],\"name\":\"2011\"},{\"data\":[{\"hovertemplate\":\"<b>%{hovertext}</b><br><br>G\\u00eanero=Fiction<br>Ano=2012<br>M\\u00e9dia anual Reviews=%{x}<br>M\\u00e9dia anual Notas=%{y}<br>M\\u00e9dia anual Pre\\u00e7o=%{marker.size}<extra></extra>\",\"hovertext\":[\"Fiction\"],\"ids\":[\"Fiction\"],\"legendgroup\":\"Fiction\",\"marker\":{\"color\":\"#636efa\",\"size\":[13.857142857142858],\"sizemode\":\"area\",\"sizeref\":0.07138888888888889,\"symbol\":\"circle\"},\"mode\":\"markers\",\"name\":\"Fiction\",\"orientation\":\"v\",\"showlegend\":true,\"x\":[15480.07142857143],\"xaxis\":\"x\",\"y\":[4.507142857142857],\"yaxis\":\"y\",\"type\":\"scatter\"},{\"hovertemplate\":\"<b>%{hovertext}</b><br><br>G\\u00eanero=Non Fiction<br>Ano=2012<br>M\\u00e9dia anual Reviews=%{x}<br>M\\u00e9dia anual Notas=%{y}<br>M\\u00e9dia anual Pre\\u00e7o=%{marker.size}<extra></extra>\",\"hovertext\":[\"Non Fiction\"],\"ids\":[\"Non Fiction\"],\"legendgroup\":\"Non Fiction\",\"marker\":{\"color\":\"#EF553B\",\"size\":[15.88888888888889],\"sizemode\":\"area\",\"sizeref\":0.07138888888888889,\"symbol\":\"circle\"},\"mode\":\"markers\",\"name\":\"Non Fiction\",\"orientation\":\"v\",\"showlegend\":true,\"x\":[6971.944444444444],\"xaxis\":\"x\",\"y\":[4.577777777777778],\"yaxis\":\"y\",\"type\":\"scatter\"}],\"name\":\"2012\"},{\"data\":[{\"hovertemplate\":\"<b>%{hovertext}</b><br><br>G\\u00eanero=Fiction<br>Ano=2013<br>M\\u00e9dia anual Reviews=%{x}<br>M\\u00e9dia anual Notas=%{y}<br>M\\u00e9dia anual Pre\\u00e7o=%{marker.size}<extra></extra>\",\"hovertext\":[\"Fiction\"],\"ids\":[\"Fiction\"],\"legendgroup\":\"Fiction\",\"marker\":{\"color\":\"#636efa\",\"size\":[11.923076923076923],\"sizemode\":\"area\",\"sizeref\":0.07138888888888889,\"symbol\":\"circle\"},\"mode\":\"markers\",\"name\":\"Fiction\",\"orientation\":\"v\",\"showlegend\":true,\"x\":[13697.23076923077],\"xaxis\":\"x\",\"y\":[4.515384615384615],\"yaxis\":\"y\",\"type\":\"scatter\"},{\"hovertemplate\":\"<b>%{hovertext}</b><br><br>G\\u00eanero=Non Fiction<br>Ano=2013<br>M\\u00e9dia anual Reviews=%{x}<br>M\\u00e9dia anual Notas=%{y}<br>M\\u00e9dia anual Pre\\u00e7o=%{marker.size}<extra></extra>\",\"hovertext\":[\"Non Fiction\"],\"ids\":[\"Non Fiction\"],\"legendgroup\":\"Non Fiction\",\"marker\":{\"color\":\"#EF553B\",\"size\":[11.733333333333333],\"sizemode\":\"area\",\"sizeref\":0.07138888888888889,\"symbol\":\"circle\"},\"mode\":\"markers\",\"name\":\"Non Fiction\",\"orientation\":\"v\",\"showlegend\":true,\"x\":[5590.333333333333],\"xaxis\":\"x\",\"y\":[4.5600000000000005],\"yaxis\":\"y\",\"type\":\"scatter\"}],\"name\":\"2013\"},{\"data\":[{\"hovertemplate\":\"<b>%{hovertext}</b><br><br>G\\u00eanero=Fiction<br>Ano=2014<br>M\\u00e9dia anual Reviews=%{x}<br>M\\u00e9dia anual Notas=%{y}<br>M\\u00e9dia anual Pre\\u00e7o=%{marker.size}<extra></extra>\",\"hovertext\":[\"Fiction\"],\"ids\":[\"Fiction\"],\"legendgroup\":\"Fiction\",\"marker\":{\"color\":\"#636efa\",\"size\":[11.5],\"sizemode\":\"area\",\"sizeref\":0.07138888888888889,\"symbol\":\"circle\"},\"mode\":\"markers\",\"name\":\"Fiction\",\"orientation\":\"v\",\"showlegend\":true,\"x\":[17520.9],\"xaxis\":\"x\",\"y\":[4.5600000000000005],\"yaxis\":\"y\",\"type\":\"scatter\"},{\"hovertemplate\":\"<b>%{hovertext}</b><br><br>G\\u00eanero=Non Fiction<br>Ano=2014<br>M\\u00e9dia anual Reviews=%{x}<br>M\\u00e9dia anual Notas=%{y}<br>M\\u00e9dia anual Pre\\u00e7o=%{marker.size}<extra></extra>\",\"hovertext\":[\"Non Fiction\"],\"ids\":[\"Non Fiction\"],\"legendgroup\":\"Non Fiction\",\"marker\":{\"color\":\"#EF553B\",\"size\":[28.555555555555557],\"sizemode\":\"area\",\"sizeref\":0.07138888888888889,\"symbol\":\"circle\"},\"mode\":\"markers\",\"name\":\"Non Fiction\",\"orientation\":\"v\",\"showlegend\":true,\"x\":[7944.888888888889],\"xaxis\":\"x\",\"y\":[4.6],\"yaxis\":\"y\",\"type\":\"scatter\"}],\"name\":\"2014\"},{\"data\":[{\"hovertemplate\":\"<b>%{hovertext}</b><br><br>G\\u00eanero=Fiction<br>Ano=2015<br>M\\u00e9dia anual Reviews=%{x}<br>M\\u00e9dia anual Notas=%{y}<br>M\\u00e9dia anual Pre\\u00e7o=%{marker.size}<extra></extra>\",\"hovertext\":[\"Fiction\"],\"ids\":[\"Fiction\"],\"legendgroup\":\"Fiction\",\"marker\":{\"color\":\"#636efa\",\"size\":[11.0],\"sizemode\":\"area\",\"sizeref\":0.07138888888888889,\"symbol\":\"circle\"},\"mode\":\"markers\",\"name\":\"Fiction\",\"orientation\":\"v\",\"showlegend\":true,\"x\":[17785.666666666668],\"xaxis\":\"x\",\"y\":[4.577777777777778],\"yaxis\":\"y\",\"type\":\"scatter\"},{\"hovertemplate\":\"<b>%{hovertext}</b><br><br>G\\u00eanero=Non Fiction<br>Ano=2015<br>M\\u00e9dia anual Reviews=%{x}<br>M\\u00e9dia anual Notas=%{y}<br>M\\u00e9dia anual Pre\\u00e7o=%{marker.size}<extra></extra>\",\"hovertext\":[\"Non Fiction\"],\"ids\":[\"Non Fiction\"],\"legendgroup\":\"Non Fiction\",\"marker\":{\"color\":\"#EF553B\",\"size\":[8.894736842105264],\"sizemode\":\"area\",\"sizeref\":0.07138888888888889,\"symbol\":\"circle\"},\"mode\":\"markers\",\"name\":\"Non Fiction\",\"orientation\":\"v\",\"showlegend\":true,\"x\":[6086.8421052631575],\"xaxis\":\"x\",\"y\":[4.6684210526315795],\"yaxis\":\"y\",\"type\":\"scatter\"}],\"name\":\"2015\"},{\"data\":[{\"hovertemplate\":\"<b>%{hovertext}</b><br><br>G\\u00eanero=Fiction<br>Ano=2016<br>M\\u00e9dia anual Reviews=%{x}<br>M\\u00e9dia anual Notas=%{y}<br>M\\u00e9dia anual Pre\\u00e7o=%{marker.size}<extra></extra>\",\"hovertext\":[\"Fiction\"],\"ids\":[\"Fiction\"],\"legendgroup\":\"Fiction\",\"marker\":{\"color\":\"#636efa\",\"size\":[19.77777777777778],\"sizemode\":\"area\",\"sizeref\":0.07138888888888889,\"symbol\":\"circle\"},\"mode\":\"markers\",\"name\":\"Fiction\",\"orientation\":\"v\",\"showlegend\":true,\"x\":[23204.777777777777],\"xaxis\":\"x\",\"y\":[4.633333333333334],\"yaxis\":\"y\",\"type\":\"scatter\"},{\"hovertemplate\":\"<b>%{hovertext}</b><br><br>G\\u00eanero=Non Fiction<br>Ano=2016<br>M\\u00e9dia anual Reviews=%{x}<br>M\\u00e9dia anual Notas=%{y}<br>M\\u00e9dia anual Pre\\u00e7o=%{marker.size}<extra></extra>\",\"hovertext\":[\"Non Fiction\"],\"ids\":[\"Non Fiction\"],\"legendgroup\":\"Non Fiction\",\"marker\":{\"color\":\"#EF553B\",\"size\":[13.352941176470589],\"sizemode\":\"area\",\"sizeref\":0.07138888888888889,\"symbol\":\"circle\"},\"mode\":\"markers\",\"name\":\"Non Fiction\",\"orientation\":\"v\",\"showlegend\":true,\"x\":[7804.411764705882],\"xaxis\":\"x\",\"y\":[4.711764705882352],\"yaxis\":\"y\",\"type\":\"scatter\"}],\"name\":\"2016\"},{\"data\":[{\"hovertemplate\":\"<b>%{hovertext}</b><br><br>G\\u00eanero=Fiction<br>Ano=2017<br>M\\u00e9dia anual Reviews=%{x}<br>M\\u00e9dia anual Notas=%{y}<br>M\\u00e9dia anual Pre\\u00e7o=%{marker.size}<extra></extra>\",\"hovertext\":[\"Fiction\"],\"ids\":[\"Fiction\"],\"legendgroup\":\"Fiction\",\"marker\":{\"color\":\"#636efa\",\"size\":[9.384615384615385],\"sizemode\":\"area\",\"sizeref\":0.07138888888888889,\"symbol\":\"circle\"},\"mode\":\"markers\",\"name\":\"Fiction\",\"orientation\":\"v\",\"showlegend\":true,\"x\":[14336.0],\"xaxis\":\"x\",\"y\":[4.6692307692307695],\"yaxis\":\"y\",\"type\":\"scatter\"},{\"hovertemplate\":\"<b>%{hovertext}</b><br><br>G\\u00eanero=Non Fiction<br>Ano=2017<br>M\\u00e9dia anual Reviews=%{x}<br>M\\u00e9dia anual Notas=%{y}<br>M\\u00e9dia anual Pre\\u00e7o=%{marker.size}<extra></extra>\",\"hovertext\":[\"Non Fiction\"],\"ids\":[\"Non Fiction\"],\"legendgroup\":\"Non Fiction\",\"marker\":{\"color\":\"#EF553B\",\"size\":[14.5625],\"sizemode\":\"area\",\"sizeref\":0.07138888888888889,\"symbol\":\"circle\"},\"mode\":\"markers\",\"name\":\"Non Fiction\",\"orientation\":\"v\",\"showlegend\":true,\"x\":[6587.5625],\"xaxis\":\"x\",\"y\":[4.56875],\"yaxis\":\"y\",\"type\":\"scatter\"}],\"name\":\"2017\"},{\"data\":[{\"hovertemplate\":\"<b>%{hovertext}</b><br><br>G\\u00eanero=Fiction<br>Ano=2018<br>M\\u00e9dia anual Reviews=%{x}<br>M\\u00e9dia anual Notas=%{y}<br>M\\u00e9dia anual Pre\\u00e7o=%{marker.size}<extra></extra>\",\"hovertext\":[\"Fiction\"],\"ids\":[\"Fiction\"],\"legendgroup\":\"Fiction\",\"marker\":{\"color\":\"#636efa\",\"size\":[9.0],\"sizemode\":\"area\",\"sizeref\":0.07138888888888889,\"symbol\":\"circle\"},\"mode\":\"markers\",\"name\":\"Fiction\",\"orientation\":\"v\",\"showlegend\":true,\"x\":[10724.153846153846],\"xaxis\":\"x\",\"y\":[4.6692307692307695],\"yaxis\":\"y\",\"type\":\"scatter\"},{\"hovertemplate\":\"<b>%{hovertext}</b><br><br>G\\u00eanero=Non Fiction<br>Ano=2018<br>M\\u00e9dia anual Reviews=%{x}<br>M\\u00e9dia anual Notas=%{y}<br>M\\u00e9dia anual Pre\\u00e7o=%{marker.size}<extra></extra>\",\"hovertext\":[\"Non Fiction\"],\"ids\":[\"Non Fiction\"],\"legendgroup\":\"Non Fiction\",\"marker\":{\"color\":\"#EF553B\",\"size\":[12.777777777777779],\"sizemode\":\"area\",\"sizeref\":0.07138888888888889,\"symbol\":\"circle\"},\"mode\":\"markers\",\"name\":\"Non Fiction\",\"orientation\":\"v\",\"showlegend\":true,\"x\":[9613.277777777777],\"xaxis\":\"x\",\"y\":[4.577777777777778],\"yaxis\":\"y\",\"type\":\"scatter\"}],\"name\":\"2018\"},{\"data\":[{\"hovertemplate\":\"<b>%{hovertext}</b><br><br>G\\u00eanero=Fiction<br>Ano=2019<br>M\\u00e9dia anual Reviews=%{x}<br>M\\u00e9dia anual Notas=%{y}<br>M\\u00e9dia anual Pre\\u00e7o=%{marker.size}<extra></extra>\",\"hovertext\":[\"Fiction\"],\"ids\":[\"Fiction\"],\"legendgroup\":\"Fiction\",\"marker\":{\"color\":\"#636efa\",\"size\":[9.35],\"sizemode\":\"area\",\"sizeref\":0.07138888888888889,\"symbol\":\"circle\"},\"mode\":\"markers\",\"name\":\"Fiction\",\"orientation\":\"v\",\"showlegend\":true,\"x\":[18507.15],\"xaxis\":\"x\",\"y\":[4.82],\"yaxis\":\"y\",\"type\":\"scatter\"},{\"hovertemplate\":\"<b>%{hovertext}</b><br><br>G\\u00eanero=Non Fiction<br>Ano=2019<br>M\\u00e9dia anual Reviews=%{x}<br>M\\u00e9dia anual Notas=%{y}<br>M\\u00e9dia anual Pre\\u00e7o=%{marker.size}<extra></extra>\",\"hovertext\":[\"Non Fiction\"],\"ids\":[\"Non Fiction\"],\"legendgroup\":\"Non Fiction\",\"marker\":{\"color\":\"#EF553B\",\"size\":[10.482758620689655],\"sizemode\":\"area\",\"sizeref\":0.07138888888888889,\"symbol\":\"circle\"},\"mode\":\"markers\",\"name\":\"Non Fiction\",\"orientation\":\"v\",\"showlegend\":true,\"x\":[14392.344827586207],\"xaxis\":\"x\",\"y\":[4.69655172413793],\"yaxis\":\"y\",\"type\":\"scatter\"}],\"name\":\"2019\"}]);\n",
              "                        }).then(function(){\n",
              "                            \n",
              "var gd = document.getElementById('dbf2cf58-983d-4d1d-8fe3-b3855d3bb5ea');\n",
              "var x = new MutationObserver(function (mutations, observer) {{\n",
              "        var display = window.getComputedStyle(gd).display;\n",
              "        if (!display || display === 'none') {{\n",
              "            console.log([gd, 'removed!']);\n",
              "            Plotly.purge(gd);\n",
              "            observer.disconnect();\n",
              "        }}\n",
              "}});\n",
              "\n",
              "// Listen for the removal of the full notebook cells\n",
              "var notebookContainer = gd.closest('#notebook-container');\n",
              "if (notebookContainer) {{\n",
              "    x.observe(notebookContainer, {childList: true});\n",
              "}}\n",
              "\n",
              "// Listen for the clearing of the current output cell\n",
              "var outputEl = gd.closest('.output');\n",
              "if (outputEl) {{\n",
              "    x.observe(outputEl, {childList: true});\n",
              "}}\n",
              "\n",
              "                        })                };                            </script>        </div>\n",
              "</body>\n",
              "</html>"
            ]
          },
          "metadata": {}
        }
      ]
    },
    {
      "cell_type": "markdown",
      "source": [
        "- Acima, podemos observar que os livros de Ficção sempre receberam mais avaliações do que os de Não Ficção"
      ],
      "metadata": {
        "id": "L4AoOjh25Jj4"
      }
    },
    {
      "cell_type": "markdown",
      "source": [
        "## Plot 3D Media preço por Media de Reviews por Média de Nota"
      ],
      "metadata": {
        "id": "IH26zIiA9f_p"
      }
    },
    {
      "cell_type": "code",
      "source": [
        "fig = px.scatter_3d(df_medias, x='media_review', y='media_user_rating', z='media_preco',\n",
        "                    color='Genre', symbol='Genre', template= \"plotly_dark\")\n",
        "fig.update_layout(width=700, height=700)"
      ],
      "metadata": {
        "colab": {
          "base_uri": "https://localhost:8080/",
          "height": 717
        },
        "id": "y7OzRA9LjTiz",
        "outputId": "2a785d02-491a-4988-b03c-b7fab3965497"
      },
      "execution_count": null,
      "outputs": [
        {
          "output_type": "display_data",
          "data": {
            "text/html": [
              "<html>\n",
              "<head><meta charset=\"utf-8\" /></head>\n",
              "<body>\n",
              "    <div>            <script src=\"https://cdnjs.cloudflare.com/ajax/libs/mathjax/2.7.5/MathJax.js?config=TeX-AMS-MML_SVG\"></script><script type=\"text/javascript\">if (window.MathJax) {MathJax.Hub.Config({SVG: {font: \"STIX-Web\"}});}</script>                <script type=\"text/javascript\">window.PlotlyConfig = {MathJaxConfig: 'local'};</script>\n",
              "        <script src=\"https://cdn.plot.ly/plotly-2.8.3.min.js\"></script>                <div id=\"ed2f5905-8d81-4f44-8771-3765ae18aa19\" class=\"plotly-graph-div\" style=\"height:700px; width:700px;\"></div>            <script type=\"text/javascript\">                                    window.PLOTLYENV=window.PLOTLYENV || {};                                    if (document.getElementById(\"ed2f5905-8d81-4f44-8771-3765ae18aa19\")) {                    Plotly.newPlot(                        \"ed2f5905-8d81-4f44-8771-3765ae18aa19\",                        [{\"hovertemplate\":\"Genre=Fiction<br>media_review=%{x}<br>media_user_rating=%{y}<br>media_preco=%{z}<extra></extra>\",\"legendgroup\":\"Fiction\",\"marker\":{\"color\":\"#636efa\",\"symbol\":\"circle\"},\"mode\":\"markers\",\"name\":\"Fiction\",\"scene\":\"scene\",\"showlegend\":true,\"x\":[5402.3,5752.357142857143,6610.0,15480.07142857143,13697.23076923077,17520.9,17785.666666666668,23204.777777777777,14336.0,10724.153846153846,18507.15],\"y\":[4.58,4.5928571428571425,4.593333333333334,4.507142857142857,4.515384615384615,4.5600000000000005,4.577777777777778,4.633333333333334,4.6692307692307695,4.6692307692307695,4.82],\"z\":[17.55,9.571428571428571,11.6,13.857142857142858,11.923076923076923,11.5,11.0,19.77777777777778,9.384615384615385,9.0,9.35],\"type\":\"scatter3d\"},{\"hovertemplate\":\"Genre=Non Fiction<br>media_review=%{x}<br>media_user_rating=%{y}<br>media_preco=%{z}<extra></extra>\",\"legendgroup\":\"Non Fiction\",\"marker\":{\"color\":\"#EF553B\",\"symbol\":\"diamond\"},\"mode\":\"markers\",\"name\":\"Non Fiction\",\"scene\":\"scene\",\"showlegend\":true,\"x\":[1875.388888888889,1983.1052631578948,3117.3333333333335,6971.944444444444,5590.333333333333,7944.888888888889,6086.8421052631575,7804.411764705882,6587.5625,9613.277777777777,14392.344827586207],\"y\":[4.622222222222223,4.505263157894737,4.425,4.577777777777778,4.5600000000000005,4.6,4.6684210526315795,4.711764705882352,4.56875,4.577777777777778,4.69655172413793],\"z\":[13.555555555555555,13.526315789473685,17.416666666666668,15.88888888888889,11.733333333333333,28.555555555555557,8.894736842105264,13.352941176470589,14.5625,12.777777777777779,10.482758620689655],\"type\":\"scatter3d\"}],                        {\"template\":{\"data\":{\"barpolar\":[{\"marker\":{\"line\":{\"color\":\"rgb(17,17,17)\",\"width\":0.5},\"pattern\":{\"fillmode\":\"overlay\",\"size\":10,\"solidity\":0.2}},\"type\":\"barpolar\"}],\"bar\":[{\"error_x\":{\"color\":\"#f2f5fa\"},\"error_y\":{\"color\":\"#f2f5fa\"},\"marker\":{\"line\":{\"color\":\"rgb(17,17,17)\",\"width\":0.5},\"pattern\":{\"fillmode\":\"overlay\",\"size\":10,\"solidity\":0.2}},\"type\":\"bar\"}],\"carpet\":[{\"aaxis\":{\"endlinecolor\":\"#A2B1C6\",\"gridcolor\":\"#506784\",\"linecolor\":\"#506784\",\"minorgridcolor\":\"#506784\",\"startlinecolor\":\"#A2B1C6\"},\"baxis\":{\"endlinecolor\":\"#A2B1C6\",\"gridcolor\":\"#506784\",\"linecolor\":\"#506784\",\"minorgridcolor\":\"#506784\",\"startlinecolor\":\"#A2B1C6\"},\"type\":\"carpet\"}],\"choropleth\":[{\"colorbar\":{\"outlinewidth\":0,\"ticks\":\"\"},\"type\":\"choropleth\"}],\"contourcarpet\":[{\"colorbar\":{\"outlinewidth\":0,\"ticks\":\"\"},\"type\":\"contourcarpet\"}],\"contour\":[{\"colorbar\":{\"outlinewidth\":0,\"ticks\":\"\"},\"colorscale\":[[0.0,\"#0d0887\"],[0.1111111111111111,\"#46039f\"],[0.2222222222222222,\"#7201a8\"],[0.3333333333333333,\"#9c179e\"],[0.4444444444444444,\"#bd3786\"],[0.5555555555555556,\"#d8576b\"],[0.6666666666666666,\"#ed7953\"],[0.7777777777777778,\"#fb9f3a\"],[0.8888888888888888,\"#fdca26\"],[1.0,\"#f0f921\"]],\"type\":\"contour\"}],\"heatmapgl\":[{\"colorbar\":{\"outlinewidth\":0,\"ticks\":\"\"},\"colorscale\":[[0.0,\"#0d0887\"],[0.1111111111111111,\"#46039f\"],[0.2222222222222222,\"#7201a8\"],[0.3333333333333333,\"#9c179e\"],[0.4444444444444444,\"#bd3786\"],[0.5555555555555556,\"#d8576b\"],[0.6666666666666666,\"#ed7953\"],[0.7777777777777778,\"#fb9f3a\"],[0.8888888888888888,\"#fdca26\"],[1.0,\"#f0f921\"]],\"type\":\"heatmapgl\"}],\"heatmap\":[{\"colorbar\":{\"outlinewidth\":0,\"ticks\":\"\"},\"colorscale\":[[0.0,\"#0d0887\"],[0.1111111111111111,\"#46039f\"],[0.2222222222222222,\"#7201a8\"],[0.3333333333333333,\"#9c179e\"],[0.4444444444444444,\"#bd3786\"],[0.5555555555555556,\"#d8576b\"],[0.6666666666666666,\"#ed7953\"],[0.7777777777777778,\"#fb9f3a\"],[0.8888888888888888,\"#fdca26\"],[1.0,\"#f0f921\"]],\"type\":\"heatmap\"}],\"histogram2dcontour\":[{\"colorbar\":{\"outlinewidth\":0,\"ticks\":\"\"},\"colorscale\":[[0.0,\"#0d0887\"],[0.1111111111111111,\"#46039f\"],[0.2222222222222222,\"#7201a8\"],[0.3333333333333333,\"#9c179e\"],[0.4444444444444444,\"#bd3786\"],[0.5555555555555556,\"#d8576b\"],[0.6666666666666666,\"#ed7953\"],[0.7777777777777778,\"#fb9f3a\"],[0.8888888888888888,\"#fdca26\"],[1.0,\"#f0f921\"]],\"type\":\"histogram2dcontour\"}],\"histogram2d\":[{\"colorbar\":{\"outlinewidth\":0,\"ticks\":\"\"},\"colorscale\":[[0.0,\"#0d0887\"],[0.1111111111111111,\"#46039f\"],[0.2222222222222222,\"#7201a8\"],[0.3333333333333333,\"#9c179e\"],[0.4444444444444444,\"#bd3786\"],[0.5555555555555556,\"#d8576b\"],[0.6666666666666666,\"#ed7953\"],[0.7777777777777778,\"#fb9f3a\"],[0.8888888888888888,\"#fdca26\"],[1.0,\"#f0f921\"]],\"type\":\"histogram2d\"}],\"histogram\":[{\"marker\":{\"pattern\":{\"fillmode\":\"overlay\",\"size\":10,\"solidity\":0.2}},\"type\":\"histogram\"}],\"mesh3d\":[{\"colorbar\":{\"outlinewidth\":0,\"ticks\":\"\"},\"type\":\"mesh3d\"}],\"parcoords\":[{\"line\":{\"colorbar\":{\"outlinewidth\":0,\"ticks\":\"\"}},\"type\":\"parcoords\"}],\"pie\":[{\"automargin\":true,\"type\":\"pie\"}],\"scatter3d\":[{\"line\":{\"colorbar\":{\"outlinewidth\":0,\"ticks\":\"\"}},\"marker\":{\"colorbar\":{\"outlinewidth\":0,\"ticks\":\"\"}},\"type\":\"scatter3d\"}],\"scattercarpet\":[{\"marker\":{\"colorbar\":{\"outlinewidth\":0,\"ticks\":\"\"}},\"type\":\"scattercarpet\"}],\"scattergeo\":[{\"marker\":{\"colorbar\":{\"outlinewidth\":0,\"ticks\":\"\"}},\"type\":\"scattergeo\"}],\"scattergl\":[{\"marker\":{\"line\":{\"color\":\"#283442\"}},\"type\":\"scattergl\"}],\"scattermapbox\":[{\"marker\":{\"colorbar\":{\"outlinewidth\":0,\"ticks\":\"\"}},\"type\":\"scattermapbox\"}],\"scatterpolargl\":[{\"marker\":{\"colorbar\":{\"outlinewidth\":0,\"ticks\":\"\"}},\"type\":\"scatterpolargl\"}],\"scatterpolar\":[{\"marker\":{\"colorbar\":{\"outlinewidth\":0,\"ticks\":\"\"}},\"type\":\"scatterpolar\"}],\"scatter\":[{\"marker\":{\"line\":{\"color\":\"#283442\"}},\"type\":\"scatter\"}],\"scatterternary\":[{\"marker\":{\"colorbar\":{\"outlinewidth\":0,\"ticks\":\"\"}},\"type\":\"scatterternary\"}],\"surface\":[{\"colorbar\":{\"outlinewidth\":0,\"ticks\":\"\"},\"colorscale\":[[0.0,\"#0d0887\"],[0.1111111111111111,\"#46039f\"],[0.2222222222222222,\"#7201a8\"],[0.3333333333333333,\"#9c179e\"],[0.4444444444444444,\"#bd3786\"],[0.5555555555555556,\"#d8576b\"],[0.6666666666666666,\"#ed7953\"],[0.7777777777777778,\"#fb9f3a\"],[0.8888888888888888,\"#fdca26\"],[1.0,\"#f0f921\"]],\"type\":\"surface\"}],\"table\":[{\"cells\":{\"fill\":{\"color\":\"#506784\"},\"line\":{\"color\":\"rgb(17,17,17)\"}},\"header\":{\"fill\":{\"color\":\"#2a3f5f\"},\"line\":{\"color\":\"rgb(17,17,17)\"}},\"type\":\"table\"}]},\"layout\":{\"annotationdefaults\":{\"arrowcolor\":\"#f2f5fa\",\"arrowhead\":0,\"arrowwidth\":1},\"autotypenumbers\":\"strict\",\"coloraxis\":{\"colorbar\":{\"outlinewidth\":0,\"ticks\":\"\"}},\"colorscale\":{\"diverging\":[[0,\"#8e0152\"],[0.1,\"#c51b7d\"],[0.2,\"#de77ae\"],[0.3,\"#f1b6da\"],[0.4,\"#fde0ef\"],[0.5,\"#f7f7f7\"],[0.6,\"#e6f5d0\"],[0.7,\"#b8e186\"],[0.8,\"#7fbc41\"],[0.9,\"#4d9221\"],[1,\"#276419\"]],\"sequential\":[[0.0,\"#0d0887\"],[0.1111111111111111,\"#46039f\"],[0.2222222222222222,\"#7201a8\"],[0.3333333333333333,\"#9c179e\"],[0.4444444444444444,\"#bd3786\"],[0.5555555555555556,\"#d8576b\"],[0.6666666666666666,\"#ed7953\"],[0.7777777777777778,\"#fb9f3a\"],[0.8888888888888888,\"#fdca26\"],[1.0,\"#f0f921\"]],\"sequentialminus\":[[0.0,\"#0d0887\"],[0.1111111111111111,\"#46039f\"],[0.2222222222222222,\"#7201a8\"],[0.3333333333333333,\"#9c179e\"],[0.4444444444444444,\"#bd3786\"],[0.5555555555555556,\"#d8576b\"],[0.6666666666666666,\"#ed7953\"],[0.7777777777777778,\"#fb9f3a\"],[0.8888888888888888,\"#fdca26\"],[1.0,\"#f0f921\"]]},\"colorway\":[\"#636efa\",\"#EF553B\",\"#00cc96\",\"#ab63fa\",\"#FFA15A\",\"#19d3f3\",\"#FF6692\",\"#B6E880\",\"#FF97FF\",\"#FECB52\"],\"font\":{\"color\":\"#f2f5fa\"},\"geo\":{\"bgcolor\":\"rgb(17,17,17)\",\"lakecolor\":\"rgb(17,17,17)\",\"landcolor\":\"rgb(17,17,17)\",\"showlakes\":true,\"showland\":true,\"subunitcolor\":\"#506784\"},\"hoverlabel\":{\"align\":\"left\"},\"hovermode\":\"closest\",\"mapbox\":{\"style\":\"dark\"},\"paper_bgcolor\":\"rgb(17,17,17)\",\"plot_bgcolor\":\"rgb(17,17,17)\",\"polar\":{\"angularaxis\":{\"gridcolor\":\"#506784\",\"linecolor\":\"#506784\",\"ticks\":\"\"},\"bgcolor\":\"rgb(17,17,17)\",\"radialaxis\":{\"gridcolor\":\"#506784\",\"linecolor\":\"#506784\",\"ticks\":\"\"}},\"scene\":{\"xaxis\":{\"backgroundcolor\":\"rgb(17,17,17)\",\"gridcolor\":\"#506784\",\"gridwidth\":2,\"linecolor\":\"#506784\",\"showbackground\":true,\"ticks\":\"\",\"zerolinecolor\":\"#C8D4E3\"},\"yaxis\":{\"backgroundcolor\":\"rgb(17,17,17)\",\"gridcolor\":\"#506784\",\"gridwidth\":2,\"linecolor\":\"#506784\",\"showbackground\":true,\"ticks\":\"\",\"zerolinecolor\":\"#C8D4E3\"},\"zaxis\":{\"backgroundcolor\":\"rgb(17,17,17)\",\"gridcolor\":\"#506784\",\"gridwidth\":2,\"linecolor\":\"#506784\",\"showbackground\":true,\"ticks\":\"\",\"zerolinecolor\":\"#C8D4E3\"}},\"shapedefaults\":{\"line\":{\"color\":\"#f2f5fa\"}},\"sliderdefaults\":{\"bgcolor\":\"#C8D4E3\",\"bordercolor\":\"rgb(17,17,17)\",\"borderwidth\":1,\"tickwidth\":0},\"ternary\":{\"aaxis\":{\"gridcolor\":\"#506784\",\"linecolor\":\"#506784\",\"ticks\":\"\"},\"baxis\":{\"gridcolor\":\"#506784\",\"linecolor\":\"#506784\",\"ticks\":\"\"},\"bgcolor\":\"rgb(17,17,17)\",\"caxis\":{\"gridcolor\":\"#506784\",\"linecolor\":\"#506784\",\"ticks\":\"\"}},\"title\":{\"x\":0.05},\"updatemenudefaults\":{\"bgcolor\":\"#506784\",\"borderwidth\":0},\"xaxis\":{\"automargin\":true,\"gridcolor\":\"#283442\",\"linecolor\":\"#506784\",\"ticks\":\"\",\"title\":{\"standoff\":15},\"zerolinecolor\":\"#283442\",\"zerolinewidth\":2},\"yaxis\":{\"automargin\":true,\"gridcolor\":\"#283442\",\"linecolor\":\"#506784\",\"ticks\":\"\",\"title\":{\"standoff\":15},\"zerolinecolor\":\"#283442\",\"zerolinewidth\":2}}},\"scene\":{\"domain\":{\"x\":[0.0,1.0],\"y\":[0.0,1.0]},\"xaxis\":{\"title\":{\"text\":\"media_review\"}},\"yaxis\":{\"title\":{\"text\":\"media_user_rating\"}},\"zaxis\":{\"title\":{\"text\":\"media_preco\"}}},\"legend\":{\"title\":{\"text\":\"Genre\"},\"tracegroupgap\":0},\"margin\":{\"t\":60},\"width\":700,\"height\":700},                        {\"responsive\": true}                    ).then(function(){\n",
              "                            \n",
              "var gd = document.getElementById('ed2f5905-8d81-4f44-8771-3765ae18aa19');\n",
              "var x = new MutationObserver(function (mutations, observer) {{\n",
              "        var display = window.getComputedStyle(gd).display;\n",
              "        if (!display || display === 'none') {{\n",
              "            console.log([gd, 'removed!']);\n",
              "            Plotly.purge(gd);\n",
              "            observer.disconnect();\n",
              "        }}\n",
              "}});\n",
              "\n",
              "// Listen for the removal of the full notebook cells\n",
              "var notebookContainer = gd.closest('#notebook-container');\n",
              "if (notebookContainer) {{\n",
              "    x.observe(notebookContainer, {childList: true});\n",
              "}}\n",
              "\n",
              "// Listen for the clearing of the current output cell\n",
              "var outputEl = gd.closest('.output');\n",
              "if (outputEl) {{\n",
              "    x.observe(outputEl, {childList: true});\n",
              "}}\n",
              "\n",
              "                        })                };                            </script>        </div>\n",
              "</body>\n",
              "</html>"
            ]
          },
          "metadata": {}
        }
      ]
    },
    {
      "cell_type": "markdown",
      "source": [
        "## Boxplot das Notas dadas pelos usuarios"
      ],
      "metadata": {
        "id": "GTYwdyvWMnSU"
      }
    },
    {
      "cell_type": "code",
      "source": [
        "fig = px.box(df, x=\"User Rating\", y=\"Genre\", color= \"Genre\", template=\"plotly_dark\")\n",
        "fig.show()"
      ],
      "metadata": {
        "colab": {
          "base_uri": "https://localhost:8080/",
          "height": 542
        },
        "id": "b7uYjmSkLgDb",
        "outputId": "0db8f28e-6977-4860-9b95-2d327c5160f2"
      },
      "execution_count": null,
      "outputs": [
        {
          "output_type": "display_data",
          "data": {
            "text/html": [
              "<html>\n",
              "<head><meta charset=\"utf-8\" /></head>\n",
              "<body>\n",
              "    <div>            <script src=\"https://cdnjs.cloudflare.com/ajax/libs/mathjax/2.7.5/MathJax.js?config=TeX-AMS-MML_SVG\"></script><script type=\"text/javascript\">if (window.MathJax) {MathJax.Hub.Config({SVG: {font: \"STIX-Web\"}});}</script>                <script type=\"text/javascript\">window.PlotlyConfig = {MathJaxConfig: 'local'};</script>\n",
              "        <script src=\"https://cdn.plot.ly/plotly-2.8.3.min.js\"></script>                <div id=\"d769ac09-00e2-405e-91a5-4df296b20e4b\" class=\"plotly-graph-div\" style=\"height:525px; width:100%;\"></div>            <script type=\"text/javascript\">                                    window.PLOTLYENV=window.PLOTLYENV || {};                                    if (document.getElementById(\"d769ac09-00e2-405e-91a5-4df296b20e4b\")) {                    Plotly.newPlot(                        \"d769ac09-00e2-405e-91a5-4df296b20e4b\",                        [{\"alignmentgroup\":\"True\",\"hovertemplate\":\"Genre=%{y}<br>User Rating=%{x}<extra></extra>\",\"legendgroup\":\"Non Fiction\",\"marker\":{\"color\":\"#636efa\"},\"name\":\"Non Fiction\",\"notched\":false,\"offsetgroup\":\"Non Fiction\",\"orientation\":\"h\",\"showlegend\":true,\"x\":[4.7,4.7,4.8,4.7,4.6,4.6,4.6,4.5,4.6,4.4,4.5,4.8,4.6,4.6,4.7,4.2,4.6,4.6,4.8,4.7,4.8,4.8,4.7,4.7,4.5,4.6,4.8,4.5,4.7,4.7,4.8,4.8,4.8,4.4,4.6,4.6,4.5,4.6,4.6,4.6,4.5,4.5,4.3,4.5,4.7,4.7,4.4,4.2,4.7,4.4,4.4,4.5,4.6,4.6,4.6,4.6,4.6,4.6,4.5,4.6,4.8,4.9,4.8,4.7,4.8,4.7,4.4,4.8,4.7,4.3,4.8,4.9,4.7,4.8,4.4,4.4,4.8,4.9,4.6,4.5,4.6,4.7,4.6,4.6,4.8,4.8,4.5,4.6,4.5,4.5,4.4,4.8,4.5,4.2,4.8,4.5,4.7,4.8,4.7,4.4,4.6,4.8,4.8,4.7,4.6,4.9,4.6,4.5,4.6,4.7,4.3,4.5,4.6,4.7,4.8,4.8,4.7,4.7,4.8,4.1,4.6,4.6,4.0,4.5,4.6,4.4,4.3,4.3,4.8,4.8,4.7,4.6,4.7,4.2,4.8,4.7,4.8,4.7,4.3,4.8,4.4,4.1,4.6,4.6,4.7,4.7,4.3,4.7,4.4,4.5,4.8,4.9,4.6,4.4,4.3,4.8,4.8,4.8,4.5,4.4,4.6,4.6,4.6,4.7,4.4,4.7,4.7,4.6,4.7,4.7,4.6,4.5,4.3,4.6,4.3,4.6,4.5,4.8,4.9,4.8,4.7,4.6,4.7,4.4,4.4,4.8,4.6,4.4,4.2,4.7],\"x0\":\" \",\"xaxis\":\"x\",\"y\":[\"Non Fiction\",\"Non Fiction\",\"Non Fiction\",\"Non Fiction\",\"Non Fiction\",\"Non Fiction\",\"Non Fiction\",\"Non Fiction\",\"Non Fiction\",\"Non Fiction\",\"Non Fiction\",\"Non Fiction\",\"Non Fiction\",\"Non Fiction\",\"Non Fiction\",\"Non Fiction\",\"Non Fiction\",\"Non Fiction\",\"Non Fiction\",\"Non Fiction\",\"Non Fiction\",\"Non Fiction\",\"Non Fiction\",\"Non Fiction\",\"Non Fiction\",\"Non Fiction\",\"Non Fiction\",\"Non Fiction\",\"Non Fiction\",\"Non Fiction\",\"Non Fiction\",\"Non Fiction\",\"Non Fiction\",\"Non Fiction\",\"Non Fiction\",\"Non Fiction\",\"Non Fiction\",\"Non Fiction\",\"Non Fiction\",\"Non Fiction\",\"Non Fiction\",\"Non Fiction\",\"Non Fiction\",\"Non Fiction\",\"Non Fiction\",\"Non Fiction\",\"Non Fiction\",\"Non Fiction\",\"Non Fiction\",\"Non Fiction\",\"Non Fiction\",\"Non Fiction\",\"Non Fiction\",\"Non Fiction\",\"Non Fiction\",\"Non Fiction\",\"Non Fiction\",\"Non Fiction\",\"Non Fiction\",\"Non Fiction\",\"Non Fiction\",\"Non Fiction\",\"Non Fiction\",\"Non Fiction\",\"Non Fiction\",\"Non Fiction\",\"Non Fiction\",\"Non Fiction\",\"Non Fiction\",\"Non Fiction\",\"Non Fiction\",\"Non Fiction\",\"Non Fiction\",\"Non Fiction\",\"Non Fiction\",\"Non Fiction\",\"Non Fiction\",\"Non Fiction\",\"Non Fiction\",\"Non Fiction\",\"Non Fiction\",\"Non Fiction\",\"Non Fiction\",\"Non Fiction\",\"Non Fiction\",\"Non Fiction\",\"Non Fiction\",\"Non Fiction\",\"Non Fiction\",\"Non Fiction\",\"Non Fiction\",\"Non Fiction\",\"Non Fiction\",\"Non Fiction\",\"Non Fiction\",\"Non Fiction\",\"Non Fiction\",\"Non Fiction\",\"Non Fiction\",\"Non Fiction\",\"Non Fiction\",\"Non Fiction\",\"Non Fiction\",\"Non Fiction\",\"Non Fiction\",\"Non Fiction\",\"Non Fiction\",\"Non Fiction\",\"Non Fiction\",\"Non Fiction\",\"Non Fiction\",\"Non Fiction\",\"Non Fiction\",\"Non Fiction\",\"Non Fiction\",\"Non Fiction\",\"Non Fiction\",\"Non Fiction\",\"Non Fiction\",\"Non Fiction\",\"Non Fiction\",\"Non Fiction\",\"Non Fiction\",\"Non Fiction\",\"Non Fiction\",\"Non Fiction\",\"Non Fiction\",\"Non Fiction\",\"Non Fiction\",\"Non Fiction\",\"Non Fiction\",\"Non Fiction\",\"Non Fiction\",\"Non Fiction\",\"Non Fiction\",\"Non Fiction\",\"Non Fiction\",\"Non Fiction\",\"Non Fiction\",\"Non Fiction\",\"Non Fiction\",\"Non Fiction\",\"Non Fiction\",\"Non Fiction\",\"Non Fiction\",\"Non Fiction\",\"Non Fiction\",\"Non Fiction\",\"Non Fiction\",\"Non Fiction\",\"Non Fiction\",\"Non Fiction\",\"Non Fiction\",\"Non Fiction\",\"Non Fiction\",\"Non Fiction\",\"Non Fiction\",\"Non Fiction\",\"Non Fiction\",\"Non Fiction\",\"Non Fiction\",\"Non Fiction\",\"Non Fiction\",\"Non Fiction\",\"Non Fiction\",\"Non Fiction\",\"Non Fiction\",\"Non Fiction\",\"Non Fiction\",\"Non Fiction\",\"Non Fiction\",\"Non Fiction\",\"Non Fiction\",\"Non Fiction\",\"Non Fiction\",\"Non Fiction\",\"Non Fiction\",\"Non Fiction\",\"Non Fiction\",\"Non Fiction\",\"Non Fiction\",\"Non Fiction\",\"Non Fiction\",\"Non Fiction\",\"Non Fiction\",\"Non Fiction\",\"Non Fiction\",\"Non Fiction\",\"Non Fiction\",\"Non Fiction\"],\"y0\":\" \",\"yaxis\":\"y\",\"type\":\"box\"},{\"alignmentgroup\":\"True\",\"hovertemplate\":\"Genre=%{y}<br>User Rating=%{x}<extra></extra>\",\"legendgroup\":\"Fiction\",\"marker\":{\"color\":\"#EF553B\"},\"name\":\"Fiction\",\"notched\":false,\"offsetgroup\":\"Fiction\",\"orientation\":\"h\",\"showlegend\":true,\"x\":[4.6,4.7,4.4,4.7,4.7,4.6,4.5,4.6,3.9,4.3,4.6,4.9,4.8,4.7,4.3,4.6,4.6,4.3,4.2,4.8,4.8,4.8,4.8,4.6,4.5,4.7,4.8,4.9,4.9,4.9,4.9,4.9,4.9,4.8,4.7,4.7,4.6,4.7,4.4,4.5,3.8,4.5,4.7,4.6,4.8,3.6,4.8,4.0,4.8,4.9,4.4,4.9,4.0,4.9,4.9,4.9,4.8,4.6,4.8,4.3,4.1,4.6,4.6,4.5,4.9,4.1,4.9,4.5,4.5,4.8,4.5,4.6,4.9,4.8,4.2,4.3,4.6,4.8,4.8,4.7,4.8,4.6,4.9,4.9,4.6,4.7,4.9,4.5,4.7,4.7,4.8,4.6,4.8,3.3,4.3,4.8,4.0,4.7,4.8,4.1,4.7,4.7,4.7,4.4,4.8,3.9,4.4,4.5,4.7,4.3,4.6,4.8,4.8,4.8,4.7,4.7,4.8,4.8,4.9,4.4,4.8,4.2,4.8,4.7,4.5,4.8,4.8,4.3,4.8,4.3,4.3,4.6,4.8,4.6,4.6,4.5,4.8,4.7,4.7,4.4,4.7,4.8,4.9,4.9,4.8,4.5,4.8,4.8,4.7,4.5,4.3,4.8,4.5,4.7,4.8,4.8,4.8,4.5,4.8,4.9],\"x0\":\" \",\"xaxis\":\"x\",\"y\":[\"Fiction\",\"Fiction\",\"Fiction\",\"Fiction\",\"Fiction\",\"Fiction\",\"Fiction\",\"Fiction\",\"Fiction\",\"Fiction\",\"Fiction\",\"Fiction\",\"Fiction\",\"Fiction\",\"Fiction\",\"Fiction\",\"Fiction\",\"Fiction\",\"Fiction\",\"Fiction\",\"Fiction\",\"Fiction\",\"Fiction\",\"Fiction\",\"Fiction\",\"Fiction\",\"Fiction\",\"Fiction\",\"Fiction\",\"Fiction\",\"Fiction\",\"Fiction\",\"Fiction\",\"Fiction\",\"Fiction\",\"Fiction\",\"Fiction\",\"Fiction\",\"Fiction\",\"Fiction\",\"Fiction\",\"Fiction\",\"Fiction\",\"Fiction\",\"Fiction\",\"Fiction\",\"Fiction\",\"Fiction\",\"Fiction\",\"Fiction\",\"Fiction\",\"Fiction\",\"Fiction\",\"Fiction\",\"Fiction\",\"Fiction\",\"Fiction\",\"Fiction\",\"Fiction\",\"Fiction\",\"Fiction\",\"Fiction\",\"Fiction\",\"Fiction\",\"Fiction\",\"Fiction\",\"Fiction\",\"Fiction\",\"Fiction\",\"Fiction\",\"Fiction\",\"Fiction\",\"Fiction\",\"Fiction\",\"Fiction\",\"Fiction\",\"Fiction\",\"Fiction\",\"Fiction\",\"Fiction\",\"Fiction\",\"Fiction\",\"Fiction\",\"Fiction\",\"Fiction\",\"Fiction\",\"Fiction\",\"Fiction\",\"Fiction\",\"Fiction\",\"Fiction\",\"Fiction\",\"Fiction\",\"Fiction\",\"Fiction\",\"Fiction\",\"Fiction\",\"Fiction\",\"Fiction\",\"Fiction\",\"Fiction\",\"Fiction\",\"Fiction\",\"Fiction\",\"Fiction\",\"Fiction\",\"Fiction\",\"Fiction\",\"Fiction\",\"Fiction\",\"Fiction\",\"Fiction\",\"Fiction\",\"Fiction\",\"Fiction\",\"Fiction\",\"Fiction\",\"Fiction\",\"Fiction\",\"Fiction\",\"Fiction\",\"Fiction\",\"Fiction\",\"Fiction\",\"Fiction\",\"Fiction\",\"Fiction\",\"Fiction\",\"Fiction\",\"Fiction\",\"Fiction\",\"Fiction\",\"Fiction\",\"Fiction\",\"Fiction\",\"Fiction\",\"Fiction\",\"Fiction\",\"Fiction\",\"Fiction\",\"Fiction\",\"Fiction\",\"Fiction\",\"Fiction\",\"Fiction\",\"Fiction\",\"Fiction\",\"Fiction\",\"Fiction\",\"Fiction\",\"Fiction\",\"Fiction\",\"Fiction\",\"Fiction\",\"Fiction\",\"Fiction\",\"Fiction\",\"Fiction\",\"Fiction\",\"Fiction\"],\"y0\":\" \",\"yaxis\":\"y\",\"type\":\"box\"}],                        {\"template\":{\"data\":{\"barpolar\":[{\"marker\":{\"line\":{\"color\":\"rgb(17,17,17)\",\"width\":0.5},\"pattern\":{\"fillmode\":\"overlay\",\"size\":10,\"solidity\":0.2}},\"type\":\"barpolar\"}],\"bar\":[{\"error_x\":{\"color\":\"#f2f5fa\"},\"error_y\":{\"color\":\"#f2f5fa\"},\"marker\":{\"line\":{\"color\":\"rgb(17,17,17)\",\"width\":0.5},\"pattern\":{\"fillmode\":\"overlay\",\"size\":10,\"solidity\":0.2}},\"type\":\"bar\"}],\"carpet\":[{\"aaxis\":{\"endlinecolor\":\"#A2B1C6\",\"gridcolor\":\"#506784\",\"linecolor\":\"#506784\",\"minorgridcolor\":\"#506784\",\"startlinecolor\":\"#A2B1C6\"},\"baxis\":{\"endlinecolor\":\"#A2B1C6\",\"gridcolor\":\"#506784\",\"linecolor\":\"#506784\",\"minorgridcolor\":\"#506784\",\"startlinecolor\":\"#A2B1C6\"},\"type\":\"carpet\"}],\"choropleth\":[{\"colorbar\":{\"outlinewidth\":0,\"ticks\":\"\"},\"type\":\"choropleth\"}],\"contourcarpet\":[{\"colorbar\":{\"outlinewidth\":0,\"ticks\":\"\"},\"type\":\"contourcarpet\"}],\"contour\":[{\"colorbar\":{\"outlinewidth\":0,\"ticks\":\"\"},\"colorscale\":[[0.0,\"#0d0887\"],[0.1111111111111111,\"#46039f\"],[0.2222222222222222,\"#7201a8\"],[0.3333333333333333,\"#9c179e\"],[0.4444444444444444,\"#bd3786\"],[0.5555555555555556,\"#d8576b\"],[0.6666666666666666,\"#ed7953\"],[0.7777777777777778,\"#fb9f3a\"],[0.8888888888888888,\"#fdca26\"],[1.0,\"#f0f921\"]],\"type\":\"contour\"}],\"heatmapgl\":[{\"colorbar\":{\"outlinewidth\":0,\"ticks\":\"\"},\"colorscale\":[[0.0,\"#0d0887\"],[0.1111111111111111,\"#46039f\"],[0.2222222222222222,\"#7201a8\"],[0.3333333333333333,\"#9c179e\"],[0.4444444444444444,\"#bd3786\"],[0.5555555555555556,\"#d8576b\"],[0.6666666666666666,\"#ed7953\"],[0.7777777777777778,\"#fb9f3a\"],[0.8888888888888888,\"#fdca26\"],[1.0,\"#f0f921\"]],\"type\":\"heatmapgl\"}],\"heatmap\":[{\"colorbar\":{\"outlinewidth\":0,\"ticks\":\"\"},\"colorscale\":[[0.0,\"#0d0887\"],[0.1111111111111111,\"#46039f\"],[0.2222222222222222,\"#7201a8\"],[0.3333333333333333,\"#9c179e\"],[0.4444444444444444,\"#bd3786\"],[0.5555555555555556,\"#d8576b\"],[0.6666666666666666,\"#ed7953\"],[0.7777777777777778,\"#fb9f3a\"],[0.8888888888888888,\"#fdca26\"],[1.0,\"#f0f921\"]],\"type\":\"heatmap\"}],\"histogram2dcontour\":[{\"colorbar\":{\"outlinewidth\":0,\"ticks\":\"\"},\"colorscale\":[[0.0,\"#0d0887\"],[0.1111111111111111,\"#46039f\"],[0.2222222222222222,\"#7201a8\"],[0.3333333333333333,\"#9c179e\"],[0.4444444444444444,\"#bd3786\"],[0.5555555555555556,\"#d8576b\"],[0.6666666666666666,\"#ed7953\"],[0.7777777777777778,\"#fb9f3a\"],[0.8888888888888888,\"#fdca26\"],[1.0,\"#f0f921\"]],\"type\":\"histogram2dcontour\"}],\"histogram2d\":[{\"colorbar\":{\"outlinewidth\":0,\"ticks\":\"\"},\"colorscale\":[[0.0,\"#0d0887\"],[0.1111111111111111,\"#46039f\"],[0.2222222222222222,\"#7201a8\"],[0.3333333333333333,\"#9c179e\"],[0.4444444444444444,\"#bd3786\"],[0.5555555555555556,\"#d8576b\"],[0.6666666666666666,\"#ed7953\"],[0.7777777777777778,\"#fb9f3a\"],[0.8888888888888888,\"#fdca26\"],[1.0,\"#f0f921\"]],\"type\":\"histogram2d\"}],\"histogram\":[{\"marker\":{\"pattern\":{\"fillmode\":\"overlay\",\"size\":10,\"solidity\":0.2}},\"type\":\"histogram\"}],\"mesh3d\":[{\"colorbar\":{\"outlinewidth\":0,\"ticks\":\"\"},\"type\":\"mesh3d\"}],\"parcoords\":[{\"line\":{\"colorbar\":{\"outlinewidth\":0,\"ticks\":\"\"}},\"type\":\"parcoords\"}],\"pie\":[{\"automargin\":true,\"type\":\"pie\"}],\"scatter3d\":[{\"line\":{\"colorbar\":{\"outlinewidth\":0,\"ticks\":\"\"}},\"marker\":{\"colorbar\":{\"outlinewidth\":0,\"ticks\":\"\"}},\"type\":\"scatter3d\"}],\"scattercarpet\":[{\"marker\":{\"colorbar\":{\"outlinewidth\":0,\"ticks\":\"\"}},\"type\":\"scattercarpet\"}],\"scattergeo\":[{\"marker\":{\"colorbar\":{\"outlinewidth\":0,\"ticks\":\"\"}},\"type\":\"scattergeo\"}],\"scattergl\":[{\"marker\":{\"line\":{\"color\":\"#283442\"}},\"type\":\"scattergl\"}],\"scattermapbox\":[{\"marker\":{\"colorbar\":{\"outlinewidth\":0,\"ticks\":\"\"}},\"type\":\"scattermapbox\"}],\"scatterpolargl\":[{\"marker\":{\"colorbar\":{\"outlinewidth\":0,\"ticks\":\"\"}},\"type\":\"scatterpolargl\"}],\"scatterpolar\":[{\"marker\":{\"colorbar\":{\"outlinewidth\":0,\"ticks\":\"\"}},\"type\":\"scatterpolar\"}],\"scatter\":[{\"marker\":{\"line\":{\"color\":\"#283442\"}},\"type\":\"scatter\"}],\"scatterternary\":[{\"marker\":{\"colorbar\":{\"outlinewidth\":0,\"ticks\":\"\"}},\"type\":\"scatterternary\"}],\"surface\":[{\"colorbar\":{\"outlinewidth\":0,\"ticks\":\"\"},\"colorscale\":[[0.0,\"#0d0887\"],[0.1111111111111111,\"#46039f\"],[0.2222222222222222,\"#7201a8\"],[0.3333333333333333,\"#9c179e\"],[0.4444444444444444,\"#bd3786\"],[0.5555555555555556,\"#d8576b\"],[0.6666666666666666,\"#ed7953\"],[0.7777777777777778,\"#fb9f3a\"],[0.8888888888888888,\"#fdca26\"],[1.0,\"#f0f921\"]],\"type\":\"surface\"}],\"table\":[{\"cells\":{\"fill\":{\"color\":\"#506784\"},\"line\":{\"color\":\"rgb(17,17,17)\"}},\"header\":{\"fill\":{\"color\":\"#2a3f5f\"},\"line\":{\"color\":\"rgb(17,17,17)\"}},\"type\":\"table\"}]},\"layout\":{\"annotationdefaults\":{\"arrowcolor\":\"#f2f5fa\",\"arrowhead\":0,\"arrowwidth\":1},\"autotypenumbers\":\"strict\",\"coloraxis\":{\"colorbar\":{\"outlinewidth\":0,\"ticks\":\"\"}},\"colorscale\":{\"diverging\":[[0,\"#8e0152\"],[0.1,\"#c51b7d\"],[0.2,\"#de77ae\"],[0.3,\"#f1b6da\"],[0.4,\"#fde0ef\"],[0.5,\"#f7f7f7\"],[0.6,\"#e6f5d0\"],[0.7,\"#b8e186\"],[0.8,\"#7fbc41\"],[0.9,\"#4d9221\"],[1,\"#276419\"]],\"sequential\":[[0.0,\"#0d0887\"],[0.1111111111111111,\"#46039f\"],[0.2222222222222222,\"#7201a8\"],[0.3333333333333333,\"#9c179e\"],[0.4444444444444444,\"#bd3786\"],[0.5555555555555556,\"#d8576b\"],[0.6666666666666666,\"#ed7953\"],[0.7777777777777778,\"#fb9f3a\"],[0.8888888888888888,\"#fdca26\"],[1.0,\"#f0f921\"]],\"sequentialminus\":[[0.0,\"#0d0887\"],[0.1111111111111111,\"#46039f\"],[0.2222222222222222,\"#7201a8\"],[0.3333333333333333,\"#9c179e\"],[0.4444444444444444,\"#bd3786\"],[0.5555555555555556,\"#d8576b\"],[0.6666666666666666,\"#ed7953\"],[0.7777777777777778,\"#fb9f3a\"],[0.8888888888888888,\"#fdca26\"],[1.0,\"#f0f921\"]]},\"colorway\":[\"#636efa\",\"#EF553B\",\"#00cc96\",\"#ab63fa\",\"#FFA15A\",\"#19d3f3\",\"#FF6692\",\"#B6E880\",\"#FF97FF\",\"#FECB52\"],\"font\":{\"color\":\"#f2f5fa\"},\"geo\":{\"bgcolor\":\"rgb(17,17,17)\",\"lakecolor\":\"rgb(17,17,17)\",\"landcolor\":\"rgb(17,17,17)\",\"showlakes\":true,\"showland\":true,\"subunitcolor\":\"#506784\"},\"hoverlabel\":{\"align\":\"left\"},\"hovermode\":\"closest\",\"mapbox\":{\"style\":\"dark\"},\"paper_bgcolor\":\"rgb(17,17,17)\",\"plot_bgcolor\":\"rgb(17,17,17)\",\"polar\":{\"angularaxis\":{\"gridcolor\":\"#506784\",\"linecolor\":\"#506784\",\"ticks\":\"\"},\"bgcolor\":\"rgb(17,17,17)\",\"radialaxis\":{\"gridcolor\":\"#506784\",\"linecolor\":\"#506784\",\"ticks\":\"\"}},\"scene\":{\"xaxis\":{\"backgroundcolor\":\"rgb(17,17,17)\",\"gridcolor\":\"#506784\",\"gridwidth\":2,\"linecolor\":\"#506784\",\"showbackground\":true,\"ticks\":\"\",\"zerolinecolor\":\"#C8D4E3\"},\"yaxis\":{\"backgroundcolor\":\"rgb(17,17,17)\",\"gridcolor\":\"#506784\",\"gridwidth\":2,\"linecolor\":\"#506784\",\"showbackground\":true,\"ticks\":\"\",\"zerolinecolor\":\"#C8D4E3\"},\"zaxis\":{\"backgroundcolor\":\"rgb(17,17,17)\",\"gridcolor\":\"#506784\",\"gridwidth\":2,\"linecolor\":\"#506784\",\"showbackground\":true,\"ticks\":\"\",\"zerolinecolor\":\"#C8D4E3\"}},\"shapedefaults\":{\"line\":{\"color\":\"#f2f5fa\"}},\"sliderdefaults\":{\"bgcolor\":\"#C8D4E3\",\"bordercolor\":\"rgb(17,17,17)\",\"borderwidth\":1,\"tickwidth\":0},\"ternary\":{\"aaxis\":{\"gridcolor\":\"#506784\",\"linecolor\":\"#506784\",\"ticks\":\"\"},\"baxis\":{\"gridcolor\":\"#506784\",\"linecolor\":\"#506784\",\"ticks\":\"\"},\"bgcolor\":\"rgb(17,17,17)\",\"caxis\":{\"gridcolor\":\"#506784\",\"linecolor\":\"#506784\",\"ticks\":\"\"}},\"title\":{\"x\":0.05},\"updatemenudefaults\":{\"bgcolor\":\"#506784\",\"borderwidth\":0},\"xaxis\":{\"automargin\":true,\"gridcolor\":\"#283442\",\"linecolor\":\"#506784\",\"ticks\":\"\",\"title\":{\"standoff\":15},\"zerolinecolor\":\"#283442\",\"zerolinewidth\":2},\"yaxis\":{\"automargin\":true,\"gridcolor\":\"#283442\",\"linecolor\":\"#506784\",\"ticks\":\"\",\"title\":{\"standoff\":15},\"zerolinecolor\":\"#283442\",\"zerolinewidth\":2}}},\"xaxis\":{\"anchor\":\"y\",\"domain\":[0.0,1.0],\"title\":{\"text\":\"User Rating\"}},\"yaxis\":{\"anchor\":\"x\",\"domain\":[0.0,1.0],\"title\":{\"text\":\"Genre\"},\"categoryorder\":\"array\",\"categoryarray\":[\"Fiction\",\"Non Fiction\"]},\"legend\":{\"title\":{\"text\":\"Genre\"},\"tracegroupgap\":0},\"margin\":{\"t\":60},\"boxmode\":\"overlay\"},                        {\"responsive\": true}                    ).then(function(){\n",
              "                            \n",
              "var gd = document.getElementById('d769ac09-00e2-405e-91a5-4df296b20e4b');\n",
              "var x = new MutationObserver(function (mutations, observer) {{\n",
              "        var display = window.getComputedStyle(gd).display;\n",
              "        if (!display || display === 'none') {{\n",
              "            console.log([gd, 'removed!']);\n",
              "            Plotly.purge(gd);\n",
              "            observer.disconnect();\n",
              "        }}\n",
              "}});\n",
              "\n",
              "// Listen for the removal of the full notebook cells\n",
              "var notebookContainer = gd.closest('#notebook-container');\n",
              "if (notebookContainer) {{\n",
              "    x.observe(notebookContainer, {childList: true});\n",
              "}}\n",
              "\n",
              "// Listen for the clearing of the current output cell\n",
              "var outputEl = gd.closest('.output');\n",
              "if (outputEl) {{\n",
              "    x.observe(outputEl, {childList: true});\n",
              "}}\n",
              "\n",
              "                        })                };                            </script>        </div>\n",
              "</body>\n",
              "</html>"
            ]
          },
          "metadata": {}
        }
      ]
    },
    {
      "cell_type": "markdown",
      "source": [
        "- As médias das notas dos dois apresentam valores distoantes\n",
        "- Intervalo com a 50% das observações é maior nos livros de ficção. \n",
        "- Livros de Ficção possuem mais outliers do que os de Não Ficção."
      ],
      "metadata": {
        "id": "71hzpRRVMygX"
      }
    },
    {
      "cell_type": "markdown",
      "source": [
        "# Testes de Hipoteses\n"
      ],
      "metadata": {
        "id": "6lauNNfJ62l9"
      }
    },
    {
      "cell_type": "markdown",
      "source": [
        "## Teste de Shapiro Wilk para descobrir se as notas seguem a distribuição normal:\n",
        "$H_0:$ Notas apresentam distribuição normal contra\n",
        "\n",
        "$H_1:$ Notas NÃO apresentam distribuição normal"
      ],
      "metadata": {
        "id": "SatDiEgV7XAF"
      }
    },
    {
      "cell_type": "code",
      "source": [
        "# Alfa\n",
        "alpha=0.05\n",
        "\n",
        "# Teste de Shapiro Wilk\n",
        "stat, pval = shapiro(df['User Rating'])\n",
        "\n",
        "print('Teste Shapiro-Wilk:', f'{stat:.3f}')\n",
        "print('P-Valor:', f'{pval:.20f}')\n",
        "    \n",
        "# Condição que aceita ou rejeita H0\n",
        "if pval < alpha:\n",
        "    print('Rejeita H0, portanto as notas NÃO apresentam distribuição normal.')\n",
        "else:\n",
        "    print('Aceita H0, portanto as notas apresentam distribuição normal.')"
      ],
      "metadata": {
        "colab": {
          "base_uri": "https://localhost:8080/"
        },
        "id": "lMLuyZbk649e",
        "outputId": "f7c54465-828f-43a7-e348-977506699845"
      },
      "execution_count": null,
      "outputs": [
        {
          "output_type": "stream",
          "name": "stdout",
          "text": [
            "Teste Shapiro-Wilk: 0.877\n",
            "P-Valor: 0.00000000000000045166\n",
            "Rejeita H0, portanto as notas NÃO apresentam distribuição normal.\n"
          ]
        }
      ]
    },
    {
      "cell_type": "markdown",
      "source": [
        "#### Notas não se aproximam da distribuição normal."
      ],
      "metadata": {
        "id": "JNgXT6kzAK1s"
      }
    },
    {
      "cell_type": "markdown",
      "source": [
        "## Teste de Hipotese para comparar a distribuição das notas dos livros de ficção e não ficção:\n",
        "Sendo $X_1, \\cdots, X_n$ as notas dos livros de ficção $\\mu_1$ sua media, e $Y_1, \\cdots, Y_n$ a nota dos livros de não ficção, com média $\\mu_2$, temos:\n",
        "\n",
        "$H_0:$ NÃO EXISTEM diferenças significativas entre as distribuições dos dois grupos\n",
        "\n",
        "$H_1:$ EXISTEM diferenças significativas entre as distribuições dos dois grupos"
      ],
      "metadata": {
        "id": "LQ0EGtU7Aeya"
      }
    },
    {
      "cell_type": "markdown",
      "source": [
        "Separando os grupos de ficção e não ficção e suas respectivas notas:"
      ],
      "metadata": {
        "id": "atQos-giKB5U"
      }
    },
    {
      "cell_type": "code",
      "source": [
        "non_fiction = df[df['Genre'] == 'Non Fiction']['User Rating']\n",
        "fiction = df[df['Genre'] == 'Fiction']['User Rating']"
      ],
      "metadata": {
        "id": "F5PHsRGD7yW1"
      },
      "execution_count": null,
      "outputs": []
    },
    {
      "cell_type": "markdown",
      "source": [
        "### Teste não paramétricos de Mann-Whitney"
      ],
      "metadata": {
        "id": "boPEBFzQKKHC"
      }
    },
    {
      "cell_type": "code",
      "source": [
        "# Alfa\n",
        "alpha=0.05\n",
        "\n",
        "# Teste U de Mann-Whitney\n",
        "stat, pval = mannwhitneyu(non_fiction, fiction)\n",
        "\n",
        "print('Estatística do teste Mann-Whitney:', f'{stat:.3f}')\n",
        "print('P-Valor:', f'{pval:.20f}')\n",
        "\n",
        "# Condição que aceita ou rejeita H0\n",
        "if pval < alpha:\n",
        "    print('Rejeita H0, portanto EXISTEM diferenças significativas entre as distribuições dos dois grupos.')\n",
        "else:\n",
        "    print('Aceita H0, portanto NÃO existem diferenças significativas entre as distribuições dos dois grupos.')"
      ],
      "metadata": {
        "colab": {
          "base_uri": "https://localhost:8080/"
        },
        "id": "7542hRpu8fRl",
        "outputId": "facb543b-871b-4ed1-9e3c-83581072cbb8"
      },
      "execution_count": null,
      "outputs": [
        {
          "output_type": "stream",
          "name": "stdout",
          "text": [
            "Estatística do teste Mann-Whitney: 13013.000\n",
            "P-Valor: 0.00931903468696572077\n",
            "Rejeita H0, portanto EXISTEM diferenças significativas entre as distribuições dos dois grupos.\n"
          ]
        }
      ]
    },
    {
      "cell_type": "markdown",
      "source": [
        "#### Rejeitamos H0, portanto EXISTEM diferenças significativas entre as distribuições dos dois grupos."
      ],
      "metadata": {
        "id": "K5m1CDuZVDFx"
      }
    },
    {
      "cell_type": "markdown",
      "source": [
        "### Mediana dos dois tipos de livros"
      ],
      "metadata": {
        "id": "g0W3nfe-0iew"
      }
    },
    {
      "cell_type": "code",
      "source": [
        "print(\"Mediana dos livros de ficcao\",  f'{non_fiction.median():.2f}', '\\nMediana dos livros de Não Ficção', f'{fiction.median():.2f}')"
      ],
      "metadata": {
        "colab": {
          "base_uri": "https://localhost:8080/"
        },
        "id": "5VUBT-ar0lOo",
        "outputId": "a347efd0-50f3-44e6-d1eb-45f892fcccaf"
      },
      "execution_count": null,
      "outputs": [
        {
          "output_type": "stream",
          "name": "stdout",
          "text": [
            "Mediana dos livros de ficcao 4.60 \n",
            "Mediana dos livros de Não Ficção 4.70\n"
          ]
        }
      ]
    },
    {
      "cell_type": "markdown",
      "source": [
        "### Plotando a Distribuição de Densidade das Notas por gênero de livro"
      ],
      "metadata": {
        "id": "MJZyiutsmdJ7"
      }
    },
    {
      "cell_type": "code",
      "source": [
        "# Cria displot com curve_type = 'normal'\n",
        "fig = ff.create_distplot([non_fiction, fiction], \n",
        "                         ['Non_fiction', 'Fiction'], \n",
        "                         colors=['red', 'teal',],\n",
        "                         bin_size=.1, \n",
        "                         show_rug=False)\n",
        "fig.update_layout(title_text='Distribuição de densidade das Notas por gênero de livro', \n",
        "                     template= \"plotly_dark\")\n",
        "fig.show()"
      ],
      "metadata": {
        "colab": {
          "base_uri": "https://localhost:8080/",
          "height": 542
        },
        "id": "-yaqY25u8-pN",
        "outputId": "726edab5-e2f1-46b8-e048-7123ac2dbe65"
      },
      "execution_count": null,
      "outputs": [
        {
          "output_type": "display_data",
          "data": {
            "text/html": [
              "<html>\n",
              "<head><meta charset=\"utf-8\" /></head>\n",
              "<body>\n",
              "    <div>            <script src=\"https://cdnjs.cloudflare.com/ajax/libs/mathjax/2.7.5/MathJax.js?config=TeX-AMS-MML_SVG\"></script><script type=\"text/javascript\">if (window.MathJax) {MathJax.Hub.Config({SVG: {font: \"STIX-Web\"}});}</script>                <script type=\"text/javascript\">window.PlotlyConfig = {MathJaxConfig: 'local'};</script>\n",
              "        <script src=\"https://cdn.plot.ly/plotly-2.8.3.min.js\"></script>                <div id=\"5e87b752-7425-4151-bfd6-62864fa7a179\" class=\"plotly-graph-div\" style=\"height:525px; width:100%;\"></div>            <script type=\"text/javascript\">                                    window.PLOTLYENV=window.PLOTLYENV || {};                                    if (document.getElementById(\"5e87b752-7425-4151-bfd6-62864fa7a179\")) {                    Plotly.newPlot(                        \"5e87b752-7425-4151-bfd6-62864fa7a179\",                        [{\"autobinx\":false,\"histnorm\":\"probability density\",\"legendgroup\":\"Non_fiction\",\"marker\":{\"color\":\"red\"},\"name\":\"Non_fiction\",\"opacity\":0.7,\"x\":[4.7,4.7,4.8,4.7,4.6,4.6,4.6,4.5,4.6,4.4,4.5,4.8,4.6,4.6,4.7,4.2,4.6,4.6,4.8,4.7,4.8,4.8,4.7,4.7,4.5,4.6,4.8,4.5,4.7,4.7,4.8,4.8,4.8,4.4,4.6,4.6,4.5,4.6,4.6,4.6,4.5,4.5,4.3,4.5,4.7,4.7,4.4,4.2,4.7,4.4,4.4,4.5,4.6,4.6,4.6,4.6,4.6,4.6,4.5,4.6,4.8,4.9,4.8,4.7,4.8,4.7,4.4,4.8,4.7,4.3,4.8,4.9,4.7,4.8,4.4,4.4,4.8,4.9,4.6,4.5,4.6,4.7,4.6,4.6,4.8,4.8,4.5,4.6,4.5,4.5,4.4,4.8,4.5,4.2,4.8,4.5,4.7,4.8,4.7,4.4,4.6,4.8,4.8,4.7,4.6,4.9,4.6,4.5,4.6,4.7,4.3,4.5,4.6,4.7,4.8,4.8,4.7,4.7,4.8,4.1,4.6,4.6,4.0,4.5,4.6,4.4,4.3,4.3,4.8,4.8,4.7,4.6,4.7,4.2,4.8,4.7,4.8,4.7,4.3,4.8,4.4,4.1,4.6,4.6,4.7,4.7,4.3,4.7,4.4,4.5,4.8,4.9,4.6,4.4,4.3,4.8,4.8,4.8,4.5,4.4,4.6,4.6,4.6,4.7,4.4,4.7,4.7,4.6,4.7,4.7,4.6,4.5,4.3,4.6,4.3,4.6,4.5,4.8,4.9,4.8,4.7,4.6,4.7,4.4,4.4,4.8,4.6,4.4,4.2,4.7],\"xaxis\":\"x\",\"xbins\":{\"end\":4.9,\"size\":0.1,\"start\":4.0},\"yaxis\":\"y\",\"type\":\"histogram\"},{\"autobinx\":false,\"histnorm\":\"probability density\",\"legendgroup\":\"Fiction\",\"marker\":{\"color\":\"teal\"},\"name\":\"Fiction\",\"opacity\":0.7,\"x\":[4.6,4.7,4.4,4.7,4.7,4.6,4.5,4.6,3.9,4.3,4.6,4.9,4.8,4.7,4.3,4.6,4.6,4.3,4.2,4.8,4.8,4.8,4.8,4.6,4.5,4.7,4.8,4.9,4.9,4.9,4.9,4.9,4.9,4.8,4.7,4.7,4.6,4.7,4.4,4.5,3.8,4.5,4.7,4.6,4.8,3.6,4.8,4.0,4.8,4.9,4.4,4.9,4.0,4.9,4.9,4.9,4.8,4.6,4.8,4.3,4.1,4.6,4.6,4.5,4.9,4.1,4.9,4.5,4.5,4.8,4.5,4.6,4.9,4.8,4.2,4.3,4.6,4.8,4.8,4.7,4.8,4.6,4.9,4.9,4.6,4.7,4.9,4.5,4.7,4.7,4.8,4.6,4.8,3.3,4.3,4.8,4.0,4.7,4.8,4.1,4.7,4.7,4.7,4.4,4.8,3.9,4.4,4.5,4.7,4.3,4.6,4.8,4.8,4.8,4.7,4.7,4.8,4.8,4.9,4.4,4.8,4.2,4.8,4.7,4.5,4.8,4.8,4.3,4.8,4.3,4.3,4.6,4.8,4.6,4.6,4.5,4.8,4.7,4.7,4.4,4.7,4.8,4.9,4.9,4.8,4.5,4.8,4.8,4.7,4.5,4.3,4.8,4.5,4.7,4.8,4.8,4.8,4.5,4.8,4.9],\"xaxis\":\"x\",\"xbins\":{\"end\":4.9,\"size\":0.1,\"start\":3.3},\"yaxis\":\"y\",\"type\":\"histogram\"},{\"legendgroup\":\"Non_fiction\",\"marker\":{\"color\":\"red\"},\"mode\":\"lines\",\"name\":\"Non_fiction\",\"showlegend\":false,\"x\":[4.0,4.0018,4.0036,4.0054,4.0072,4.009,4.0108,4.0126,4.0144,4.0162,4.018,4.0198,4.0216,4.0234,4.0252,4.027,4.0288,4.0306,4.0324,4.0342,4.036,4.0378,4.0396,4.0414,4.0432,4.045,4.0468,4.0486,4.0504,4.0522,4.054,4.0558,4.0576,4.0594,4.0612,4.063,4.0648,4.0666,4.0684000000000005,4.0702,4.072,4.0738,4.0756,4.0774,4.0792,4.081,4.0828,4.0846,4.0864,4.0882,4.09,4.0918,4.0936,4.0954,4.0972,4.099,4.1008000000000004,4.1026,4.1044,4.1062,4.108,4.1098,4.1116,4.1134,4.1152,4.117,4.1188,4.1206000000000005,4.1224,4.1242,4.126,4.1278,4.1296,4.1314,4.1332,4.135,4.1368,4.1386,4.1404,4.1422,4.144,4.1458,4.1476,4.1494,4.1512,4.1530000000000005,4.1548,4.1566,4.1584,4.1602,4.162,4.1638,4.1656,4.1674,4.1692,4.171,4.1728000000000005,4.1746,4.1764,4.1782,4.18,4.1818,4.1836,4.1854000000000005,4.1872,4.189,4.1908,4.1926,4.1944,4.1962,4.198,4.1998,4.2016,4.2034,4.2052000000000005,4.207,4.2088,4.2106,4.2124,4.2142,4.216,4.2178,4.2196,4.2214,4.2232,4.225,4.2268,4.2286,4.2304,4.2322,4.234,4.2358,4.2376000000000005,4.2394,4.2412,4.243,4.2448,4.2466,4.2484,4.2502,4.252,4.2538,4.2556,4.2574000000000005,4.2592,4.261,4.2628,4.2646,4.2664,4.2682,4.2700000000000005,4.2718,4.2736,4.2754,4.277200000000001,4.279,4.2808,4.2826,4.2844,4.2862,4.288,4.2898000000000005,4.2916,4.2934,4.2952,4.297,4.2988,4.3006,4.3024000000000004,4.3042,4.306,4.3078,4.3096000000000005,4.3114,4.3132,4.315,4.3168,4.3186,4.3204,4.3222000000000005,4.324,4.3258,4.3276,4.3294,4.3312,4.333,4.3348,4.3366,4.3384,4.3402,4.3420000000000005,4.3438,4.3456,4.3474,4.3492,4.351,4.3528,4.3546000000000005,4.3564,4.3582,4.36,4.361800000000001,4.3636,4.3654,4.3672,4.369,4.3708,4.3726,4.3744000000000005,4.3762,4.378,4.3798,4.381600000000001,4.3834,4.3852,4.3870000000000005,4.3888,4.3906,4.3924,4.3942000000000005,4.396,4.3978,4.3996,4.4014,4.4032,4.405,4.4068000000000005,4.4086,4.4104,4.4122,4.414,4.4158,4.4176,4.4194,4.4212,4.423,4.4248,4.4266000000000005,4.4284,4.4302,4.432,4.4338,4.4356,4.4374,4.4392000000000005,4.441,4.4428,4.4446,4.446400000000001,4.4482,4.45,4.4518,4.4536,4.4554,4.4572,4.4590000000000005,4.4608,4.4626,4.4644,4.466200000000001,4.468,4.4698,4.4716000000000005,4.4734,4.4752,4.477,4.478800000000001,4.4806,4.4824,4.4842,4.486,4.4878,4.4896,4.4914000000000005,4.4932,4.495,4.4968,4.498600000000001,4.5004,4.5022,4.5040000000000004,4.5058,4.5076,4.5094,4.5112000000000005,4.513,4.5148,4.5166,4.5184,4.5202,4.522,4.5238000000000005,4.525600000000001,4.5274,4.5292,4.531000000000001,4.5328,4.5346,4.5364,4.5382,4.54,4.5418,4.5436000000000005,4.5454,4.5472,4.549,4.550800000000001,4.5526,4.5544,4.5562000000000005,4.558,4.5598,4.5616,4.563400000000001,4.5652,4.567,4.5688,4.570600000000001,4.5724,4.5742,4.5760000000000005,4.5778,4.5796,4.5814,4.583200000000001,4.585,4.5868,4.5886000000000005,4.590400000000001,4.5922,4.594,4.5958000000000006,4.5976,4.5994,4.6012,4.603,4.6048,4.6066,4.6084000000000005,4.610200000000001,4.612,4.6138,4.615600000000001,4.6174,4.6192,4.621,4.6228,4.6246,4.6264,4.6282000000000005,4.63,4.6318,4.6336,4.635400000000001,4.6372,4.639,4.6408000000000005,4.6426,4.6444,4.6462,4.648000000000001,4.6498,4.6516,4.6534,4.655200000000001,4.657,4.6588,4.6606000000000005,4.6624,4.6642,4.666,4.667800000000001,4.6696,4.6714,4.6732000000000005,4.675000000000001,4.6768,4.6786,4.680400000000001,4.6822,4.684,4.6858,4.6876,4.6894,4.6912,4.6930000000000005,4.694800000000001,4.6966,4.6984,4.700200000000001,4.702,4.7038,4.7056000000000004,4.707400000000001,4.7092,4.711,4.7128000000000005,4.7146,4.7164,4.7182,4.720000000000001,4.7218,4.7236,4.7254000000000005,4.7272,4.729,4.7308,4.732600000000001,4.7344,4.7362,4.738,4.739800000000001,4.7416,4.7434,4.7452000000000005,4.747,4.7488,4.7506,4.752400000000001,4.7542,4.756,4.7578000000000005,4.759600000000001,4.7614,4.7632,4.765000000000001,4.7668,4.7686,4.7704,4.7722,4.774,4.7758,4.7776000000000005,4.779400000000001,4.7812,4.783,4.784800000000001,4.7866,4.7884,4.7902000000000005,4.792000000000001,4.7938,4.7956,4.7974000000000006,4.7992,4.801,4.8028,4.804600000000001,4.8064,4.8082,4.8100000000000005,4.8118,4.8136,4.8154,4.817200000000001,4.819000000000001,4.8208,4.8226,4.824400000000001,4.8262,4.828,4.8298000000000005,4.8316,4.8334,4.8352,4.837000000000001,4.8388,4.8406,4.8424000000000005,4.844200000000001,4.846,4.8478,4.849600000000001,4.8514,4.8532,4.855,4.856800000000001,4.8586,4.8604,4.8622000000000005,4.864000000000001,4.8658,4.8676,4.869400000000001,4.8712,4.873,4.8748000000000005,4.876600000000001,4.8784,4.8802,4.882000000000001,4.8838,4.8856,4.8874,4.889200000000001,4.891,4.8928,4.8946000000000005,4.8964,4.8982],\"xaxis\":\"x\",\"y\":[0.05327416738009043,0.054229428365564485,0.05518895296527471,0.05615303338518328,0.057121987116379246,0.05809615548850388,0.05907590215778532,0.06006161154610763,0.06105368724783424,0.06205255042123154,0.06305863818123544,0.06407240201003173,0.06509430620142012,0.06612482635426528,0.06716444792944462,0.06821366488364838,0.06927297839214842,0.07034289567124796,0.07142392890957887,0.07251659431571918,0.07362141128782718,0.07473890170908305,0.07586958937077655,0.07701399952288672,0.07817265854996222,0.07934609376810377,0.08053483333685435,0.08173940627789633,0.08296034259059037,0.08419817345269039,0.08545343149295317,0.08672665112096772,0.0880183688982685,0.0893291239337675,0.09065945828575778,0.09200991735215637,0.09338105023037348,0.09477341002814427,0.0961875541069278,0.09762404423998793,0.09908344666808501,0.10056633203678896,0.10207327520080979,0.10360485488233902,0.10516165317227483,0.10674425486532653,0.10835324662227962,0.1099892159552181,0.11165275003414016,0.11334443431619622,0.11506485100163812,0.11681457732348456,0.11859418368087551,0.12040423162898545,0.12224527174124178,0.12411784136233452,0.12602246227315114,0.12795963829116974,0.12992985283208058,0.13193356646034543,0.133971214458084,0.1360432044430007,0.1381499140670368,0.14029168882808254,0.14246884002722215,0.1446816429038321,0.14693033498016114,0.1492151146459861,0.15153614001239127,0.15389352806179435,0.15628735411895453,0.15871765166495572,0.16118441251298118,0.16368758736117395,0.16622708673408232,0.16880278232002363,0.17141450870737457,0.17406206551819906,0.17674521993297215,0.1794637095953274,0.18221724588093655,0.18500551750987068,0.18782819447704327,0.1906849322708129,0.19357537634545616,0.19649916680919163,0.1994559432856538,0.20244534990343557,0.20546704036532523,0.2085206830465714,0.21160596606954493,0.21472260230091342,0.21787033421677968,0.22104893858114671,0.22425823088372632,0.22749806948432974,0.23076835941309246,0.23406905577833328,0.23740016673714112,0.24076175598764604,0.2441539447464475,0.24757691317968328,0.25103090126176375,0.2545162090418487,0.25803319630447574,0.26158228161751657,0.2651639407675472,0.26877870458990294,0.27242715620786306,0.2761099277025859,0.2798276962425885,0.283581179708413,0.2873711318547921,0.29119833705884435,0.2950636047087005,0.2989677632921461,0.30291165424954447,0.30689612565920277,0.31092202582653955,0.31499019685074914,0.3191014682440769,0.3232566506794394,0.32745652994166946,0.33170186115632616,0.33599336336764485,0.34033171453395267,0.3447175470045669,0.3491514435370281,0.3536339339075208,0.3581654921603958,0.3627465345351438,0.36737741810081104,0.37205844011903105,0.37678983814741607,0.3815717908853253,0.3864044197539923,0.39128779119285506,0.3962219196437424,0.40120677118447934,0.4062422677637168,0.4113282919792959,0.41646469233356315,0.4216512888907202,0.4268878792538309,0.4321742447723863,0.4375101568857203,0.4428953835029317,0.4483296953166553,0.4538128719457934,0.4593447078015009,0.4649250175712888,0.4705536412179559,0.4762304483934269,0.4819553421722358,0.48772826201558944,0.49354918588427915,0.4994181314275292,0.505335156184733,0.5113003567481645,0.5173138668468164,0.5233758543244011,0.5294865169984143,0.5356460774013942,0.5418547764203338,0.5481128658651875,0.5544206000127,0.5607782261867015,0.567185974450862,0.5736440465042706,0.5801526038838103,0.5867117555902149,0.5933215452664357,0.5999819380677647,0.6066928073723065,0.6134539214883766,0.6202649305214919,0.627125353568259,0.6340345664069859,0.6409917898556552,0.6479960789667566,0.655046313225129,0.6621411879099371,0.6692792067745175,0.6764586761889129,0.6836777008786626,0.690934181380733,0.6982258133228838,0.7055500886167138,0.7129042986371008,0.7202855394420543,0.7276907190672508,0.7351165669089115,0.7425596451874501,0.7500163624627576,0.7574829891502775,0.764955674965405,0.7724304682023753,0.7799033367333449,0.7873701905934007,0.7948269059986119,0.8022693506267725,0.8096934099747592,0.8170950145922172,0.824470167979178,0.8318149749250949,0.8391256700590357,0.846398646375169,0.8536304834947452,0.8608179754251957,0.8679581575789829,0.8750483328194365,0.882086096307797,0.8890693589353126,0.8959963691360324,0.9028657328901925,0.9096764317441707,0.9164278386913538,0.9231197317780391,0.9297523053198492,0.9363261786369718,0.9428424022400449,0.9493024614229664,0.9557082772436926,0.9620622048991355,0.9683670295249989,0.9746259594757266,0.9808426171634441,0.9870210275572068,0.9931656044651452,0.9992811347417254,1.0053727605801295,1.011445960065566,1.017506526178645,1.0235605444491889,1.0296143694692006,1.0356746004794868,1.0417480562475154,1.0478417494542582,1.053962860805213,1.0601187130753447,1.066316745289712,1.072564487230799,1.0788695344504873,1.085239523949079,1.0916821106664527,1.0982049449109281,1.104815650830658,1.111521806010055,1.118330922250738,1.1252504275725508,1.1322876494462573,1.1394497992452537,1.1467439578802296,1.154177062557623,1.1617558945808897,1.1694870680934217,1.1773770196430626,1.1854319984317818,1.1936580570996966,1.2020610428811553,1.2106465889614493,1.2194201058571936,1.2283867726403512,1.2375515278266835,1.2469190597529671,1.25649379627457,1.2662798936254376,1.2762812242960053,1.2865013638015448,1.2969435762328865,1.3076107985040364,1.3185056232360761,1.3296302802437532,1.340986616620137,1.352576075445326,1.36439967317657,1.3764579758095166,1.3887510739331048,1.4012785568326445,1.4140394858278234,1.4270323670627505,1.440255123994642,1.4537050698548184,1.4673788803804269,1.4812725671375708,1.4953814517750306,1.5097001415632199,1.524222506584238,1.5389416589463099,1.5538499343985845,1.5689388767205472,1.5841992252542265,1.5996209059358137,1.615193026167649,1.6309038738510222,1.646740920874584,1.6626908313238702,1.6787394746432724,1.6948719439437883,1.7110725796086068,1.7273249983035153,1.7436121274516228,1.7599162451818617,1.7762190257091315,1.792501590050433,1.8087445619279212,1.8249281286557182,1.8410321067538054,1.8570360119799367,1.8729191334198276,1.888660611227527,1.9042395175622642,1.9196349402258857,1.9348260684671796,1.9497922803853927,1.9645132313367193,1.9789689427241008,1.9931398905328381,2.0070070929630552,2.020552196504004,2.0337575597964612,2.046606334636331,2.0590825434865248,2.0711711528839083,2.082858142154881,2.0941305668852217,2.1049766166282327,2.115385666378916,2.125348321390485,2.134856454963195,2.143903238892453,2.152483166324431,2.1605920668311476,2.168227113582793,2.1753868225629964,2.182071043840832,2.1882809449822314,2.1940189867510838,2.1992888913172948,2.204095603253279,2.2084452436626445,2.2123450578427897,2.2158033569381512,2.2188294540901135,2.221433595634696,2.2236268879378573,2.2254212204915076,2.226829185919782,2.2278639975649837,2.2285394053358596,2.2288696105066363,2.2288691801543883,2.228552961914216,2.227935999716667,2.2270334511502954,2.225860507064003,2.224432313989629,2.222763899925363,2.220870103975388,2.2187655102912816,2.2164643867070213,2.2139806284018033,2.211327706864997,2.20851862437524,2.205565874142127,2.2024814061948437,2.1992765990380803,2.195962237032304,2.1925484933941295,2.1890449186530523,2.1854604343448027,2.1818033316687937,2.178081274788758,2.1743013084119425,2.170469869244015,2.166592800883639,2.162675371694296,2.158722295169985,2.154737752297645,2.1507254154113533,2.146688473032632,2.142629655196601,2.1385512587760735,2.1344551723335994,2.130342900056142,2.1262155843566086,2.1220740267616716,2.1179187067452303,2.1137497982104545,2.1095671833715026,2.105370463836014,2.101158968742836,2.096931759863743,2.092687633633486,2.0884251201282646,2.084142479067969,2.079837692971604,2.0755084576475777,2.0711521702501288,2.0667659151799675,2.062346448149695,2.057890178773334,2.0533931520730113,2.0488510293243816,2.0442590686853648,2.0396121060700483,2.0349045367406107,2.030130298094953,2.0252828541263628,2.0203551820238057,2.0153397613673945,2.010228566353645,2.0050130614593016,1.9996842009209652,1.9942324323714073,1.9886477049318054,1.9829194820137697,1.9770367590354905,1.9709880862037568,1.9647615964584986,1.958345038619316,1.9517258157150967,1.9448910284188685,1.937827523450928,1.930521946755173,1.9229608011968349,1.9151305084747186,1.907017474889297,1.8986081605589855,1.8898891516317806,1.8808472349988947,1.871469474980959,1.861743291426471,1.8516565386369994,1.8411975845140673,1.8303553893090403,1.8191195833500762,1.8074805431189243,1.7954294650553584,1.7829584364784288,1.770060503030643,1.7567297320745274,1.7429612714995009,1.72875140343106,1.714097592372941,1.6989985273563721,1.6834541577179403,1.667465722178247,1.6510357709477006,1.634168180641889,1.6168681618474148,1.5991422592382156,1.5809983442029223,1.5624456000037363,1.543494499547173,1.5241567759056212,1.5044453857856903,1.48437446619399,1.463959284603427,1.4432161829716212,1.4221625160088434,1.400816584134285,1.3791975615962297,1.3573254202647071,1.3352208496327893,1.312905173585129,1.2904002645104076,1.2677284553462456,1.244912450152679,1.221975233811814,1.1989399814485107,1.175829968158251,1.152668479616076,1.1294787241220805,1.1062837466177033,1.0831063451809289,1.0599689904788157,1.036893748623042,1.0139022078381863,0.9910154093142391,0.9682537825740608,0.9456370856446328,0.92318435027726,0.9009138324178769,0.8788429680835919,0.856988334757291,0.8353656183678727,0.8139895858800176,0.7928740634755669,0.772031920267631,0.7514750574499526,0.7312144027471246,0.7112599099971352,0.6916205636661614,0.6723043880664159,0.6533184610221593,0.6346689317063351,0.6163610423505999,0.5983991535151204,0.5807867725916585],\"yaxis\":\"y\",\"type\":\"scatter\"},{\"legendgroup\":\"Fiction\",\"marker\":{\"color\":\"teal\"},\"mode\":\"lines\",\"name\":\"Fiction\",\"showlegend\":false,\"x\":[3.3,3.3032,3.3064,3.3095999999999997,3.3127999999999997,3.316,3.3192,3.3224,3.3255999999999997,3.3287999999999998,3.332,3.3352,3.3384,3.3415999999999997,3.3447999999999998,3.348,3.3512,3.3544,3.3575999999999997,3.3608,3.364,3.3672,3.3704,3.3735999999999997,3.3768,3.38,3.3832,3.3864,3.3895999999999997,3.3928,3.396,3.3992,3.4023999999999996,3.4055999999999997,3.4088,3.412,3.4152,3.4183999999999997,3.4215999999999998,3.4248,3.428,3.4312,3.4343999999999997,3.4375999999999998,3.4408,3.444,3.4472,3.4503999999999997,3.4536,3.4568,3.46,3.4632,3.4663999999999997,3.4696,3.4728,3.476,3.4792,3.4823999999999997,3.4856,3.4888,3.492,3.4952,3.4983999999999997,3.5016,3.5048,3.508,3.5112,3.5143999999999997,3.5176,3.5208,3.524,3.5271999999999997,3.5303999999999998,3.5336,3.5368,3.54,3.5431999999999997,3.5463999999999998,3.5496,3.5528,3.556,3.5591999999999997,3.5624,3.5656,3.5688,3.572,3.5751999999999997,3.5784,3.5816,3.5848,3.588,3.5911999999999997,3.5944,3.5976,3.6008,3.604,3.6071999999999997,3.6104,3.6136,3.6168,3.62,3.6231999999999998,3.6264,3.6296,3.6328,3.636,3.6391999999999998,3.6424,3.6456,3.6488,3.652,3.6552,3.6584,3.6616,3.6648,3.668,3.6712,3.6744,3.6776,3.6808,3.684,3.6872,3.6904,3.6936,3.6968,3.7,3.7032,3.7064,3.7096,3.7128,3.7159999999999997,3.7192,3.7224,3.7256,3.7288,3.732,3.7352,3.7384,3.7416,3.7448,3.748,3.7512,3.7544,3.7576,3.7608,3.7640000000000002,3.7672,3.7704,3.7736,3.7768,3.78,3.7832,3.7864,3.7896,3.7928,3.796,3.7992,3.8024,3.8056,3.8087999999999997,3.8120000000000003,3.8152,3.8184,3.8216,3.8247999999999998,3.8280000000000003,3.8312,3.8344,3.8376,3.8407999999999998,3.8440000000000003,3.8472,3.8504,3.8536,3.8568,3.8600000000000003,3.8632,3.8664,3.8696,3.8728,3.876,3.8792,3.8824,3.8856,3.8888,3.892,3.8952,3.8984,3.9016,3.9048,3.908,3.9112,3.9144,3.9176,3.9208,3.924,3.9272,3.9304,3.9336,3.9368,3.94,3.9432,3.9464,3.9496,3.9528,3.956,3.9592,3.9624,3.9656000000000002,3.9688,3.972,3.9752,3.9784,3.9816000000000003,3.9848,3.988,3.9912,3.9944,3.9976000000000003,4.0008,4.004,4.0072,4.0104,4.0136,4.0168,4.02,4.0232,4.0264,4.0296,4.0328,4.036,4.0392,4.0424,4.0456,4.0488,4.052,4.0552,4.0584,4.0616,4.0648,4.068,4.0712,4.0744,4.0776,4.0808,4.084,4.0872,4.0904,4.0936,4.0968,4.1,4.1032,4.1064,4.1096,4.1128,4.116,4.1192,4.1224,4.1256,4.1288,4.132,4.1352,4.1384,4.1416,4.1448,4.148,4.1512,4.1544,4.1576,4.1608,4.164,4.1672,4.1704,4.1736,4.1768,4.18,4.1832,4.1864,4.1896,4.1928,4.196,4.1992,4.2024,4.2056000000000004,4.2088,4.212,4.2152,4.2184,4.2216000000000005,4.2248,4.228,4.2312,4.2344,4.2376000000000005,4.2408,4.244,4.2472,4.2504,4.2536000000000005,4.2568,4.26,4.2632,4.2664,4.2696000000000005,4.2728,4.276,4.2792,4.2824,4.2856000000000005,4.2888,4.292,4.2952,4.2984,4.3016000000000005,4.3048,4.308,4.3112,4.3144,4.3176000000000005,4.3208,4.324,4.3272,4.3304,4.333600000000001,4.3368,4.34,4.3432,4.3464,4.349600000000001,4.3528,4.356,4.3592,4.3624,4.365600000000001,4.3688,4.372,4.3752,4.3784,4.381600000000001,4.3848,4.388,4.3911999999999995,4.3944,4.397600000000001,4.4008,4.404,4.4072,4.4104,4.413600000000001,4.4168,4.42,4.4232,4.4264,4.429600000000001,4.4328,4.436,4.4392,4.4424,4.445600000000001,4.4488,4.452,4.4552,4.4584,4.461600000000001,4.4648,4.468,4.4712000000000005,4.4744,4.477600000000001,4.4808,4.484,4.4872000000000005,4.4904,4.493600000000001,4.4968,4.5,4.5032000000000005,4.5064,4.509600000000001,4.5128,4.516,4.5192000000000005,4.5224,4.525600000000001,4.5288,4.532,4.535200000000001,4.5384,4.5416,4.5448,4.548,4.551200000000001,4.5544,4.5576,4.5608,4.564,4.567200000000001,4.5704,4.5736,4.5768,4.58,4.583200000000001,4.5864,4.5896,4.5928,4.596,4.599200000000001,4.6024,4.6056,4.6088000000000005,4.612,4.615200000000001,4.6184,4.6216,4.6248000000000005,4.628,4.631200000000001,4.6344,4.6376,4.6408000000000005,4.644,4.6472,4.6504,4.6536,4.6568000000000005,4.66,4.6632,4.6664,4.6696,4.6728000000000005,4.676,4.6792,4.6824,4.6856,4.6888000000000005,4.692,4.6952,4.6984,4.7016,4.7048000000000005,4.708,4.7112,4.7144,4.7176,4.7208000000000006,4.724,4.7272,4.7304,4.7336,4.736800000000001,4.74,4.7432,4.7464,4.749600000000001,4.752800000000001,4.756,4.7592,4.7624,4.765600000000001,4.768800000000001,4.772,4.7752,4.7784,4.781600000000001,4.784800000000001,4.788,4.7912,4.7944,4.7976,4.800800000000001,4.804,4.8072,4.8104000000000005,4.8136,4.816800000000001,4.82,4.8232,4.8264000000000005,4.8296,4.832800000000001,4.836,4.8392,4.8424000000000005,4.8456,4.848800000000001,4.852,4.8552,4.8584000000000005,4.8616,4.864800000000001,4.868,4.8712,4.8744000000000005,4.8776,4.880800000000001,4.884,4.8872,4.8904000000000005,4.8936,4.896800000000001],\"xaxis\":\"x\",\"y\":[0.025340171227256618,0.025354037578452216,0.02534437214185453,0.025311471928447436,0.025255722968518704,0.025177599390179523,0.02507766205538367,0.024956556759592817,0.024815012003956964,0.024653836351509473,0.024473915381397,0.02427620825755157,0.024061743930454463,0.023831616992716284,0.023586983211098804,0.02332905475931629,0.023059095177467653,0.02277841408526561,0.022488361677331856,0.022190323029725137,0.021885712247558115,0.02157596648403903,0.021262539861560466,0.02094689732554161,0.0206305084616358,0.020314841306641518,0.020001356183015278,0.019691499586298355,0.019386698154036337,0.019088352743918287,0.018797832647895592,0.018516469967974816,0.01824555417823489,0.017986326896397804,0.017739976887011406,0.017507635316979995,0.017290371282829266,0.017089187627712794,0.016905017064778524,0.0167387186221162,0.016591074423106873,0.01646278681460455,0.01635447585399188,0.016266677164777463,0.016199840169037426,0.01615432670364911,0.016130410025920933,0.016128274212884014,0.016148013957177663,0.01618963476112726,0.01625305352927582,0.016338099558285413,0.016444515921766753,0.016571961246222622,0.016720011872895933,0.016888164398898956,0.017075838589557715,0.01728238065244034,0.01750706686204484,0.01774910752260451,0.0180076512549316,0.018281789591662455,0.01857056186369984,0.018872960359075503,0.019187935733887117,0.01951440265341037,0.019851245639959457,0.020197325102580307,0.020551483522225876,0.020912551764695895,0.021279355492341306,0.021650721644352663,0.022025484954385933,0.022402494473350767,0.022780620064408046,0.02315875883661032,0.023535841483192703,0.023910838490287665,0.024282766181816944,0.024650692566514934,0.02501374295346653,0.025371105303216627,0.02572203528242128,0.02606586099117277,0.026401987333542744,0.026729900003542358,0.027049169060594895,0.02735945207074541,0.027660496792183093,0.027952143386211867,0.028234326137557414,0.028507074670824157,0.028770514652996237,0.029024867975083135,0.029270452409326277,0.029507680741771087,0.029737059383449806,0.0299591864668779,0.03017474943801522,0.030384522157248912,0.030589361526288175,0.030790203661090868,0.030988059634037165,0.031184010811502717,0.031379203815722886,0.031574845142372514,0.03177219546757011,0.03197256368004186,0.032177300675926945,0.0323877929551523,0.032605456059440874,0.032831727892834534,0.03306806196609828,0.033315920606530054,0.03357676817452237,0.033852064327716466,0.03414325737276558,0.03445177774357729,0.03477903164347105,0.035126394886959976,0.035495206974876875,0.03588676543433281,0.036302320452541156,0.03674306983089174,0.037210154282844965,0.03770465309625648,0.03822758017767729,0.038779880493033256,0.039362426915884506,0.03997601749126086,0.0406213731198613,0.04129913566424714,0.04200986647556632,0.04275404533635444,0.043532069812081776,0.04434425500139229,0.04519083367242001,0.046071956770201414,0.046987694278027306,0.047938036413638925,0.04892289513944956,0.04994210596449412,0.05099543001458708,0.052082556346175375,0.053203104478655304,0.05435662711943762,0.05554261305580944,0.056760490187659274,0.05800962867535429,0.05928934417753791,0.060598901154264466,0.06193751621177314,0.06330436146622463,0.0646985679049538,0.06611922872512677,0.06756540263117955,0.06903611707400918,0.07053037141655412,0.0720471400121692,0.07358537518398763,0.07514401009530754,0.07672196150288225,0.07831813238685999,0.07993141445291753,0.08156069050395866,0.08320483668046953,0.08486272457030646,0.08653322319031527,0.08821520084365952,0.08990752685819535,0.09160907321251249,0.09331871605746898,0.09503533714213969,0.09675782515402019,0.09848507698418521,0.10021599892877542,0.1019495078387474,0.10368453223026808,0.10542001336839954,0.10715490633691764,0.10888818110712775,0.11061882361845952,0.11234583688341199,0.11406824212910993,0.11578507998727733,0.11749541174392272,0.1191983206593684,0.12089291336854861,0.12257832137067427,0.12425370261646668,0.12591824320021675,0.1275711591628653,0.12921169841124194,0.13083914275744551,0.1324528100811597,0.13405205661649838,0.13563627936369083,0.13720491862466724,0.13875746066028252,0.14029344046561393,0.14181244465844126,0.14331411447468054,0.1447981488632244,0.14626430767129872,0.1477124149101291,0.1491423620894035,0.1505541116076991,0.15194770018477946,0.1533232423203768,0.15468093376284833,0.15602105496986168,0.1573439745420719,0.15865015260959425,0.1599401441499283,0.16121460221492123,0.16247428104328923,0.1637200390342124,0.16495284155659243,0.16617376356765154,0.1673839920137459,0.16858482798554916,0.1697776885990633,0.17096410857343758,0.1721457414760829,0.17332436060529313,0.17450185948043337,0.17568025190970699,0.17686167160573232,0.17804837131948778,0.1792427214637709,0.1804472081981075,0.18166443094809717,0.18289709933349133,0.18414802948088474,0.18542013969879312,0.18671644549509514,0.1880400539193288,0.18939415721521186,0.19078202577196196,0.1922070003665412,0.1936724836928796,0.19518193117839577,0.19673884109272732,0.19834674395856858,0.20000919127974007,0.20172974360721707,0.20351195796967478,0.20535937470118776,0.20727550370504197,0.20926381019903892,0.21132769999428433,0.2134705043660583,0.21569546458204517,0.2180057161597364,0.2204042729313271,0.22289401100065326,0.22547765268272255,0.22815775052201495,0.2309366714909701,0.23381658147472367,0.2367994301523458,0.2398869363882078,0.24308057424983975,0.24638155977055856,0.24979083857606646,0.25330907449434725,0.2569366392672,0.2606736034796954,0.26451972882082025,0.2684744617842107,0.27253692891257547,0.27670593368280566,0.2809799551210243,0.28535714822804226,0.2898353462855993,0.2944120651027992,0.29908450925000585,0.3038495803144505,0.3087038871979133,0.31364375846209236,0.3186652567119923,0.3237641949916984,0.328936155150571,0.3341765081213453,0.33948043603476097,0.34484295607873483,0.3502589459934465,0.3557231710775799,0.36123031256524213,0.36677499721807955,0.3723518279629853,0.3779554153926295,0.3835804099340721,0.3892215344801035,0.39487361726872233,0.4005316247886083,0.40619069448251727,0.4118461670164861,0.41749361788054296,0.42312888808635213,0.4287481137291466,0.4343477541849727,0.43992461872032934,0.4454758912991322,0.4509991533819125,0.45649240452408757,0.4619540805939126,0.4673830694462857,0.4727787239058889,0.4781408719318413,0.48346982385630166,0.4887663766107358,0.49403181487604186,0.4992679091159686,0.5044769104770361,0.5096615425625597,0.5148249901127375,0.5199708846472156,0.5251032871507105,0.5302266679058434,0.5353458836003819,0.5404661518579329,0.5455930233620875,0.5507323517634776,0.5558902615770893,0.5610731142935915,0.566287472942636,0.5715400653586665,0.5768377464099518,0.5821874594596831,0.5875961973337777,0.5930709630735249,0.5986187307523143,0.6042464066344551,0.609960790950567,0.6157685405581452,0.621676132747785,0.6276898304454184,0.633815649048602,0.6400593251207711,0.6464262871515122,0.6529216285733456,0.6595500832066926,0.6663160032844508,0.6732233401865497,0.6802756279927299,0.6874759699392464,0.6948270278420811,0.7023310145260753,0.7099896892760784,0.7178043563032098,0.7257758661967249,0.7339046203098984,0.7421905780071555,0.7506332666793252,0.759231794414695,0.7679848651955541,0.7768907964733217,0.7859475389601273,0.7951526984611882,0.804503559560166,0.8139971109594518,0.8236300722686423,0.8333989220274476,0.8432999267440955,0.8533291707266601,0.8634825864828228,0.8737559854632199,0.8841450889247543,0.89464555869278,0.9052530276051682,0.9159631294265156,0.9267715280270394,0.9376739456285235,0.9486661899276995,0.9597441799171982,0.9709039702338103,0.9821417738747992,0.993453983133931,1.0048371886206016,1.016288196237327,1.0278040420029737,1.039382004621468,1.0510196157081313,1.062714667598048,1.0744652186735901,1.0862695961601736,1.0981263963518506,1.1100344822403108,1.12199297853283,1.1340012640566206,1.1460589615586525,1.1581659249215368,1.1703222238276245,1.1825281259146283,1.19478407647743,1.2070906757818651,1.2194486540673268,1.231858844326221,1.2443221529592792,1.2568395284168135,1.2694119279471194,1.2820402825841177,1.2947254605175376,1.3074682289998234,1.3202692149548794,1.333128864464706,1.3460474013204393,1.359024784835061,1.3720606671248825,1.3851543500770314,1.398304742229366,1.4115103157980056,1.4247690640959747,1.43807845959364,1.4514354128782028,1.4648362327749942,1.478276587897403,1.4917514698955991,1.505255158675563,1.5187811898602515,1.5323223247630982,1.5458705231407612,1.5594169189869913,1.572951799622505,1.5864645883265216,1.5999438307448368,1.6133771852959433,1.6267514177815963,1.64005240039079,1.6532651152668352,1.666373662785743,1.6793612746708972,1.6922103320436328,1.704902388482886,1.7174181981382624,1.7297377489113663,1.7418403006892385,1.7537044285818217,1.765308071082816,1.7766285830401254,1.7876427932889727,1.7983270667674645,1.8086573709016052,1.8186093460148862,1.8281583794859952,1.8372796833489373,1.8459483750010715,1.8541395606584727,1.8618284211737672,1.868990299809555,1.875600791541416,1.8816358334481464,1.8870717957334266,1.8918855729130541,1.8960546746950513,1.8995573160764783,1.9023725061811037,1.9044801353653766,1.9058610601276438,1.9064971853657253,1.9063715435423487,1.9054683703346569,1.9037731763647698,1.9012728146312192,1.897955543287129,1.8938110834393596,1.8888306716732368,1.8830071070399592,1.87633479227766,1.868809769072388,1.8604297472013285,1.8511941274373354,1.8411040181307237,1.8301622454213513,1.8183733570701772,1.8057436199356016,1.7922810111542997,1.7779952031200323,1.7628975423855837,1.7470010226433634,1.7303202519682432,1.7128714145324802,1.6946722270261776,1.675741890038335,1.656101034672598,1.6357716646880476,1.6147770944698696,1.5931418831458124,1.5708917651737593,1.5480535777324815,1.5246551852519088,1.5007254014220048,1.4762939090193012,1.451391177888784,1.4260483814157725,1.4002973118172284,1.374170294576445,1.3477001023371584,1.3209198685651484],\"yaxis\":\"y\",\"type\":\"scatter\"}],                        {\"barmode\":\"overlay\",\"hovermode\":\"closest\",\"legend\":{\"traceorder\":\"reversed\"},\"xaxis\":{\"anchor\":\"y2\",\"domain\":[0.0,1.0],\"zeroline\":false},\"yaxis\":{\"anchor\":\"free\",\"domain\":[0.0,1],\"position\":0.0},\"template\":{\"data\":{\"barpolar\":[{\"marker\":{\"line\":{\"color\":\"rgb(17,17,17)\",\"width\":0.5},\"pattern\":{\"fillmode\":\"overlay\",\"size\":10,\"solidity\":0.2}},\"type\":\"barpolar\"}],\"bar\":[{\"error_x\":{\"color\":\"#f2f5fa\"},\"error_y\":{\"color\":\"#f2f5fa\"},\"marker\":{\"line\":{\"color\":\"rgb(17,17,17)\",\"width\":0.5},\"pattern\":{\"fillmode\":\"overlay\",\"size\":10,\"solidity\":0.2}},\"type\":\"bar\"}],\"carpet\":[{\"aaxis\":{\"endlinecolor\":\"#A2B1C6\",\"gridcolor\":\"#506784\",\"linecolor\":\"#506784\",\"minorgridcolor\":\"#506784\",\"startlinecolor\":\"#A2B1C6\"},\"baxis\":{\"endlinecolor\":\"#A2B1C6\",\"gridcolor\":\"#506784\",\"linecolor\":\"#506784\",\"minorgridcolor\":\"#506784\",\"startlinecolor\":\"#A2B1C6\"},\"type\":\"carpet\"}],\"choropleth\":[{\"colorbar\":{\"outlinewidth\":0,\"ticks\":\"\"},\"type\":\"choropleth\"}],\"contourcarpet\":[{\"colorbar\":{\"outlinewidth\":0,\"ticks\":\"\"},\"type\":\"contourcarpet\"}],\"contour\":[{\"colorbar\":{\"outlinewidth\":0,\"ticks\":\"\"},\"colorscale\":[[0.0,\"#0d0887\"],[0.1111111111111111,\"#46039f\"],[0.2222222222222222,\"#7201a8\"],[0.3333333333333333,\"#9c179e\"],[0.4444444444444444,\"#bd3786\"],[0.5555555555555556,\"#d8576b\"],[0.6666666666666666,\"#ed7953\"],[0.7777777777777778,\"#fb9f3a\"],[0.8888888888888888,\"#fdca26\"],[1.0,\"#f0f921\"]],\"type\":\"contour\"}],\"heatmapgl\":[{\"colorbar\":{\"outlinewidth\":0,\"ticks\":\"\"},\"colorscale\":[[0.0,\"#0d0887\"],[0.1111111111111111,\"#46039f\"],[0.2222222222222222,\"#7201a8\"],[0.3333333333333333,\"#9c179e\"],[0.4444444444444444,\"#bd3786\"],[0.5555555555555556,\"#d8576b\"],[0.6666666666666666,\"#ed7953\"],[0.7777777777777778,\"#fb9f3a\"],[0.8888888888888888,\"#fdca26\"],[1.0,\"#f0f921\"]],\"type\":\"heatmapgl\"}],\"heatmap\":[{\"colorbar\":{\"outlinewidth\":0,\"ticks\":\"\"},\"colorscale\":[[0.0,\"#0d0887\"],[0.1111111111111111,\"#46039f\"],[0.2222222222222222,\"#7201a8\"],[0.3333333333333333,\"#9c179e\"],[0.4444444444444444,\"#bd3786\"],[0.5555555555555556,\"#d8576b\"],[0.6666666666666666,\"#ed7953\"],[0.7777777777777778,\"#fb9f3a\"],[0.8888888888888888,\"#fdca26\"],[1.0,\"#f0f921\"]],\"type\":\"heatmap\"}],\"histogram2dcontour\":[{\"colorbar\":{\"outlinewidth\":0,\"ticks\":\"\"},\"colorscale\":[[0.0,\"#0d0887\"],[0.1111111111111111,\"#46039f\"],[0.2222222222222222,\"#7201a8\"],[0.3333333333333333,\"#9c179e\"],[0.4444444444444444,\"#bd3786\"],[0.5555555555555556,\"#d8576b\"],[0.6666666666666666,\"#ed7953\"],[0.7777777777777778,\"#fb9f3a\"],[0.8888888888888888,\"#fdca26\"],[1.0,\"#f0f921\"]],\"type\":\"histogram2dcontour\"}],\"histogram2d\":[{\"colorbar\":{\"outlinewidth\":0,\"ticks\":\"\"},\"colorscale\":[[0.0,\"#0d0887\"],[0.1111111111111111,\"#46039f\"],[0.2222222222222222,\"#7201a8\"],[0.3333333333333333,\"#9c179e\"],[0.4444444444444444,\"#bd3786\"],[0.5555555555555556,\"#d8576b\"],[0.6666666666666666,\"#ed7953\"],[0.7777777777777778,\"#fb9f3a\"],[0.8888888888888888,\"#fdca26\"],[1.0,\"#f0f921\"]],\"type\":\"histogram2d\"}],\"histogram\":[{\"marker\":{\"pattern\":{\"fillmode\":\"overlay\",\"size\":10,\"solidity\":0.2}},\"type\":\"histogram\"}],\"mesh3d\":[{\"colorbar\":{\"outlinewidth\":0,\"ticks\":\"\"},\"type\":\"mesh3d\"}],\"parcoords\":[{\"line\":{\"colorbar\":{\"outlinewidth\":0,\"ticks\":\"\"}},\"type\":\"parcoords\"}],\"pie\":[{\"automargin\":true,\"type\":\"pie\"}],\"scatter3d\":[{\"line\":{\"colorbar\":{\"outlinewidth\":0,\"ticks\":\"\"}},\"marker\":{\"colorbar\":{\"outlinewidth\":0,\"ticks\":\"\"}},\"type\":\"scatter3d\"}],\"scattercarpet\":[{\"marker\":{\"colorbar\":{\"outlinewidth\":0,\"ticks\":\"\"}},\"type\":\"scattercarpet\"}],\"scattergeo\":[{\"marker\":{\"colorbar\":{\"outlinewidth\":0,\"ticks\":\"\"}},\"type\":\"scattergeo\"}],\"scattergl\":[{\"marker\":{\"line\":{\"color\":\"#283442\"}},\"type\":\"scattergl\"}],\"scattermapbox\":[{\"marker\":{\"colorbar\":{\"outlinewidth\":0,\"ticks\":\"\"}},\"type\":\"scattermapbox\"}],\"scatterpolargl\":[{\"marker\":{\"colorbar\":{\"outlinewidth\":0,\"ticks\":\"\"}},\"type\":\"scatterpolargl\"}],\"scatterpolar\":[{\"marker\":{\"colorbar\":{\"outlinewidth\":0,\"ticks\":\"\"}},\"type\":\"scatterpolar\"}],\"scatter\":[{\"marker\":{\"line\":{\"color\":\"#283442\"}},\"type\":\"scatter\"}],\"scatterternary\":[{\"marker\":{\"colorbar\":{\"outlinewidth\":0,\"ticks\":\"\"}},\"type\":\"scatterternary\"}],\"surface\":[{\"colorbar\":{\"outlinewidth\":0,\"ticks\":\"\"},\"colorscale\":[[0.0,\"#0d0887\"],[0.1111111111111111,\"#46039f\"],[0.2222222222222222,\"#7201a8\"],[0.3333333333333333,\"#9c179e\"],[0.4444444444444444,\"#bd3786\"],[0.5555555555555556,\"#d8576b\"],[0.6666666666666666,\"#ed7953\"],[0.7777777777777778,\"#fb9f3a\"],[0.8888888888888888,\"#fdca26\"],[1.0,\"#f0f921\"]],\"type\":\"surface\"}],\"table\":[{\"cells\":{\"fill\":{\"color\":\"#506784\"},\"line\":{\"color\":\"rgb(17,17,17)\"}},\"header\":{\"fill\":{\"color\":\"#2a3f5f\"},\"line\":{\"color\":\"rgb(17,17,17)\"}},\"type\":\"table\"}]},\"layout\":{\"annotationdefaults\":{\"arrowcolor\":\"#f2f5fa\",\"arrowhead\":0,\"arrowwidth\":1},\"autotypenumbers\":\"strict\",\"coloraxis\":{\"colorbar\":{\"outlinewidth\":0,\"ticks\":\"\"}},\"colorscale\":{\"diverging\":[[0,\"#8e0152\"],[0.1,\"#c51b7d\"],[0.2,\"#de77ae\"],[0.3,\"#f1b6da\"],[0.4,\"#fde0ef\"],[0.5,\"#f7f7f7\"],[0.6,\"#e6f5d0\"],[0.7,\"#b8e186\"],[0.8,\"#7fbc41\"],[0.9,\"#4d9221\"],[1,\"#276419\"]],\"sequential\":[[0.0,\"#0d0887\"],[0.1111111111111111,\"#46039f\"],[0.2222222222222222,\"#7201a8\"],[0.3333333333333333,\"#9c179e\"],[0.4444444444444444,\"#bd3786\"],[0.5555555555555556,\"#d8576b\"],[0.6666666666666666,\"#ed7953\"],[0.7777777777777778,\"#fb9f3a\"],[0.8888888888888888,\"#fdca26\"],[1.0,\"#f0f921\"]],\"sequentialminus\":[[0.0,\"#0d0887\"],[0.1111111111111111,\"#46039f\"],[0.2222222222222222,\"#7201a8\"],[0.3333333333333333,\"#9c179e\"],[0.4444444444444444,\"#bd3786\"],[0.5555555555555556,\"#d8576b\"],[0.6666666666666666,\"#ed7953\"],[0.7777777777777778,\"#fb9f3a\"],[0.8888888888888888,\"#fdca26\"],[1.0,\"#f0f921\"]]},\"colorway\":[\"#636efa\",\"#EF553B\",\"#00cc96\",\"#ab63fa\",\"#FFA15A\",\"#19d3f3\",\"#FF6692\",\"#B6E880\",\"#FF97FF\",\"#FECB52\"],\"font\":{\"color\":\"#f2f5fa\"},\"geo\":{\"bgcolor\":\"rgb(17,17,17)\",\"lakecolor\":\"rgb(17,17,17)\",\"landcolor\":\"rgb(17,17,17)\",\"showlakes\":true,\"showland\":true,\"subunitcolor\":\"#506784\"},\"hoverlabel\":{\"align\":\"left\"},\"hovermode\":\"closest\",\"mapbox\":{\"style\":\"dark\"},\"paper_bgcolor\":\"rgb(17,17,17)\",\"plot_bgcolor\":\"rgb(17,17,17)\",\"polar\":{\"angularaxis\":{\"gridcolor\":\"#506784\",\"linecolor\":\"#506784\",\"ticks\":\"\"},\"bgcolor\":\"rgb(17,17,17)\",\"radialaxis\":{\"gridcolor\":\"#506784\",\"linecolor\":\"#506784\",\"ticks\":\"\"}},\"scene\":{\"xaxis\":{\"backgroundcolor\":\"rgb(17,17,17)\",\"gridcolor\":\"#506784\",\"gridwidth\":2,\"linecolor\":\"#506784\",\"showbackground\":true,\"ticks\":\"\",\"zerolinecolor\":\"#C8D4E3\"},\"yaxis\":{\"backgroundcolor\":\"rgb(17,17,17)\",\"gridcolor\":\"#506784\",\"gridwidth\":2,\"linecolor\":\"#506784\",\"showbackground\":true,\"ticks\":\"\",\"zerolinecolor\":\"#C8D4E3\"},\"zaxis\":{\"backgroundcolor\":\"rgb(17,17,17)\",\"gridcolor\":\"#506784\",\"gridwidth\":2,\"linecolor\":\"#506784\",\"showbackground\":true,\"ticks\":\"\",\"zerolinecolor\":\"#C8D4E3\"}},\"shapedefaults\":{\"line\":{\"color\":\"#f2f5fa\"}},\"sliderdefaults\":{\"bgcolor\":\"#C8D4E3\",\"bordercolor\":\"rgb(17,17,17)\",\"borderwidth\":1,\"tickwidth\":0},\"ternary\":{\"aaxis\":{\"gridcolor\":\"#506784\",\"linecolor\":\"#506784\",\"ticks\":\"\"},\"baxis\":{\"gridcolor\":\"#506784\",\"linecolor\":\"#506784\",\"ticks\":\"\"},\"bgcolor\":\"rgb(17,17,17)\",\"caxis\":{\"gridcolor\":\"#506784\",\"linecolor\":\"#506784\",\"ticks\":\"\"}},\"title\":{\"x\":0.05},\"updatemenudefaults\":{\"bgcolor\":\"#506784\",\"borderwidth\":0},\"xaxis\":{\"automargin\":true,\"gridcolor\":\"#283442\",\"linecolor\":\"#506784\",\"ticks\":\"\",\"title\":{\"standoff\":15},\"zerolinecolor\":\"#283442\",\"zerolinewidth\":2},\"yaxis\":{\"automargin\":true,\"gridcolor\":\"#283442\",\"linecolor\":\"#506784\",\"ticks\":\"\",\"title\":{\"standoff\":15},\"zerolinecolor\":\"#283442\",\"zerolinewidth\":2}}},\"title\":{\"text\":\"Distribui\\u00e7\\u00e3o de densidade das Notas por g\\u00eanero de livro\"}},                        {\"responsive\": true}                    ).then(function(){\n",
              "                            \n",
              "var gd = document.getElementById('5e87b752-7425-4151-bfd6-62864fa7a179');\n",
              "var x = new MutationObserver(function (mutations, observer) {{\n",
              "        var display = window.getComputedStyle(gd).display;\n",
              "        if (!display || display === 'none') {{\n",
              "            console.log([gd, 'removed!']);\n",
              "            Plotly.purge(gd);\n",
              "            observer.disconnect();\n",
              "        }}\n",
              "}});\n",
              "\n",
              "// Listen for the removal of the full notebook cells\n",
              "var notebookContainer = gd.closest('#notebook-container');\n",
              "if (notebookContainer) {{\n",
              "    x.observe(notebookContainer, {childList: true});\n",
              "}}\n",
              "\n",
              "// Listen for the clearing of the current output cell\n",
              "var outputEl = gd.closest('.output');\n",
              "if (outputEl) {{\n",
              "    x.observe(outputEl, {childList: true});\n",
              "}}\n",
              "\n",
              "                        })                };                            </script>        </div>\n",
              "</body>\n",
              "</html>"
            ]
          },
          "metadata": {}
        }
      ]
    },
    {
      "cell_type": "markdown",
      "source": [
        "### Normalizando os dados com a transformação Box-Cox\n"
      ],
      "metadata": {
        "id": "y_n2RSmeygZi"
      }
    },
    {
      "cell_type": "code",
      "source": [
        "BoxCox, lam = stats.boxcox(df['User Rating'])"
      ],
      "metadata": {
        "id": "78EEYzcpOirc"
      },
      "execution_count": null,
      "outputs": []
    },
    {
      "cell_type": "code",
      "source": [
        "# Alfa\n",
        "alpha=0.05\n",
        "\n",
        "# Teste de Shapiro Wilk\n",
        "stat, pval = shapiro(BoxCox)\n",
        "\n",
        "print('Estatística Shapiro-Wilk:', f'{stat:.3f}')\n",
        "print('P-Valor:', f'{pval:.20f}')\n",
        "    \n",
        "# Condição que aceita ou rejeita H0\n",
        "if pval < alpha:\n",
        "    print('Rejeita H0, portanto as Notas NÃO se aproximam da distribuição normal.')\n",
        "else:\n",
        "    print('Aceita H0, portanto as Notas se aproximam da distribuição normal.')"
      ],
      "metadata": {
        "colab": {
          "base_uri": "https://localhost:8080/"
        },
        "id": "BfS_UYA8QFIP",
        "outputId": "0611306b-eb8f-4dfe-ebd7-2ead46020ea0"
      },
      "execution_count": null,
      "outputs": [
        {
          "output_type": "stream",
          "name": "stdout",
          "text": [
            "Estatística Shapiro-Wilk: 0.957\n",
            "P-Valor: 0.00000001283832862242\n",
            "Rejeita H0, portanto as Notas NÃO se aproximam da distribuição normal.\n"
          ]
        }
      ]
    },
    {
      "cell_type": "markdown",
      "source": [
        "#### Não foi possível normalizar os dados com a transformação Box-Cox"
      ],
      "metadata": {
        "id": "ZfPFuoFlRJJQ"
      }
    },
    {
      "cell_type": "markdown",
      "source": [
        "# Conclusão"
      ],
      "metadata": {
        "id": "S_7aBZfWROk5"
      }
    },
    {
      "cell_type": "markdown",
      "source": [
        "  Segundo o Teste de Shapiro Wilk, as notas dos livros não se aproximam da distribuição normal e não puderam ser normalizadas pela transformação Box-Cox \\\\\n",
        "  E conforme o teste Mann-Whitney, podemos dizer com 95% de confiança que existem diferença significativa entre as distribuição das notas dos livros de Ficção e Não Ficção, já que rejeitamos a hipótese $H_0$.\n"
      ],
      "metadata": {
        "id": "4Rq_-_FaH1FY"
      }
    },
    {
      "cell_type": "code",
      "source": [
        ""
      ],
      "metadata": {
        "id": "bDiY8mhxYkBR"
      },
      "execution_count": null,
      "outputs": []
    }
  ]
}