{
  "nbformat": 4,
  "nbformat_minor": 0,
  "metadata": {
    "colab": {
      "provenance": [],
      "collapsed_sections": [],
      "authorship_tag": "ABX9TyOhpc832NilatxOfSu6rTVx",
      "include_colab_link": true
    },
    "kernelspec": {
      "name": "python3",
      "display_name": "Python 3"
    },
    "language_info": {
      "name": "python"
    }
  },
  "cells": [
    {
      "cell_type": "markdown",
      "metadata": {
        "id": "view-in-github",
        "colab_type": "text"
      },
      "source": [
        "<a href=\"https://colab.research.google.com/github/andregdmitri/Teste-de-hipotese-dos-50-bestsellers-da-amazon/blob/main/Multiv_L3.ipynb\" target=\"_parent\"><img src=\"https://colab.research.google.com/assets/colab-badge.svg\" alt=\"Open In Colab\"/></a>"
      ]
    },
    {
      "cell_type": "code",
      "execution_count": 1,
      "metadata": {
        "id": "vS92-SHuqvZC"
      },
      "outputs": [],
      "source": [
        "import numpy as np\n",
        "from scipy.stats import f\n",
        "import sympy as sym\n",
        "from sympy import MatrixSymbol, Matrix, solve, linsolve, solveset, MatrixExpr\n",
        "import matplotlib.pyplot as plt\n",
        "from matplotlib.patches import Ellipse\n",
        "import pandas as pd"
      ]
    },
    {
      "cell_type": "markdown",
      "source": [
        "# 2)"
      ],
      "metadata": {
        "id": "ZOq-rV5b1bPJ"
      }
    },
    {
      "cell_type": "code",
      "source": [
        "n = 42 \n",
        "S = Matrix([[0.0144, 0.0117], [0.0117, 0.0146]])\n",
        "x = Matrix([[0.564], [0.603]])\n",
        "p = 2\n",
        "alpha = 0.05"
      ],
      "metadata": {
        "id": "eoAGjamvrGFd"
      },
      "execution_count": 2,
      "outputs": []
    },
    {
      "cell_type": "markdown",
      "source": [
        "# 2) a) Estimador de Máxima Verossimilhança de $\\mu$ e $\\Sigma$\n",
        "Resposta: Pelo resultado 4.11 de Jhonson e Wiechern, temos:\n",
        "\n",
        "$\\mu$ = $\\bar x$  e $\\Sigma = \\frac{n-1}{n}S$"
      ],
      "metadata": {
        "id": "DQOlGdPbyxsF"
      }
    },
    {
      "cell_type": "code",
      "source": [
        "sigma = ((n-1)/n)*S\n",
        "print(\"Sigma = \\n\" , sigma)"
      ],
      "metadata": {
        "colab": {
          "base_uri": "https://localhost:8080/"
        },
        "id": "P7ys3nh9x1FD",
        "outputId": "c4e3df45-e827-4bef-baa6-bb126e91ced6"
      },
      "execution_count": 3,
      "outputs": [
        {
          "output_type": "stream",
          "name": "stdout",
          "text": [
            "Sigma = \n",
            " Matrix([[0.0140571428571429, 0.0114214285714286], [0.0114214285714286, 0.0142523809523810]])\n"
          ]
        }
      ]
    },
    {
      "cell_type": "markdown",
      "source": [
        "$\\mu$ = $\\bar x$ = $\\begin{bmatrix}\n",
        "0.564\\\\\n",
        "0,603\n",
        "\\end{bmatrix}$\n",
        "\\\n",
        "\\\n",
        "$\\Sigma = \\frac{n-1}{n}S$ = $\\begin{bmatrix}\n",
        " 0.01405714 && 0.01142143 \\\\\n",
        " 0.01142143 && 0.01425238\n",
        "\\end{bmatrix}$"
      ],
      "metadata": {
        "id": "RA7M2MC7z8VX"
      }
    },
    {
      "cell_type": "markdown",
      "source": [
        "# 2) b) Faça IC$_{0.95}(\\mu)$, uma representação gráfica do elipsóide e $\\mu_0$ = (0.6, 0.58) $\\in$ IC?"
      ],
      "metadata": {
        "id": "Y10NZxXj1dxN"
      }
    },
    {
      "cell_type": "markdown",
      "source": [
        "Reposta:\\\n",
        "$IC_{0.95}(\\mu) = n (\\bar x - \\mu)' S^{-1}(\\bar x - \\mu) \\leq \\frac{p(n-1)}{n-p}F_{p,n-p,0.05}$"
      ],
      "metadata": {
        "id": "aJRrK8rB2NM4"
      }
    },
    {
      "cell_type": "markdown",
      "source": [
        "Representando o lado esquerdo da equação"
      ],
      "metadata": {
        "id": "AJq9oiNqlnsd"
      }
    },
    {
      "cell_type": "code",
      "source": [
        "lado_direito = (((p*(n-1))/(n-p))*f.ppf(1-alpha, p, n-p))*sym.Identity(1)\n",
        "A = (x - MatrixSymbol('mu', 2, 1))\n",
        "lado_esquerdo = n*((A.T @ S.inv()) @ A)\n",
        "lado_esquerdo"
      ],
      "metadata": {
        "colab": {
          "base_uri": "https://localhost:8080/",
          "height": 58
        },
        "id": "2-ZfcQYwKQj9",
        "outputId": "7279cb81-fef5-43bf-8674-b43e5355bd41"
      },
      "execution_count": 4,
      "outputs": [
        {
          "output_type": "execute_result",
          "data": {
            "text/plain": [
              "42*(Matrix([[0.564, 0.603]]) - mu.T)*Matrix([\n",
              "[ 199.045671438309, -159.509202453988],\n",
              "[-159.509202453988,  196.319018404908]])*(Matrix([\n",
              "[0.564],\n",
              "[0.603]]) - mu)"
            ],
            "text/latex": "$\\displaystyle 42 \\left(\\left[\\begin{matrix}0.564 & 0.603\\end{matrix}\\right] - \\mu^{T}\\right) \\left[\\begin{matrix}199.045671438309 & -159.509202453988\\\\-159.509202453988 & 196.319018404908\\end{matrix}\\right] \\left(\\left[\\begin{matrix}0.564\\\\0.603\\end{matrix}\\right] - \\mu\\right)$"
          },
          "metadata": {},
          "execution_count": 4
        }
      ]
    },
    {
      "cell_type": "markdown",
      "source": [
        "Valor numérico do lado esquerdo"
      ],
      "metadata": {
        "id": "vzagBjtSlqRH"
      }
    },
    {
      "cell_type": "code",
      "source": [
        "lado_direito = (((p*(n-1))/(n-p))*f.ppf(1-alpha, p, n-p))*sym.Identity(1)\n",
        "#A = (x - MatrixSymbol('mu', 2, 1))\n",
        "A = (x - Matrix([[0.6], [0.58]]))\n",
        "lado_esquerdo = n*((A.T @ S.inv()) @ A)\n",
        "expr = lado_direito - lado_esquerdo"
      ],
      "metadata": {
        "id": "wLe4UUzRziR1"
      },
      "execution_count": 5,
      "outputs": []
    },
    {
      "cell_type": "code",
      "source": [
        "lado_esquerdo[0]"
      ],
      "metadata": {
        "colab": {
          "base_uri": "https://localhost:8080/",
          "height": 37
        },
        "id": "9jfPMq3PlkFn",
        "outputId": "6e411d0a-c43f-4efd-d5b8-5dda6ee0274d"
      },
      "execution_count": 6,
      "outputs": [
        {
          "output_type": "execute_result",
          "data": {
            "text/plain": [
              "26.2904539877301"
            ],
            "text/latex": "$\\displaystyle 26.2904539877301$"
          },
          "metadata": {},
          "execution_count": 6
        }
      ]
    },
    {
      "cell_type": "markdown",
      "source": [
        "Valor numérico do lado direito"
      ],
      "metadata": {
        "id": "Bc6EVawjlvAF"
      }
    },
    {
      "cell_type": "code",
      "source": [
        "lado_direito[0][0]"
      ],
      "metadata": {
        "colab": {
          "base_uri": "https://localhost:8080/",
          "height": 37
        },
        "id": "bc9OOeKdXN_R",
        "outputId": "a8292ca6-34b7-4742-ac27-2ae243b81652"
      },
      "execution_count": 7,
      "outputs": [
        {
          "output_type": "execute_result",
          "data": {
            "text/plain": [
              "6.62504033530323"
            ],
            "text/latex": "$\\displaystyle 6.62504033530323$"
          },
          "metadata": {},
          "execution_count": 7
        }
      ]
    },
    {
      "cell_type": "markdown",
      "source": [
        "Resolvendo a equação acima com $\\mu_0' = [0.6, 0.58]$, obtemos que 26.2904 $\\leq$ 6.6250 É FALSO, então esse valor de $\\mu'$ não está na região de confiança.\n",
        "O teste \n",
        "$H_0 : \\mu_0' = \\begin{bmatrix} 0.6, 0.58 \\end{bmatrix}^T$ seria rejeitado, favorecendo $H_1: \\mu \\neq \\begin{bmatrix} 0.6, 0.58 \\end{bmatrix}^T$ para $\\alpha = 0.05$\n"
      ],
      "metadata": {
        "id": "oC5MeHb-ZoyJ"
      }
    },
    {
      "cell_type": "code",
      "source": [
        "n = 42 \n",
        "S = np.array([[0.0144, 0.0117], [0.0117, 0.0146]])\n",
        "x = np.array([[0.564], [0.603]])\n",
        "p = 2\n",
        "alpha = 0.05"
      ],
      "metadata": {
        "id": "BhAUPKT3eB1E"
      },
      "execution_count": 8,
      "outputs": []
    },
    {
      "cell_type": "markdown",
      "source": [
        "O elipsóide de confiança tem como centro $\\bar x$, e o eixo maior e menor são dados por:\\\n",
        "$\n",
        "\\sqrt \\lambda_1 \\sqrt{\\frac{p(n-1)}{n(n-p)} F_{p,n-p,0.05}}\n",
        "$\\\n",
        "e\\\n",
        "$\\\n",
        "\\sqrt \\lambda_2 \\sqrt{\\frac{p(n-1)}{n(n-p)} F_{p,n-p,0.05}}\n",
        "$"
      ],
      "metadata": {
        "id": "d8tJRFKwc1UW"
      }
    },
    {
      "cell_type": "code",
      "source": [
        "lambdas, autovetor = np.linalg.eig(S)\n",
        "print(f\"Autovalores, lambda1 = {lambdas[0]:.4f} e lambda2 = {lambdas[1]:.4f}\")"
      ],
      "metadata": {
        "colab": {
          "base_uri": "https://localhost:8080/"
        },
        "id": "wyqbtYGuaIqV",
        "outputId": "959f9ec9-527b-42b2-8b31-ba4320cd20bb"
      },
      "execution_count": 9,
      "outputs": [
        {
          "output_type": "stream",
          "name": "stdout",
          "text": [
            "Autovalores, lambda1 = 0.0028 e lambda2 = 0.0262\n"
          ]
        }
      ]
    },
    {
      "cell_type": "code",
      "source": [
        "print(f\"Autovetores, e1 = {autovetor[0]} e e2 = {autovetor[1]}\")"
      ],
      "metadata": {
        "colab": {
          "base_uri": "https://localhost:8080/"
        },
        "id": "zOrawkcRd6ks",
        "outputId": "ae6c62dd-a8e5-46b5-c18a-a79b243f7d38"
      },
      "execution_count": 10,
      "outputs": [
        {
          "output_type": "stream",
          "name": "stdout",
          "text": [
            "Autovetores, e1 = [-0.71012207 -0.70407858] e e2 = [ 0.70407858 -0.71012207]\n"
          ]
        }
      ]
    },
    {
      "cell_type": "code",
      "source": [
        "eixo_menor = np.sqrt(lambdas[0])*np.sqrt(((p*(n-1))/(n*(n-p)))*f.ppf(1-alpha, p, n-p))\n",
        "print(f\"Meio-comprimento do eixo MENOR é dado por {eixo_menor:.6f}\")"
      ],
      "metadata": {
        "colab": {
          "base_uri": "https://localhost:8080/"
        },
        "id": "a2USuM4SeeXX",
        "outputId": "78319774-13fc-47c3-b8e9-29196f9cf08d"
      },
      "execution_count": 11,
      "outputs": [
        {
          "output_type": "stream",
          "name": "stdout",
          "text": [
            "Meio-comprimento do eixo MENOR é dado por 0.021014\n"
          ]
        }
      ]
    },
    {
      "cell_type": "code",
      "source": [
        "eixo_maior = np.sqrt(lambdas[1])*np.sqrt(((p*(n-1))/(n*(n-p)))*f.ppf(1-alpha, p, n-p))\n",
        "print(f\"Meio-comprimento do eixo MAIOR é dado por {eixo_maior:.6f}\")"
      ],
      "metadata": {
        "colab": {
          "base_uri": "https://localhost:8080/"
        },
        "id": "1xjiHiXUg9y2",
        "outputId": "9c981c91-3a5f-4ea2-ca83-6e065497c2e2"
      },
      "execution_count": 12,
      "outputs": [
        {
          "output_type": "stream",
          "name": "stdout",
          "text": [
            "Meio-comprimento do eixo MAIOR é dado por 0.064287\n"
          ]
        }
      ]
    },
    {
      "cell_type": "markdown",
      "source": [
        "Elipse obtida:"
      ],
      "metadata": {
        "id": "Ibuj0lIKnBoK"
      }
    },
    {
      "cell_type": "code",
      "source": [
        "fig, ax = plt.subplots(subplot_kw={'aspect': 'equal'})\n",
        "\n",
        "ellipse = Ellipse(x, width= eixo_maior*2, height=eixo_menor*2, angle=0.05*360)\n",
        "ax.add_artist(ellipse)\n",
        "\n",
        "ax.set_xlim(0.45, 0.65)\n",
        "ax.set_ylim(0.5, 0.7)\n",
        "\n",
        "plt.show()"
      ],
      "metadata": {
        "colab": {
          "base_uri": "https://localhost:8080/",
          "height": 269
        },
        "id": "N7xGGhenjNCz",
        "outputId": "c2e478a3-8855-4b13-cb8b-d11319493428"
      },
      "execution_count": 13,
      "outputs": [
        {
          "output_type": "display_data",
          "data": {
            "text/plain": [
              "<Figure size 432x288 with 1 Axes>"
            ],
            "image/png": "[encoded data removed]"
          },
          "metadata": {
            "needs_background": "light"
          }
        }
      ]
    },
    {
      "cell_type": "markdown",
      "source": [
        "# 2) c) Intervalos de confiaça de 95% para $\\mu_1$ e $\\mu_2$\n",
        "O intervalo de confiança simultanêo é dado por:\\\n",
        "$\n",
        "\\bar x_1 \\pm \\sqrt{\\frac{p(n-1)}{n(n-p)} F_{p,n-p,0.05}} \\sqrt{\\frac{s_{11}}{n}}\n",
        "$\\\n",
        "e\\\n",
        "$\\\n",
        "\\bar x_2 \\pm \\sqrt{\\frac{p(n-1)}{n(n-p)} F_{p,n-p,0.05}} \\sqrt{\\frac{s_{22}}{n}}\n",
        "$"
      ],
      "metadata": {
        "id": "hAFUuLgkqmn9"
      }
    },
    {
      "cell_type": "code",
      "source": [
        "IC_x1 = [x[0] - (np.sqrt((p*(n-1)/(n*(n-p)))*f.ppf(1-alpha, p, n-p))*np.sqrt(S[0][0]/n)), x[0] + (np.sqrt((p*(n-1)/(n*(n-p)))*f.ppf(1-alpha, p, n-p))*np.sqrt(S[0][0]/n))]\n",
        "IC_x2 = [x[1] - (np.sqrt((p*(n-1)/(n*(n-p)))*f.ppf(1-alpha, p, n-p))*np.sqrt(S[1][1]/n)), x[1] + (np.sqrt((p*(n-1)/(n*(n-p)))*f.ppf(1-alpha, p, n-p))*np.sqrt(S[1][1]/n))]"
      ],
      "metadata": {
        "id": "_Lc8smWvn0TR"
      },
      "execution_count": 14,
      "outputs": []
    },
    {
      "cell_type": "code",
      "source": [
        "IC_x1 = np.array(IC_x1)\n",
        "print(f\"O intervalo de 95% confiança para mu1_barra está entre ({IC_x1[0][0]:.4f} , {IC_x1[1][0]:.4f})\")"
      ],
      "metadata": {
        "colab": {
          "base_uri": "https://localhost:8080/"
        },
        "id": "lwLNB3zos-RW",
        "outputId": "c2dcaec0-cc52-48b7-c816-96279a704744"
      },
      "execution_count": 15,
      "outputs": [
        {
          "output_type": "stream",
          "name": "stdout",
          "text": [
            "O intervalo de 95% confiança para mu1_barra está entre (0.5566 , 0.5714)\n"
          ]
        }
      ]
    },
    {
      "cell_type": "code",
      "source": [
        "IC_x2 = np.array(IC_x2)\n",
        "print(f\"O intervalo de 95% confiança para mu2_barra está entre ({IC_x2[0][0]:.4f} , {IC_x2[1][0]:.4f})\")"
      ],
      "metadata": {
        "colab": {
          "base_uri": "https://localhost:8080/"
        },
        "id": "xz3VdVmPtPSR",
        "outputId": "acc5307e-6ef3-4280-ec8c-914125b139c3"
      },
      "execution_count": 16,
      "outputs": [
        {
          "output_type": "stream",
          "name": "stdout",
          "text": [
            "O intervalo de 95% confiança para mu2_barra está entre (0.5956 , 0.6104)\n"
          ]
        }
      ]
    },
    {
      "cell_type": "markdown",
      "source": [
        "# 2) d) Teste de hipotesese para \n",
        "$\n",
        "\\begin{cases}\n",
        "      H_0: \\mu_0 = [0.60, 0.58]^T  \\\\\n",
        "      H_1: \\mu_0 \\neq [0.60, 0.58]^T\n",
        "\\end{cases}\n",
        "$\n"
      ],
      "metadata": {
        "id": "pTdO2XvfwnVF"
      }
    },
    {
      "cell_type": "markdown",
      "source": [
        "Resposta: Temos como estatística do teste,\n",
        "\n",
        "$\n",
        "T^2 = n (\\bar \\mu_0)' S^{-1}(\\mu_0) \\leq \\frac{p(n-1)}{n-p} = c^2\n",
        "$"
      ],
      "metadata": {
        "id": "SNK9VBSnZibG"
      }
    },
    {
      "cell_type": "code",
      "source": [
        "n = 42 \n",
        "S = Matrix([[0.0144, 0.0117], [0.0117, 0.0146]])\n",
        "A = Matrix([[0.6], [0.58]])\n",
        "p = 2\n",
        "alpha = 0.05"
      ],
      "metadata": {
        "id": "xSorszZtSgGX"
      },
      "execution_count": 17,
      "outputs": []
    },
    {
      "cell_type": "code",
      "source": [
        "lado_direito = (((p*(n-1))/(n-p))*f.ppf(1-alpha, p, n-p))*sym.Identity(1)\n",
        "lado_esquerdo = n*((A.T @ S.inv()) @ A)\n",
        "expr = lado_direito - lado_esquerdo"
      ],
      "metadata": {
        "id": "DEcp2Y3XSnrk"
      },
      "execution_count": 18,
      "outputs": []
    },
    {
      "cell_type": "code",
      "source": [
        "lado_esquerdo[0]"
      ],
      "metadata": {
        "colab": {
          "base_uri": "https://localhost:8080/",
          "height": 37
        },
        "id": "IVthV48ASutg",
        "outputId": "9e59159b-141a-4fda-a287-04a0fd639bcf"
      },
      "execution_count": 19,
      "outputs": [
        {
          "output_type": "execute_result",
          "data": {
            "text/plain": [
              "1120.54969325153"
            ],
            "text/latex": "$\\displaystyle 1120.54969325153$"
          },
          "metadata": {},
          "execution_count": 19
        }
      ]
    },
    {
      "cell_type": "code",
      "source": [
        "lado_direito[0][0]"
      ],
      "metadata": {
        "id": "qbKrVpo5gq3h",
        "colab": {
          "base_uri": "https://localhost:8080/",
          "height": 37
        },
        "outputId": "4bfd9e16-d8b5-41cb-e828-877817c5293d"
      },
      "execution_count": 20,
      "outputs": [
        {
          "output_type": "execute_result",
          "data": {
            "text/plain": [
              "6.62504033530323"
            ],
            "text/latex": "$\\displaystyle 6.62504033530323$"
          },
          "metadata": {},
          "execution_count": 20
        }
      ]
    },
    {
      "cell_type": "markdown",
      "source": [
        "Como $T^2 = 1120.5496 \\geq 6.6250 = c^2$, o teste falha, logo, rejeitamos $H_0$ ao nível de signficância de 5%."
      ],
      "metadata": {
        "id": "VScIpoKBS0Lj"
      }
    },
    {
      "cell_type": "markdown",
      "source": [
        "# 4) DataFrame Iris"
      ],
      "metadata": {
        "id": "LPPtLLjBojq8"
      }
    },
    {
      "cell_type": "code",
      "source": [
        "!pip install statsmodels --quiet"
      ],
      "metadata": {
        "id": "UyJzf2HLppUL"
      },
      "execution_count": 21,
      "outputs": []
    },
    {
      "cell_type": "code",
      "source": [
        "import pandas as pd\n",
        "from statsmodels.multivariate.manova import MANOVA\n",
        "import seaborn as sns"
      ],
      "metadata": {
        "id": "ZbKBCkCLpuCL"
      },
      "execution_count": 22,
      "outputs": []
    },
    {
      "cell_type": "code",
      "source": [
        "url = 'https://vincentarelbundock.github.io/Rdatasets/csv/datasets/iris.csv'\n",
        "df = pd.read_csv(url, index_col=0)\n",
        "df.columns = df.columns.str.replace(\".\", \"_\")\n",
        "df.head()"
      ],
      "metadata": {
        "colab": {
          "base_uri": "https://localhost:8080/",
          "height": 261
        },
        "id": "Za8ArSwNolph",
        "outputId": "d0f5cbeb-8d16-4860-e5c9-dd284aba1f99"
      },
      "execution_count": 23,
      "outputs": [
        {
          "output_type": "stream",
          "name": "stderr",
          "text": [
            "/usr/local/lib/python3.7/dist-packages/ipykernel_launcher.py:3: FutureWarning: The default value of regex will change from True to False in a future version. In addition, single character regular expressions will *not* be treated as literal strings when regex=True.\n",
            "  This is separate from the ipykernel package so we can avoid doing imports until\n"
          ]
        },
        {
          "output_type": "execute_result",
          "data": {
            "text/plain": [
              "   Sepal_Length  Sepal_Width  Petal_Length  Petal_Width Species\n",
              "1           5.1          3.5           1.4          0.2  setosa\n",
              "2           4.9          3.0           1.4          0.2  setosa\n",
              "3           4.7          3.2           1.3          0.2  setosa\n",
              "4           4.6          3.1           1.5          0.2  setosa\n",
              "5           5.0          3.6           1.4          0.2  setosa"
            ],
            "text/html": [
              "\n",
              "  <div id=\"df-344b8180-cdaa-48c7-880e-a07d61b250b1\">\n",
              "    <div class=\"colab-df-container\">\n",
              "      <div>\n",
              "<style scoped>\n",
              "    .dataframe tbody tr th:only-of-type {\n",
              "        vertical-align: middle;\n",
              "    }\n",
              "\n",
              "    .dataframe tbody tr th {\n",
              "        vertical-align: top;\n",
              "    }\n",
              "\n",
              "    .dataframe thead th {\n",
              "        text-align: right;\n",
              "    }\n",
              "</style>\n",
              "<table border=\"1\" class=\"dataframe\">\n",
              "  <thead>\n",
              "    <tr style=\"text-align: right;\">\n",
              "      <th></th>\n",
              "      <th>Sepal_Length</th>\n",
              "      <th>Sepal_Width</th>\n",
              "      <th>Petal_Length</th>\n",
              "      <th>Petal_Width</th>\n",
              "      <th>Species</th>\n",
              "    </tr>\n",
              "  </thead>\n",
              "  <tbody>\n",
              "    <tr>\n",
              "      <th>1</th>\n",
              "      <td>5.1</td>\n",
              "      <td>3.5</td>\n",
              "      <td>1.4</td>\n",
              "      <td>0.2</td>\n",
              "      <td>setosa</td>\n",
              "    </tr>\n",
              "    <tr>\n",
              "      <th>2</th>\n",
              "      <td>4.9</td>\n",
              "      <td>3.0</td>\n",
              "      <td>1.4</td>\n",
              "      <td>0.2</td>\n",
              "      <td>setosa</td>\n",
              "    </tr>\n",
              "    <tr>\n",
              "      <th>3</th>\n",
              "      <td>4.7</td>\n",
              "      <td>3.2</td>\n",
              "      <td>1.3</td>\n",
              "      <td>0.2</td>\n",
              "      <td>setosa</td>\n",
              "    </tr>\n",
              "    <tr>\n",
              "      <th>4</th>\n",
              "      <td>4.6</td>\n",
              "      <td>3.1</td>\n",
              "      <td>1.5</td>\n",
              "      <td>0.2</td>\n",
              "      <td>setosa</td>\n",
              "    </tr>\n",
              "    <tr>\n",
              "      <th>5</th>\n",
              "      <td>5.0</td>\n",
              "      <td>3.6</td>\n",
              "      <td>1.4</td>\n",
              "      <td>0.2</td>\n",
              "      <td>setosa</td>\n",
              "    </tr>\n",
              "  </tbody>\n",
              "</table>\n",
              "</div>\n",
              "      <button class=\"colab-df-convert\" onclick=\"convertToInteractive('df-344b8180-cdaa-48c7-880e-a07d61b250b1')\"\n",
              "              title=\"Convert this dataframe to an interactive table.\"\n",
              "              style=\"display:none;\">\n",
              "        \n",
              "  <svg xmlns=\"http://www.w3.org/2000/svg\" height=\"24px\"viewBox=\"0 0 24 24\"\n",
              "       width=\"24px\">\n",
              "    <path d=\"M0 0h24v24H0V0z\" fill=\"none\"/>\n",
              "    <path d=\"M18.56 5.44l.94 2.06.94-2.06 2.06-.94-2.06-.94-.94-2.06-.94 2.06-2.06.94zm-11 1L8.5 8.5l.94-2.06 2.06-.94-2.06-.94L8.5 2.5l-.94 2.06-2.06.94zm10 10l.94 2.06.94-2.06 2.06-.94-2.06-.94-.94-2.06-.94 2.06-2.06.94z\"/><path d=\"M17.41 7.96l-1.37-1.37c-.4-.4-.92-.59-1.43-.59-.52 0-1.04.2-1.43.59L10.3 9.45l-7.72 7.72c-.78.78-.78 2.05 0 2.83L4 21.41c.39.39.9.59 1.41.59.51 0 1.02-.2 1.41-.59l7.78-7.78 2.81-2.81c.8-.78.8-2.07 0-2.86zM5.41 20L4 18.59l7.72-7.72 1.47 1.35L5.41 20z\"/>\n",
              "  </svg>\n",
              "      </button>\n",
              "      \n",
              "  <style>\n",
              "    .colab-df-container {\n",
              "      display:flex;\n",
              "      flex-wrap:wrap;\n",
              "      gap: 12px;\n",
              "    }\n",
              "\n",
              "    .colab-df-convert {\n",
              "      background-color: #E8F0FE;\n",
              "      border: none;\n",
              "      border-radius: 50%;\n",
              "      cursor: pointer;\n",
              "      display: none;\n",
              "      fill: #1967D2;\n",
              "      height: 32px;\n",
              "      padding: 0 0 0 0;\n",
              "      width: 32px;\n",
              "    }\n",
              "\n",
              "    .colab-df-convert:hover {\n",
              "      background-color: #E2EBFA;\n",
              "      box-shadow: 0px 1px 2px rgba(60, 64, 67, 0.3), 0px 1px 3px 1px rgba(60, 64, 67, 0.15);\n",
              "      fill: #174EA6;\n",
              "    }\n",
              "\n",
              "    [theme=dark] .colab-df-convert {\n",
              "      background-color: #3B4455;\n",
              "      fill: #D2E3FC;\n",
              "    }\n",
              "\n",
              "    [theme=dark] .colab-df-convert:hover {\n",
              "      background-color: #434B5C;\n",
              "      box-shadow: 0px 1px 3px 1px rgba(0, 0, 0, 0.15);\n",
              "      filter: drop-shadow(0px 1px 2px rgba(0, 0, 0, 0.3));\n",
              "      fill: #FFFFFF;\n",
              "    }\n",
              "  </style>\n",
              "\n",
              "      <script>\n",
              "        const buttonEl =\n",
              "          document.querySelector('#df-344b8180-cdaa-48c7-880e-a07d61b250b1 button.colab-df-convert');\n",
              "        buttonEl.style.display =\n",
              "          google.colab.kernel.accessAllowed ? 'block' : 'none';\n",
              "\n",
              "        async function convertToInteractive(key) {\n",
              "          const element = document.querySelector('#df-344b8180-cdaa-48c7-880e-a07d61b250b1');\n",
              "          const dataTable =\n",
              "            await google.colab.kernel.invokeFunction('convertToInteractive',\n",
              "                                                     [key], {});\n",
              "          if (!dataTable) return;\n",
              "\n",
              "          const docLinkHtml = 'Like what you see? Visit the ' +\n",
              "            '<a target=\"_blank\" href=https://colab.research.google.com/notebooks/data_table.ipynb>data table notebook</a>'\n",
              "            + ' to learn more about interactive tables.';\n",
              "          element.innerHTML = '';\n",
              "          dataTable['output_type'] = 'display_data';\n",
              "          await google.colab.output.renderOutput(dataTable, element);\n",
              "          const docLink = document.createElement('div');\n",
              "          docLink.innerHTML = docLinkHtml;\n",
              "          element.appendChild(docLink);\n",
              "        }\n",
              "      </script>\n",
              "    </div>\n",
              "  </div>\n",
              "  "
            ]
          },
          "metadata": {},
          "execution_count": 23
        }
      ]
    },
    {
      "cell_type": "markdown",
      "source": [
        "## 4) a)"
      ],
      "metadata": {
        "id": "pZ9JbhBhooPE"
      }
    },
    {
      "cell_type": "code",
      "source": [
        "numerical_values = df.select_dtypes(exclude=object) #Valores Numericos\n",
        "\n",
        "plt.figure(figsize=(10,10))\n",
        "sns.set_context('paper', font_scale=1.2)\n",
        "corr = numerical_values.corr()\n",
        "sns.heatmap(corr, annot=True, cmap='coolwarm', linewidths=1,linecolor='black', fmt='.2f',\n",
        "            annot_kws={'fontsize':'large', 'fontweight':'semibold'},\n",
        "            cbar_kws={'extend':'both'}, square=True)\n",
        "plt.title('Correlation between numerical values');"
      ],
      "metadata": {
        "colab": {
          "base_uri": "https://localhost:8080/",
          "height": 574
        },
        "id": "UC3gyPBEWxjg",
        "outputId": "5e15e259-8c41-4ce7-e116-0a724a11d80e"
      },
      "execution_count": 24,
      "outputs": [
        {
          "output_type": "display_data",
          "data": {
            "text/plain": [
              "<Figure size 720x720 with 2 Axes>"
            ],
            "image/png": "[encoded data removed]"
          },
          "metadata": {
            "needs_background": "light"
          }
        }
      ]
    },
    {
      "cell_type": "markdown",
      "source": [
        "\n",
        "Podemos observar que Sepal_lenght com Petal_width, Sepal_lenght com Petal_lenght, e Petal_lenght com petal_width apresentam grande correlação."
      ],
      "metadata": {
        "id": "1NgQz-opYesB"
      }
    },
    {
      "cell_type": "code",
      "source": [
        "import plotly.express as px"
      ],
      "metadata": {
        "id": "ST5qCBbaGhVi"
      },
      "execution_count": 25,
      "outputs": []
    },
    {
      "cell_type": "code",
      "source": [
        "fig = px.box(df, color=\"Species\")\n",
        "fig.show()"
      ],
      "metadata": {
        "colab": {
          "base_uri": "https://localhost:8080/",
          "height": 542
        },
        "id": "jxZrQN2cBYJf",
        "outputId": "bb1f2931-b237-4054-d02e-2fe4d529a5a5"
      },
      "execution_count": 26,
      "outputs": [
        {
          "output_type": "display_data",
          "data": {
            "text/html": [
              "<html>\n",
              "<head><meta charset=\"utf-8\" /></head>\n",
              "<body>\n",
              "    <div>            <script src=\"https://cdnjs.cloudflare.com/ajax/libs/mathjax/2.7.5/MathJax.js?config=TeX-AMS-MML_SVG\"></script><script type=\"text/javascript\">if (window.MathJax) {MathJax.Hub.Config({SVG: {font: \"STIX-Web\"}});}</script>                <script type=\"text/javascript\">window.PlotlyConfig = {MathJaxConfig: 'local'};</script>\n",
              "        <script src=\"https://cdn.plot.ly/plotly-2.8.3.min.js\"></script>                <div id=\"2d8ec059-718b-4b30-8011-9e759ad76838\" class=\"plotly-graph-div\" style=\"height:525px; width:100%;\"></div>            <script type=\"text/javascript\">                                    window.PLOTLYENV=window.PLOTLYENV || {};                                    if (document.getElementById(\"2d8ec059-718b-4b30-8011-9e759ad76838\")) {                    Plotly.newPlot(                        \"2d8ec059-718b-4b30-8011-9e759ad76838\",                        [{\"alignmentgroup\":\"True\",\"hovertemplate\":\"Species=setosa<br>variable=%{x}<br>value=%{y}<extra></extra>\",\"legendgroup\":\"setosa\",\"marker\":{\"color\":\"#636efa\"},\"name\":\"setosa\",\"notched\":false,\"offsetgroup\":\"setosa\",\"orientation\":\"v\",\"showlegend\":true,\"x\":[\"Sepal_Length\",\"Sepal_Length\",\"Sepal_Length\",\"Sepal_Length\",\"Sepal_Length\",\"Sepal_Length\",\"Sepal_Length\",\"Sepal_Length\",\"Sepal_Length\",\"Sepal_Length\",\"Sepal_Length\",\"Sepal_Length\",\"Sepal_Length\",\"Sepal_Length\",\"Sepal_Length\",\"Sepal_Length\",\"Sepal_Length\",\"Sepal_Length\",\"Sepal_Length\",\"Sepal_Length\",\"Sepal_Length\",\"Sepal_Length\",\"Sepal_Length\",\"Sepal_Length\",\"Sepal_Length\",\"Sepal_Length\",\"Sepal_Length\",\"Sepal_Length\",\"Sepal_Length\",\"Sepal_Length\",\"Sepal_Length\",\"Sepal_Length\",\"Sepal_Length\",\"Sepal_Length\",\"Sepal_Length\",\"Sepal_Length\",\"Sepal_Length\",\"Sepal_Length\",\"Sepal_Length\",\"Sepal_Length\",\"Sepal_Length\",\"Sepal_Length\",\"Sepal_Length\",\"Sepal_Length\",\"Sepal_Length\",\"Sepal_Length\",\"Sepal_Length\",\"Sepal_Length\",\"Sepal_Length\",\"Sepal_Length\",\"Sepal_Width\",\"Sepal_Width\",\"Sepal_Width\",\"Sepal_Width\",\"Sepal_Width\",\"Sepal_Width\",\"Sepal_Width\",\"Sepal_Width\",\"Sepal_Width\",\"Sepal_Width\",\"Sepal_Width\",\"Sepal_Width\",\"Sepal_Width\",\"Sepal_Width\",\"Sepal_Width\",\"Sepal_Width\",\"Sepal_Width\",\"Sepal_Width\",\"Sepal_Width\",\"Sepal_Width\",\"Sepal_Width\",\"Sepal_Width\",\"Sepal_Width\",\"Sepal_Width\",\"Sepal_Width\",\"Sepal_Width\",\"Sepal_Width\",\"Sepal_Width\",\"Sepal_Width\",\"Sepal_Width\",\"Sepal_Width\",\"Sepal_Width\",\"Sepal_Width\",\"Sepal_Width\",\"Sepal_Width\",\"Sepal_Width\",\"Sepal_Width\",\"Sepal_Width\",\"Sepal_Width\",\"Sepal_Width\",\"Sepal_Width\",\"Sepal_Width\",\"Sepal_Width\",\"Sepal_Width\",\"Sepal_Width\",\"Sepal_Width\",\"Sepal_Width\",\"Sepal_Width\",\"Sepal_Width\",\"Sepal_Width\",\"Petal_Length\",\"Petal_Length\",\"Petal_Length\",\"Petal_Length\",\"Petal_Length\",\"Petal_Length\",\"Petal_Length\",\"Petal_Length\",\"Petal_Length\",\"Petal_Length\",\"Petal_Length\",\"Petal_Length\",\"Petal_Length\",\"Petal_Length\",\"Petal_Length\",\"Petal_Length\",\"Petal_Length\",\"Petal_Length\",\"Petal_Length\",\"Petal_Length\",\"Petal_Length\",\"Petal_Length\",\"Petal_Length\",\"Petal_Length\",\"Petal_Length\",\"Petal_Length\",\"Petal_Length\",\"Petal_Length\",\"Petal_Length\",\"Petal_Length\",\"Petal_Length\",\"Petal_Length\",\"Petal_Length\",\"Petal_Length\",\"Petal_Length\",\"Petal_Length\",\"Petal_Length\",\"Petal_Length\",\"Petal_Length\",\"Petal_Length\",\"Petal_Length\",\"Petal_Length\",\"Petal_Length\",\"Petal_Length\",\"Petal_Length\",\"Petal_Length\",\"Petal_Length\",\"Petal_Length\",\"Petal_Length\",\"Petal_Length\",\"Petal_Width\",\"Petal_Width\",\"Petal_Width\",\"Petal_Width\",\"Petal_Width\",\"Petal_Width\",\"Petal_Width\",\"Petal_Width\",\"Petal_Width\",\"Petal_Width\",\"Petal_Width\",\"Petal_Width\",\"Petal_Width\",\"Petal_Width\",\"Petal_Width\",\"Petal_Width\",\"Petal_Width\",\"Petal_Width\",\"Petal_Width\",\"Petal_Width\",\"Petal_Width\",\"Petal_Width\",\"Petal_Width\",\"Petal_Width\",\"Petal_Width\",\"Petal_Width\",\"Petal_Width\",\"Petal_Width\",\"Petal_Width\",\"Petal_Width\",\"Petal_Width\",\"Petal_Width\",\"Petal_Width\",\"Petal_Width\",\"Petal_Width\",\"Petal_Width\",\"Petal_Width\",\"Petal_Width\",\"Petal_Width\",\"Petal_Width\",\"Petal_Width\",\"Petal_Width\",\"Petal_Width\",\"Petal_Width\",\"Petal_Width\",\"Petal_Width\",\"Petal_Width\",\"Petal_Width\",\"Petal_Width\",\"Petal_Width\"],\"x0\":\" \",\"xaxis\":\"x\",\"y\":[5.1,4.9,4.7,4.6,5.0,5.4,4.6,5.0,4.4,4.9,5.4,4.8,4.8,4.3,5.8,5.7,5.4,5.1,5.7,5.1,5.4,5.1,4.6,5.1,4.8,5.0,5.0,5.2,5.2,4.7,4.8,5.4,5.2,5.5,4.9,5.0,5.5,4.9,4.4,5.1,5.0,4.5,4.4,5.0,5.1,4.8,5.1,4.6,5.3,5.0,3.5,3.0,3.2,3.1,3.6,3.9,3.4,3.4,2.9,3.1,3.7,3.4,3.0,3.0,4.0,4.4,3.9,3.5,3.8,3.8,3.4,3.7,3.6,3.3,3.4,3.0,3.4,3.5,3.4,3.2,3.1,3.4,4.1,4.2,3.1,3.2,3.5,3.6,3.0,3.4,3.5,2.3,3.2,3.5,3.8,3.0,3.8,3.2,3.7,3.3,1.4,1.4,1.3,1.5,1.4,1.7,1.4,1.5,1.4,1.5,1.5,1.6,1.4,1.1,1.2,1.5,1.3,1.4,1.7,1.5,1.7,1.5,1.0,1.7,1.9,1.6,1.6,1.5,1.4,1.6,1.6,1.5,1.5,1.4,1.5,1.2,1.3,1.4,1.3,1.5,1.3,1.3,1.3,1.6,1.9,1.4,1.6,1.4,1.5,1.4,0.2,0.2,0.2,0.2,0.2,0.4,0.3,0.2,0.2,0.1,0.2,0.2,0.1,0.1,0.2,0.4,0.4,0.3,0.3,0.3,0.2,0.4,0.2,0.5,0.2,0.2,0.4,0.2,0.2,0.2,0.2,0.4,0.1,0.2,0.2,0.2,0.2,0.1,0.2,0.2,0.3,0.3,0.2,0.6,0.4,0.3,0.2,0.2,0.2,0.2],\"y0\":\" \",\"yaxis\":\"y\",\"type\":\"box\"},{\"alignmentgroup\":\"True\",\"hovertemplate\":\"Species=versicolor<br>variable=%{x}<br>value=%{y}<extra></extra>\",\"legendgroup\":\"versicolor\",\"marker\":{\"color\":\"#EF553B\"},\"name\":\"versicolor\",\"notched\":false,\"offsetgroup\":\"versicolor\",\"orientation\":\"v\",\"showlegend\":true,\"x\":[\"Sepal_Length\",\"Sepal_Length\",\"Sepal_Length\",\"Sepal_Length\",\"Sepal_Length\",\"Sepal_Length\",\"Sepal_Length\",\"Sepal_Length\",\"Sepal_Length\",\"Sepal_Length\",\"Sepal_Length\",\"Sepal_Length\",\"Sepal_Length\",\"Sepal_Length\",\"Sepal_Length\",\"Sepal_Length\",\"Sepal_Length\",\"Sepal_Length\",\"Sepal_Length\",\"Sepal_Length\",\"Sepal_Length\",\"Sepal_Length\",\"Sepal_Length\",\"Sepal_Length\",\"Sepal_Length\",\"Sepal_Length\",\"Sepal_Length\",\"Sepal_Length\",\"Sepal_Length\",\"Sepal_Length\",\"Sepal_Length\",\"Sepal_Length\",\"Sepal_Length\",\"Sepal_Length\",\"Sepal_Length\",\"Sepal_Length\",\"Sepal_Length\",\"Sepal_Length\",\"Sepal_Length\",\"Sepal_Length\",\"Sepal_Length\",\"Sepal_Length\",\"Sepal_Length\",\"Sepal_Length\",\"Sepal_Length\",\"Sepal_Length\",\"Sepal_Length\",\"Sepal_Length\",\"Sepal_Length\",\"Sepal_Length\",\"Sepal_Width\",\"Sepal_Width\",\"Sepal_Width\",\"Sepal_Width\",\"Sepal_Width\",\"Sepal_Width\",\"Sepal_Width\",\"Sepal_Width\",\"Sepal_Width\",\"Sepal_Width\",\"Sepal_Width\",\"Sepal_Width\",\"Sepal_Width\",\"Sepal_Width\",\"Sepal_Width\",\"Sepal_Width\",\"Sepal_Width\",\"Sepal_Width\",\"Sepal_Width\",\"Sepal_Width\",\"Sepal_Width\",\"Sepal_Width\",\"Sepal_Width\",\"Sepal_Width\",\"Sepal_Width\",\"Sepal_Width\",\"Sepal_Width\",\"Sepal_Width\",\"Sepal_Width\",\"Sepal_Width\",\"Sepal_Width\",\"Sepal_Width\",\"Sepal_Width\",\"Sepal_Width\",\"Sepal_Width\",\"Sepal_Width\",\"Sepal_Width\",\"Sepal_Width\",\"Sepal_Width\",\"Sepal_Width\",\"Sepal_Width\",\"Sepal_Width\",\"Sepal_Width\",\"Sepal_Width\",\"Sepal_Width\",\"Sepal_Width\",\"Sepal_Width\",\"Sepal_Width\",\"Sepal_Width\",\"Sepal_Width\",\"Petal_Length\",\"Petal_Length\",\"Petal_Length\",\"Petal_Length\",\"Petal_Length\",\"Petal_Length\",\"Petal_Length\",\"Petal_Length\",\"Petal_Length\",\"Petal_Length\",\"Petal_Length\",\"Petal_Length\",\"Petal_Length\",\"Petal_Length\",\"Petal_Length\",\"Petal_Length\",\"Petal_Length\",\"Petal_Length\",\"Petal_Length\",\"Petal_Length\",\"Petal_Length\",\"Petal_Length\",\"Petal_Length\",\"Petal_Length\",\"Petal_Length\",\"Petal_Length\",\"Petal_Length\",\"Petal_Length\",\"Petal_Length\",\"Petal_Length\",\"Petal_Length\",\"Petal_Length\",\"Petal_Length\",\"Petal_Length\",\"Petal_Length\",\"Petal_Length\",\"Petal_Length\",\"Petal_Length\",\"Petal_Length\",\"Petal_Length\",\"Petal_Length\",\"Petal_Length\",\"Petal_Length\",\"Petal_Length\",\"Petal_Length\",\"Petal_Length\",\"Petal_Length\",\"Petal_Length\",\"Petal_Length\",\"Petal_Length\",\"Petal_Width\",\"Petal_Width\",\"Petal_Width\",\"Petal_Width\",\"Petal_Width\",\"Petal_Width\",\"Petal_Width\",\"Petal_Width\",\"Petal_Width\",\"Petal_Width\",\"Petal_Width\",\"Petal_Width\",\"Petal_Width\",\"Petal_Width\",\"Petal_Width\",\"Petal_Width\",\"Petal_Width\",\"Petal_Width\",\"Petal_Width\",\"Petal_Width\",\"Petal_Width\",\"Petal_Width\",\"Petal_Width\",\"Petal_Width\",\"Petal_Width\",\"Petal_Width\",\"Petal_Width\",\"Petal_Width\",\"Petal_Width\",\"Petal_Width\",\"Petal_Width\",\"Petal_Width\",\"Petal_Width\",\"Petal_Width\",\"Petal_Width\",\"Petal_Width\",\"Petal_Width\",\"Petal_Width\",\"Petal_Width\",\"Petal_Width\",\"Petal_Width\",\"Petal_Width\",\"Petal_Width\",\"Petal_Width\",\"Petal_Width\",\"Petal_Width\",\"Petal_Width\",\"Petal_Width\",\"Petal_Width\",\"Petal_Width\"],\"x0\":\" \",\"xaxis\":\"x\",\"y\":[7.0,6.4,6.9,5.5,6.5,5.7,6.3,4.9,6.6,5.2,5.0,5.9,6.0,6.1,5.6,6.7,5.6,5.8,6.2,5.6,5.9,6.1,6.3,6.1,6.4,6.6,6.8,6.7,6.0,5.7,5.5,5.5,5.8,6.0,5.4,6.0,6.7,6.3,5.6,5.5,5.5,6.1,5.8,5.0,5.6,5.7,5.7,6.2,5.1,5.7,3.2,3.2,3.1,2.3,2.8,2.8,3.3,2.4,2.9,2.7,2.0,3.0,2.2,2.9,2.9,3.1,3.0,2.7,2.2,2.5,3.2,2.8,2.5,2.8,2.9,3.0,2.8,3.0,2.9,2.6,2.4,2.4,2.7,2.7,3.0,3.4,3.1,2.3,3.0,2.5,2.6,3.0,2.6,2.3,2.7,3.0,2.9,2.9,2.5,2.8,4.7,4.5,4.9,4.0,4.6,4.5,4.7,3.3,4.6,3.9,3.5,4.2,4.0,4.7,3.6,4.4,4.5,4.1,4.5,3.9,4.8,4.0,4.9,4.7,4.3,4.4,4.8,5.0,4.5,3.5,3.8,3.7,3.9,5.1,4.5,4.5,4.7,4.4,4.1,4.0,4.4,4.6,4.0,3.3,4.2,4.2,4.2,4.3,3.0,4.1,1.4,1.5,1.5,1.3,1.5,1.3,1.6,1.0,1.3,1.4,1.0,1.5,1.0,1.4,1.3,1.4,1.5,1.0,1.5,1.1,1.8,1.3,1.5,1.2,1.3,1.4,1.4,1.7,1.5,1.0,1.1,1.0,1.2,1.6,1.5,1.6,1.5,1.3,1.3,1.3,1.2,1.4,1.2,1.0,1.3,1.2,1.3,1.3,1.1,1.3],\"y0\":\" \",\"yaxis\":\"y\",\"type\":\"box\"},{\"alignmentgroup\":\"True\",\"hovertemplate\":\"Species=virginica<br>variable=%{x}<br>value=%{y}<extra></extra>\",\"legendgroup\":\"virginica\",\"marker\":{\"color\":\"#00cc96\"},\"name\":\"virginica\",\"notched\":false,\"offsetgroup\":\"virginica\",\"orientation\":\"v\",\"showlegend\":true,\"x\":[\"Sepal_Length\",\"Sepal_Length\",\"Sepal_Length\",\"Sepal_Length\",\"Sepal_Length\",\"Sepal_Length\",\"Sepal_Length\",\"Sepal_Length\",\"Sepal_Length\",\"Sepal_Length\",\"Sepal_Length\",\"Sepal_Length\",\"Sepal_Length\",\"Sepal_Length\",\"Sepal_Length\",\"Sepal_Length\",\"Sepal_Length\",\"Sepal_Length\",\"Sepal_Length\",\"Sepal_Length\",\"Sepal_Length\",\"Sepal_Length\",\"Sepal_Length\",\"Sepal_Length\",\"Sepal_Length\",\"Sepal_Length\",\"Sepal_Length\",\"Sepal_Length\",\"Sepal_Length\",\"Sepal_Length\",\"Sepal_Length\",\"Sepal_Length\",\"Sepal_Length\",\"Sepal_Length\",\"Sepal_Length\",\"Sepal_Length\",\"Sepal_Length\",\"Sepal_Length\",\"Sepal_Length\",\"Sepal_Length\",\"Sepal_Length\",\"Sepal_Length\",\"Sepal_Length\",\"Sepal_Length\",\"Sepal_Length\",\"Sepal_Length\",\"Sepal_Length\",\"Sepal_Length\",\"Sepal_Length\",\"Sepal_Length\",\"Sepal_Width\",\"Sepal_Width\",\"Sepal_Width\",\"Sepal_Width\",\"Sepal_Width\",\"Sepal_Width\",\"Sepal_Width\",\"Sepal_Width\",\"Sepal_Width\",\"Sepal_Width\",\"Sepal_Width\",\"Sepal_Width\",\"Sepal_Width\",\"Sepal_Width\",\"Sepal_Width\",\"Sepal_Width\",\"Sepal_Width\",\"Sepal_Width\",\"Sepal_Width\",\"Sepal_Width\",\"Sepal_Width\",\"Sepal_Width\",\"Sepal_Width\",\"Sepal_Width\",\"Sepal_Width\",\"Sepal_Width\",\"Sepal_Width\",\"Sepal_Width\",\"Sepal_Width\",\"Sepal_Width\",\"Sepal_Width\",\"Sepal_Width\",\"Sepal_Width\",\"Sepal_Width\",\"Sepal_Width\",\"Sepal_Width\",\"Sepal_Width\",\"Sepal_Width\",\"Sepal_Width\",\"Sepal_Width\",\"Sepal_Width\",\"Sepal_Width\",\"Sepal_Width\",\"Sepal_Width\",\"Sepal_Width\",\"Sepal_Width\",\"Sepal_Width\",\"Sepal_Width\",\"Sepal_Width\",\"Sepal_Width\",\"Petal_Length\",\"Petal_Length\",\"Petal_Length\",\"Petal_Length\",\"Petal_Length\",\"Petal_Length\",\"Petal_Length\",\"Petal_Length\",\"Petal_Length\",\"Petal_Length\",\"Petal_Length\",\"Petal_Length\",\"Petal_Length\",\"Petal_Length\",\"Petal_Length\",\"Petal_Length\",\"Petal_Length\",\"Petal_Length\",\"Petal_Length\",\"Petal_Length\",\"Petal_Length\",\"Petal_Length\",\"Petal_Length\",\"Petal_Length\",\"Petal_Length\",\"Petal_Length\",\"Petal_Length\",\"Petal_Length\",\"Petal_Length\",\"Petal_Length\",\"Petal_Length\",\"Petal_Length\",\"Petal_Length\",\"Petal_Length\",\"Petal_Length\",\"Petal_Length\",\"Petal_Length\",\"Petal_Length\",\"Petal_Length\",\"Petal_Length\",\"Petal_Length\",\"Petal_Length\",\"Petal_Length\",\"Petal_Length\",\"Petal_Length\",\"Petal_Length\",\"Petal_Length\",\"Petal_Length\",\"Petal_Length\",\"Petal_Length\",\"Petal_Width\",\"Petal_Width\",\"Petal_Width\",\"Petal_Width\",\"Petal_Width\",\"Petal_Width\",\"Petal_Width\",\"Petal_Width\",\"Petal_Width\",\"Petal_Width\",\"Petal_Width\",\"Petal_Width\",\"Petal_Width\",\"Petal_Width\",\"Petal_Width\",\"Petal_Width\",\"Petal_Width\",\"Petal_Width\",\"Petal_Width\",\"Petal_Width\",\"Petal_Width\",\"Petal_Width\",\"Petal_Width\",\"Petal_Width\",\"Petal_Width\",\"Petal_Width\",\"Petal_Width\",\"Petal_Width\",\"Petal_Width\",\"Petal_Width\",\"Petal_Width\",\"Petal_Width\",\"Petal_Width\",\"Petal_Width\",\"Petal_Width\",\"Petal_Width\",\"Petal_Width\",\"Petal_Width\",\"Petal_Width\",\"Petal_Width\",\"Petal_Width\",\"Petal_Width\",\"Petal_Width\",\"Petal_Width\",\"Petal_Width\",\"Petal_Width\",\"Petal_Width\",\"Petal_Width\",\"Petal_Width\",\"Petal_Width\"],\"x0\":\" \",\"xaxis\":\"x\",\"y\":[6.3,5.8,7.1,6.3,6.5,7.6,4.9,7.3,6.7,7.2,6.5,6.4,6.8,5.7,5.8,6.4,6.5,7.7,7.7,6.0,6.9,5.6,7.7,6.3,6.7,7.2,6.2,6.1,6.4,7.2,7.4,7.9,6.4,6.3,6.1,7.7,6.3,6.4,6.0,6.9,6.7,6.9,5.8,6.8,6.7,6.7,6.3,6.5,6.2,5.9,3.3,2.7,3.0,2.9,3.0,3.0,2.5,2.9,2.5,3.6,3.2,2.7,3.0,2.5,2.8,3.2,3.0,3.8,2.6,2.2,3.2,2.8,2.8,2.7,3.3,3.2,2.8,3.0,2.8,3.0,2.8,3.8,2.8,2.8,2.6,3.0,3.4,3.1,3.0,3.1,3.1,3.1,2.7,3.2,3.3,3.0,2.5,3.0,3.4,3.0,6.0,5.1,5.9,5.6,5.8,6.6,4.5,6.3,5.8,6.1,5.1,5.3,5.5,5.0,5.1,5.3,5.5,6.7,6.9,5.0,5.7,4.9,6.7,4.9,5.7,6.0,4.8,4.9,5.6,5.8,6.1,6.4,5.6,5.1,5.6,6.1,5.6,5.5,4.8,5.4,5.6,5.1,5.1,5.9,5.7,5.2,5.0,5.2,5.4,5.1,2.5,1.9,2.1,1.8,2.2,2.1,1.7,1.8,1.8,2.5,2.0,1.9,2.1,2.0,2.4,2.3,1.8,2.2,2.3,1.5,2.3,2.0,2.0,1.8,2.1,1.8,1.8,1.8,2.1,1.6,1.9,2.0,2.2,1.5,1.4,2.3,2.4,1.8,1.8,2.1,2.4,2.3,1.9,2.3,2.5,2.3,1.9,2.0,2.3,1.8],\"y0\":\" \",\"yaxis\":\"y\",\"type\":\"box\"}],                        {\"template\":{\"data\":{\"bar\":[{\"error_x\":{\"color\":\"#2a3f5f\"},\"error_y\":{\"color\":\"#2a3f5f\"},\"marker\":{\"line\":{\"color\":\"#E5ECF6\",\"width\":0.5},\"pattern\":{\"fillmode\":\"overlay\",\"size\":10,\"solidity\":0.2}},\"type\":\"bar\"}],\"barpolar\":[{\"marker\":{\"line\":{\"color\":\"#E5ECF6\",\"width\":0.5},\"pattern\":{\"fillmode\":\"overlay\",\"size\":10,\"solidity\":0.2}},\"type\":\"barpolar\"}],\"carpet\":[{\"aaxis\":{\"endlinecolor\":\"#2a3f5f\",\"gridcolor\":\"white\",\"linecolor\":\"white\",\"minorgridcolor\":\"white\",\"startlinecolor\":\"#2a3f5f\"},\"baxis\":{\"endlinecolor\":\"#2a3f5f\",\"gridcolor\":\"white\",\"linecolor\":\"white\",\"minorgridcolor\":\"white\",\"startlinecolor\":\"#2a3f5f\"},\"type\":\"carpet\"}],\"choropleth\":[{\"colorbar\":{\"outlinewidth\":0,\"ticks\":\"\"},\"type\":\"choropleth\"}],\"contour\":[{\"colorbar\":{\"outlinewidth\":0,\"ticks\":\"\"},\"colorscale\":[[0.0,\"#0d0887\"],[0.1111111111111111,\"#46039f\"],[0.2222222222222222,\"#7201a8\"],[0.3333333333333333,\"#9c179e\"],[0.4444444444444444,\"#bd3786\"],[0.5555555555555556,\"#d8576b\"],[0.6666666666666666,\"#ed7953\"],[0.7777777777777778,\"#fb9f3a\"],[0.8888888888888888,\"#fdca26\"],[1.0,\"#f0f921\"]],\"type\":\"contour\"}],\"contourcarpet\":[{\"colorbar\":{\"outlinewidth\":0,\"ticks\":\"\"},\"type\":\"contourcarpet\"}],\"heatmap\":[{\"colorbar\":{\"outlinewidth\":0,\"ticks\":\"\"},\"colorscale\":[[0.0,\"#0d0887\"],[0.1111111111111111,\"#46039f\"],[0.2222222222222222,\"#7201a8\"],[0.3333333333333333,\"#9c179e\"],[0.4444444444444444,\"#bd3786\"],[0.5555555555555556,\"#d8576b\"],[0.6666666666666666,\"#ed7953\"],[0.7777777777777778,\"#fb9f3a\"],[0.8888888888888888,\"#fdca26\"],[1.0,\"#f0f921\"]],\"type\":\"heatmap\"}],\"heatmapgl\":[{\"colorbar\":{\"outlinewidth\":0,\"ticks\":\"\"},\"colorscale\":[[0.0,\"#0d0887\"],[0.1111111111111111,\"#46039f\"],[0.2222222222222222,\"#7201a8\"],[0.3333333333333333,\"#9c179e\"],[0.4444444444444444,\"#bd3786\"],[0.5555555555555556,\"#d8576b\"],[0.6666666666666666,\"#ed7953\"],[0.7777777777777778,\"#fb9f3a\"],[0.8888888888888888,\"#fdca26\"],[1.0,\"#f0f921\"]],\"type\":\"heatmapgl\"}],\"histogram\":[{\"marker\":{\"pattern\":{\"fillmode\":\"overlay\",\"size\":10,\"solidity\":0.2}},\"type\":\"histogram\"}],\"histogram2d\":[{\"colorbar\":{\"outlinewidth\":0,\"ticks\":\"\"},\"colorscale\":[[0.0,\"#0d0887\"],[0.1111111111111111,\"#46039f\"],[0.2222222222222222,\"#7201a8\"],[0.3333333333333333,\"#9c179e\"],[0.4444444444444444,\"#bd3786\"],[0.5555555555555556,\"#d8576b\"],[0.6666666666666666,\"#ed7953\"],[0.7777777777777778,\"#fb9f3a\"],[0.8888888888888888,\"#fdca26\"],[1.0,\"#f0f921\"]],\"type\":\"histogram2d\"}],\"histogram2dcontour\":[{\"colorbar\":{\"outlinewidth\":0,\"ticks\":\"\"},\"colorscale\":[[0.0,\"#0d0887\"],[0.1111111111111111,\"#46039f\"],[0.2222222222222222,\"#7201a8\"],[0.3333333333333333,\"#9c179e\"],[0.4444444444444444,\"#bd3786\"],[0.5555555555555556,\"#d8576b\"],[0.6666666666666666,\"#ed7953\"],[0.7777777777777778,\"#fb9f3a\"],[0.8888888888888888,\"#fdca26\"],[1.0,\"#f0f921\"]],\"type\":\"histogram2dcontour\"}],\"mesh3d\":[{\"colorbar\":{\"outlinewidth\":0,\"ticks\":\"\"},\"type\":\"mesh3d\"}],\"parcoords\":[{\"line\":{\"colorbar\":{\"outlinewidth\":0,\"ticks\":\"\"}},\"type\":\"parcoords\"}],\"pie\":[{\"automargin\":true,\"type\":\"pie\"}],\"scatter\":[{\"marker\":{\"colorbar\":{\"outlinewidth\":0,\"ticks\":\"\"}},\"type\":\"scatter\"}],\"scatter3d\":[{\"line\":{\"colorbar\":{\"outlinewidth\":0,\"ticks\":\"\"}},\"marker\":{\"colorbar\":{\"outlinewidth\":0,\"ticks\":\"\"}},\"type\":\"scatter3d\"}],\"scattercarpet\":[{\"marker\":{\"colorbar\":{\"outlinewidth\":0,\"ticks\":\"\"}},\"type\":\"scattercarpet\"}],\"scattergeo\":[{\"marker\":{\"colorbar\":{\"outlinewidth\":0,\"ticks\":\"\"}},\"type\":\"scattergeo\"}],\"scattergl\":[{\"marker\":{\"colorbar\":{\"outlinewidth\":0,\"ticks\":\"\"}},\"type\":\"scattergl\"}],\"scattermapbox\":[{\"marker\":{\"colorbar\":{\"outlinewidth\":0,\"ticks\":\"\"}},\"type\":\"scattermapbox\"}],\"scatterpolar\":[{\"marker\":{\"colorbar\":{\"outlinewidth\":0,\"ticks\":\"\"}},\"type\":\"scatterpolar\"}],\"scatterpolargl\":[{\"marker\":{\"colorbar\":{\"outlinewidth\":0,\"ticks\":\"\"}},\"type\":\"scatterpolargl\"}],\"scatterternary\":[{\"marker\":{\"colorbar\":{\"outlinewidth\":0,\"ticks\":\"\"}},\"type\":\"scatterternary\"}],\"surface\":[{\"colorbar\":{\"outlinewidth\":0,\"ticks\":\"\"},\"colorscale\":[[0.0,\"#0d0887\"],[0.1111111111111111,\"#46039f\"],[0.2222222222222222,\"#7201a8\"],[0.3333333333333333,\"#9c179e\"],[0.4444444444444444,\"#bd3786\"],[0.5555555555555556,\"#d8576b\"],[0.6666666666666666,\"#ed7953\"],[0.7777777777777778,\"#fb9f3a\"],[0.8888888888888888,\"#fdca26\"],[1.0,\"#f0f921\"]],\"type\":\"surface\"}],\"table\":[{\"cells\":{\"fill\":{\"color\":\"#EBF0F8\"},\"line\":{\"color\":\"white\"}},\"header\":{\"fill\":{\"color\":\"#C8D4E3\"},\"line\":{\"color\":\"white\"}},\"type\":\"table\"}]},\"layout\":{\"annotationdefaults\":{\"arrowcolor\":\"#2a3f5f\",\"arrowhead\":0,\"arrowwidth\":1},\"autotypenumbers\":\"strict\",\"coloraxis\":{\"colorbar\":{\"outlinewidth\":0,\"ticks\":\"\"}},\"colorscale\":{\"diverging\":[[0,\"#8e0152\"],[0.1,\"#c51b7d\"],[0.2,\"#de77ae\"],[0.3,\"#f1b6da\"],[0.4,\"#fde0ef\"],[0.5,\"#f7f7f7\"],[0.6,\"#e6f5d0\"],[0.7,\"#b8e186\"],[0.8,\"#7fbc41\"],[0.9,\"#4d9221\"],[1,\"#276419\"]],\"sequential\":[[0.0,\"#0d0887\"],[0.1111111111111111,\"#46039f\"],[0.2222222222222222,\"#7201a8\"],[0.3333333333333333,\"#9c179e\"],[0.4444444444444444,\"#bd3786\"],[0.5555555555555556,\"#d8576b\"],[0.6666666666666666,\"#ed7953\"],[0.7777777777777778,\"#fb9f3a\"],[0.8888888888888888,\"#fdca26\"],[1.0,\"#f0f921\"]],\"sequentialminus\":[[0.0,\"#0d0887\"],[0.1111111111111111,\"#46039f\"],[0.2222222222222222,\"#7201a8\"],[0.3333333333333333,\"#9c179e\"],[0.4444444444444444,\"#bd3786\"],[0.5555555555555556,\"#d8576b\"],[0.6666666666666666,\"#ed7953\"],[0.7777777777777778,\"#fb9f3a\"],[0.8888888888888888,\"#fdca26\"],[1.0,\"#f0f921\"]]},\"colorway\":[\"#636efa\",\"#EF553B\",\"#00cc96\",\"#ab63fa\",\"#FFA15A\",\"#19d3f3\",\"#FF6692\",\"#B6E880\",\"#FF97FF\",\"#FECB52\"],\"font\":{\"color\":\"#2a3f5f\"},\"geo\":{\"bgcolor\":\"white\",\"lakecolor\":\"white\",\"landcolor\":\"#E5ECF6\",\"showlakes\":true,\"showland\":true,\"subunitcolor\":\"white\"},\"hoverlabel\":{\"align\":\"left\"},\"hovermode\":\"closest\",\"mapbox\":{\"style\":\"light\"},\"paper_bgcolor\":\"white\",\"plot_bgcolor\":\"#E5ECF6\",\"polar\":{\"angularaxis\":{\"gridcolor\":\"white\",\"linecolor\":\"white\",\"ticks\":\"\"},\"bgcolor\":\"#E5ECF6\",\"radialaxis\":{\"gridcolor\":\"white\",\"linecolor\":\"white\",\"ticks\":\"\"}},\"scene\":{\"xaxis\":{\"backgroundcolor\":\"#E5ECF6\",\"gridcolor\":\"white\",\"gridwidth\":2,\"linecolor\":\"white\",\"showbackground\":true,\"ticks\":\"\",\"zerolinecolor\":\"white\"},\"yaxis\":{\"backgroundcolor\":\"#E5ECF6\",\"gridcolor\":\"white\",\"gridwidth\":2,\"linecolor\":\"white\",\"showbackground\":true,\"ticks\":\"\",\"zerolinecolor\":\"white\"},\"zaxis\":{\"backgroundcolor\":\"#E5ECF6\",\"gridcolor\":\"white\",\"gridwidth\":2,\"linecolor\":\"white\",\"showbackground\":true,\"ticks\":\"\",\"zerolinecolor\":\"white\"}},\"shapedefaults\":{\"line\":{\"color\":\"#2a3f5f\"}},\"ternary\":{\"aaxis\":{\"gridcolor\":\"white\",\"linecolor\":\"white\",\"ticks\":\"\"},\"baxis\":{\"gridcolor\":\"white\",\"linecolor\":\"white\",\"ticks\":\"\"},\"bgcolor\":\"#E5ECF6\",\"caxis\":{\"gridcolor\":\"white\",\"linecolor\":\"white\",\"ticks\":\"\"}},\"title\":{\"x\":0.05},\"xaxis\":{\"automargin\":true,\"gridcolor\":\"white\",\"linecolor\":\"white\",\"ticks\":\"\",\"title\":{\"standoff\":15},\"zerolinecolor\":\"white\",\"zerolinewidth\":2},\"yaxis\":{\"automargin\":true,\"gridcolor\":\"white\",\"linecolor\":\"white\",\"ticks\":\"\",\"title\":{\"standoff\":15},\"zerolinecolor\":\"white\",\"zerolinewidth\":2}}},\"xaxis\":{\"anchor\":\"y\",\"domain\":[0.0,1.0],\"title\":{\"text\":\"variable\"}},\"yaxis\":{\"anchor\":\"x\",\"domain\":[0.0,1.0],\"title\":{\"text\":\"value\"}},\"legend\":{\"title\":{\"text\":\"Species\"},\"tracegroupgap\":0},\"margin\":{\"t\":60},\"boxmode\":\"group\"},                        {\"responsive\": true}                    ).then(function(){\n",
              "                            \n",
              "var gd = document.getElementById('2d8ec059-718b-4b30-8011-9e759ad76838');\n",
              "var x = new MutationObserver(function (mutations, observer) {{\n",
              "        var display = window.getComputedStyle(gd).display;\n",
              "        if (!display || display === 'none') {{\n",
              "            console.log([gd, 'removed!']);\n",
              "            Plotly.purge(gd);\n",
              "            observer.disconnect();\n",
              "        }}\n",
              "}});\n",
              "\n",
              "// Listen for the removal of the full notebook cells\n",
              "var notebookContainer = gd.closest('#notebook-container');\n",
              "if (notebookContainer) {{\n",
              "    x.observe(notebookContainer, {childList: true});\n",
              "}}\n",
              "\n",
              "// Listen for the clearing of the current output cell\n",
              "var outputEl = gd.closest('.output');\n",
              "if (outputEl) {{\n",
              "    x.observe(outputEl, {childList: true});\n",
              "}}\n",
              "\n",
              "                        })                };                            </script>        </div>\n",
              "</body>\n",
              "</html>"
            ]
          },
          "metadata": {}
        }
      ]
    },
    {
      "cell_type": "code",
      "source": [
        "maov = MANOVA.from_formula('Sepal_Length + Sepal_Width + \\\n",
        "                            Petal_Length + Petal_Width  ~ Species', data=df)\n",
        "print(maov.mv_test())"
      ],
      "metadata": {
        "colab": {
          "base_uri": "https://localhost:8080/"
        },
        "id": "Zs_434ieo4ao",
        "outputId": "5759e91a-8fc0-4cec-b81c-ce11dcb8b7de"
      },
      "execution_count": 27,
      "outputs": [
        {
          "output_type": "stream",
          "name": "stdout",
          "text": [
            "                   Multivariate linear model\n",
            "================================================================\n",
            "                                                                \n",
            "----------------------------------------------------------------\n",
            "       Intercept         Value  Num DF  Den DF   F Value  Pr > F\n",
            "----------------------------------------------------------------\n",
            "          Wilks' lambda  0.0170 4.0000 144.0000 2086.7720 0.0000\n",
            "         Pillai's trace  0.9830 4.0000 144.0000 2086.7720 0.0000\n",
            " Hotelling-Lawley trace 57.9659 4.0000 144.0000 2086.7720 0.0000\n",
            "    Roy's greatest root 57.9659 4.0000 144.0000 2086.7720 0.0000\n",
            "----------------------------------------------------------------\n",
            "                                                                \n",
            "----------------------------------------------------------------\n",
            "        Species          Value  Num DF  Den DF   F Value  Pr > F\n",
            "----------------------------------------------------------------\n",
            "          Wilks' lambda  0.0234 8.0000 288.0000  199.1453 0.0000\n",
            "         Pillai's trace  1.1919 8.0000 290.0000   53.4665 0.0000\n",
            " Hotelling-Lawley trace 32.4773 8.0000 203.4024  582.1970 0.0000\n",
            "    Roy's greatest root 32.1919 4.0000 145.0000 1166.9574 0.0000\n",
            "================================================================\n",
            "\n"
          ]
        }
      ]
    },
    {
      "cell_type": "markdown",
      "source": [
        "Acima podemos observar que nosso valor F é bem alto, indicando que a variancia entre os grupos é maior que a variância dentro dos grupos."
      ],
      "metadata": {
        "id": "FcLMuay6p92l"
      }
    },
    {
      "cell_type": "markdown",
      "source": [
        "# 4)b)"
      ],
      "metadata": {
        "id": "dniLr6wCJqbo"
      }
    },
    {
      "cell_type": "code",
      "source": [
        "p = 4\n",
        "n = 150\n",
        "x_barra = numerical_values.mean().values\n",
        "x_barra = np.array([x_barra]).T\n",
        "x_barra"
      ],
      "metadata": {
        "colab": {
          "base_uri": "https://localhost:8080/"
        },
        "id": "lkEW4-shJtet",
        "outputId": "4cebae43-4f6e-4bf8-eb74-1ab58f166d6e"
      },
      "execution_count": 33,
      "outputs": [
        {
          "output_type": "execute_result",
          "data": {
            "text/plain": [
              "array([[5.84333333],\n",
              "       [3.05733333],\n",
              "       [3.758     ],\n",
              "       [1.19933333]])"
            ]
          },
          "metadata": {},
          "execution_count": 33
        }
      ]
    },
    {
      "cell_type": "code",
      "source": [
        "S = np.cov(numerical_values)"
      ],
      "metadata": {
        "id": "feMpkRHyMRzL"
      },
      "execution_count": 34,
      "outputs": []
    },
    {
      "cell_type": "code",
      "source": [
        "for i in range(x_barra.size):\n",
        "  IC_x = [x_barra[i] - (np.sqrt((p*(n-1)/(n*(n-p)))*f.ppf(1-alpha, p, n-p))*np.sqrt(S[i][i]/n)), x_barra[i] + (np.sqrt((p*(n-1)/(n*(n-p)))*f.ppf(1-alpha, p, n-p))*np.sqrt(S[i][i]/n))]\n",
        "  print(f\"O intervalo de 95% confiança para mu{i}_barra  ({df.columns[i]}) está entre ({IC_x[0][0]:.4f} , {IC_x[1][0]:.4f})\")"
      ],
      "metadata": {
        "colab": {
          "base_uri": "https://localhost:8080/"
        },
        "id": "RnE_PqftNk-b",
        "outputId": "6be2ee7b-44ac-4033-e8dd-308d8883e685"
      },
      "execution_count": 35,
      "outputs": [
        {
          "output_type": "stream",
          "name": "stdout",
          "text": [
            "O intervalo de 95% confiança para mu0_barra  (Sepal_Length) está entre (5.7975 , 5.8891)\n",
            "O intervalo de 95% confiança para mu1_barra  (Sepal_Width) está entre (3.0145 , 3.1001)\n",
            "O intervalo de 95% confiança para mu2_barra  (Petal_Length) está entre (3.7160 , 3.8000)\n",
            "O intervalo de 95% confiança para mu3_barra  (Petal_Width) está entre (1.1592 , 1.2395)\n"
          ]
        }
      ]
    }
  ]
}